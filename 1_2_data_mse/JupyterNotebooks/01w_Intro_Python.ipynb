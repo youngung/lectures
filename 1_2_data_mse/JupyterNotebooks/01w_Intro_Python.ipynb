{
 "cells": [
  {
   "cell_type": "markdown",
   "metadata": {
    "id": "6wWyeZZZYPGc"
   },
   "source": [
    "# 1. ```데이터 재료과학 입문``` \n",
    "\n",
    "- 수업을 위한 [JuPyter](https://jupyter.org) notebook\n",
    "\n",
    "- [Google colaboratory](https://colab.research.google.com) 와 [Google Drive](https://drive.google.com/) 연계 사용 - Google 계정을 소유하고 있길 권장.\n",
    "\n",
    "- 각자의 컴퓨터에 환경을 set-up할 수 있습니다. (조금의 수고, Googling 등으로 충분히 가능)\n",
    "    + [창원대학교](https://changwon.ac.kr) \n",
    "    + 재료금속공학과 \n",
    "    + [재료역학연구실](https://youngung.github.io)\n",
    "    + [정영웅](mailto:yjeong@changwon.ac.kr)\n",
    "\n",
    "- 참고: [Python reference](https://colab.research.google.com/github/jakevdp/PythonDataScienceHandbook/blob/master/notebooks/Index.ipynb)    "
   ]
  },
  {
   "cell_type": "markdown",
   "metadata": {
    "id": "JB3qRX43YPGm"
   },
   "source": [
    "# 2. Jupyter notebook 간단한 키조작"
   ]
  },
  {
   "cell_type": "markdown",
   "metadata": {
    "id": "87J0k2SjYPGn"
   },
   "source": [
    "- 어딘가의 서버(컴퓨터)가 여러분들의 JuPyter notebook의 '계산'을 수행해 주고 있습니다. (cloud)\n",
    "- Cloud(Google Colabo 등) 실행시, 오랫동안 활동(activity)가 없으면 끊겨요!\n",
    "- 주석(comment)와 명령문 (statement) 구분하기\n",
    "- 셀 개념,\n",
    "  + 코드 셀 (code cell)\n",
    "  + Markdown (cell)\n",
    "- 셀 만들기, 지우기, 입력 (edit mode), 이동 (Navigation mode)\n",
    "- 이동 Navigation\n",
    "    - cell간 이동 (esc키로 navigation mode로 전환)\n",
    "    - cell 수정 모드: cell간 이동 후 enter로 수정모드로 전환\n",
    "    - Navigation모드에서 j키 (아래) k키 (위)\n",
    "    - shift-enter 조합키\n",
    "    - ctrl-enter 조합키\n",
    "- 코드를 가지고 놀다가 뭔가 망쳐서 실행이 잘 안되어요 ㅠㅠ\n",
    "  + Traceback 살펴보기\n",
    "  + [xx] 아웃 넘버링 살펴보기\n",
    "  + **Restart** 이후 **Run All**    "
   ]
  },
  {
   "cell_type": "markdown",
   "metadata": {},
   "source": [
    "# 3. 기초 변수 (variables)"
   ]
  },
  {
   "cell_type": "markdown",
   "metadata": {},
   "source": [
    "## 3-1 변수 \n",
    "  + 정수\n",
    "  + 실수\n",
    "  + 문자\n",
    "  + function/method, 리스트"
   ]
  },
  {
   "cell_type": "code",
   "execution_count": null,
   "metadata": {},
   "outputs": [
    {
     "data": {
      "text/plain": [
       "int"
      ]
     },
     "metadata": {},
     "output_type": "display_data"
    }
   ],
   "source": [
    "type(1)"
   ]
  },
  {
   "cell_type": "code",
   "execution_count": null,
   "metadata": {},
   "outputs": [
    {
     "data": {
      "text/plain": [
       "float"
      ]
     },
     "metadata": {},
     "output_type": "display_data"
    }
   ],
   "source": [
    "type(1.)"
   ]
  },
  {
   "cell_type": "code",
   "execution_count": null,
   "metadata": {},
   "outputs": [
    {
     "data": {
      "text/plain": [
       "float"
      ]
     },
     "metadata": {},
     "output_type": "display_data"
    }
   ],
   "source": [
    "type(3.5)"
   ]
  },
  {
   "cell_type": "code",
   "execution_count": null,
   "metadata": {},
   "outputs": [
    {
     "data": {
      "text/plain": [
       "str"
      ]
     },
     "metadata": {},
     "output_type": "display_data"
    }
   ],
   "source": [
    "type('34')"
   ]
  },
  {
   "cell_type": "code",
   "execution_count": null,
   "metadata": {},
   "outputs": [
    {
     "data": {
      "text/plain": [
       "str"
      ]
     },
     "metadata": {},
     "output_type": "display_data"
    }
   ],
   "source": [
    "type(\"12\")"
   ]
  },
  {
   "cell_type": "code",
   "execution_count": null,
   "metadata": {},
   "outputs": [
    {
     "data": {
      "text/plain": [
       "builtin_function_or_method"
      ]
     },
     "metadata": {},
     "output_type": "display_data"
    }
   ],
   "source": [
    "type(print)"
   ]
  },
  {
   "cell_type": "code",
   "execution_count": null,
   "metadata": {},
   "outputs": [
    {
     "data": {
      "text/plain": [
       "list"
      ]
     },
     "metadata": {},
     "output_type": "display_data"
    }
   ],
   "source": [
    "type([1,3,4])"
   ]
  },
  {
   "cell_type": "code",
   "execution_count": null,
   "metadata": {},
   "outputs": [
    {
     "data": {
      "text/plain": [
       "list"
      ]
     },
     "metadata": {},
     "output_type": "display_data"
    }
   ],
   "source": [
    "type(['1','2','3'])"
   ]
  },
  {
   "cell_type": "code",
   "execution_count": null,
   "metadata": {},
   "outputs": [
    {
     "data": {
      "text/plain": [
       "list"
      ]
     },
     "metadata": {},
     "output_type": "display_data"
    }
   ],
   "source": [
    "type([1,'2',print])"
   ]
  },
  {
   "cell_type": "markdown",
   "metadata": {},
   "source": [
    "## 3-2 변수 선언\n",
    " - 메모리에 할당 (주소)\n",
    " - 이름"
   ]
  },
  {
   "cell_type": "code",
   "execution_count": 120,
   "metadata": {},
   "outputs": [
    {
     "name": "stdout",
     "output_type": "stream",
     "text": [
      "8\n"
     ]
    }
   ],
   "source": [
    "a=3\n",
    "b=5\n",
    "c=a+b # 더하기 연산자 '+'\n",
    "print(c)"
   ]
  },
  {
   "cell_type": "markdown",
   "metadata": {},
   "source": [
    "## 3-3. 문자열 변수"
   ]
  },
  {
   "cell_type": "code",
   "execution_count": 134,
   "metadata": {},
   "outputs": [],
   "source": [
    "a='b'\n",
    "b=\"b\"\n",
    "c='3+8'"
   ]
  },
  {
   "cell_type": "code",
   "execution_count": 124,
   "metadata": {},
   "outputs": [
    {
     "name": "stdout",
     "output_type": "stream",
     "text": [
      "\n",
      "a\n",
      "b\n",
      "c\n",
      "d    \n"
     ]
    }
   ],
   "source": [
    "\"\"\"\n",
    "a\n",
    "b\n",
    "c\n",
    "d\n",
    "\"\"\"\n",
    "print(\"\"\"\n",
    "a\n",
    "b\n",
    "c\n",
    "d    \"\"\")"
   ]
  },
  {
   "cell_type": "code",
   "execution_count": null,
   "metadata": {},
   "outputs": [
    {
     "ename": "TypeError",
     "evalue": "can't multiply sequence by non-int of type 'list'",
     "output_type": "error",
     "traceback": [
      "\u001b[0;31m---------------------------------------------------------------------------\u001b[0m",
      "\u001b[0;31mTypeError\u001b[0m                                 Traceback (most recent call last)",
      "Cell \u001b[0;32mIn[133], line 1\u001b[0m\n\u001b[0;32m----> 1\u001b[0m \u001b[38;5;28mprint\u001b[39m(\u001b[43ma\u001b[49m\u001b[38;5;241;43m*\u001b[39;49m\u001b[43mb\u001b[49m)\n\u001b[1;32m      2\u001b[0m \u001b[38;5;66;03m## 안되는 이유를 Traceback 읽어서 이해하기.\u001b[39;00m\n",
      "\u001b[0;31mTypeError\u001b[0m: can't multiply sequence by non-int of type 'list'"
     ]
    }
   ],
   "source": [
    "a=\"b\"\n",
    "b=\"c\"\n",
    "c=a+b ## + 연산자가 문자열에 적용되면?\n",
    "print(c)\n",
    "print(a*b)\n",
    "## 안되는 이유를 Traceback 읽어서 이해하기."
   ]
  },
  {
   "cell_type": "markdown",
   "metadata": {},
   "source": [
    "## 3-4. 자료형 변수\n",
    " - List, Tuple, Dictionary, ~~set~~ 은 이후 다시 설명"
   ]
  },
  {
   "cell_type": "markdown",
   "metadata": {
    "id": "uWeTXT6OYPGq"
   },
   "source": [
    "# 4. 연산자"
   ]
  },
  {
   "cell_type": "markdown",
   "metadata": {},
   "source": [
    "## 4-1 산술 연산자"
   ]
  },
  {
   "cell_type": "markdown",
   "metadata": {
    "id": "PAepXHvHYPGr"
   },
   "source": [
    "- 더하기(+), 빼기(-), 곱하기(*), 나누기(/), 지수(**), 나머지(%)"
   ]
  },
  {
   "cell_type": "code",
   "execution_count": 110,
   "metadata": {
    "colab": {
     "base_uri": "https://localhost:8080/"
    },
    "executionInfo": {
     "elapsed": 3,
     "status": "ok",
     "timestamp": 1679998589910,
     "user": {
      "displayName": "정영웅",
      "userId": "13427939886910106182"
     },
     "user_tz": -540
    },
    "id": "CeZNBfzTYPGs",
    "outputId": "a8005345-638f-47e2-8c46-ec39ea508f58"
   },
   "outputs": [
    {
     "data": {
      "text/plain": [
       "6"
      ]
     },
     "execution_count": 110,
     "metadata": {},
     "output_type": "execute_result"
    }
   ],
   "source": [
    "3+3 # 더하기"
   ]
  },
  {
   "cell_type": "code",
   "execution_count": 112,
   "metadata": {
    "colab": {
     "base_uri": "https://localhost:8080/"
    },
    "executionInfo": {
     "elapsed": 13,
     "status": "ok",
     "timestamp": 1679998592164,
     "user": {
      "displayName": "정영웅",
      "userId": "13427939886910106182"
     },
     "user_tz": -540
    },
    "id": "2NyL6MoSYPGt",
    "outputId": "15a36f05-6707-4267-dc8b-0618e3e9b47d"
   },
   "outputs": [
    {
     "data": {
      "text/plain": [
       "1"
      ]
     },
     "execution_count": 112,
     "metadata": {},
     "output_type": "execute_result"
    }
   ],
   "source": [
    "3-2 # 빼기"
   ]
  },
  {
   "cell_type": "code",
   "execution_count": 113,
   "metadata": {
    "colab": {
     "base_uri": "https://localhost:8080/"
    },
    "executionInfo": {
     "elapsed": 3,
     "status": "ok",
     "timestamp": 1679998592433,
     "user": {
      "displayName": "정영웅",
      "userId": "13427939886910106182"
     },
     "user_tz": -540
    },
    "id": "TOSJsnZ6YPGu",
    "outputId": "d052bfe9-0b85-4d23-99c2-f36d5cfe2444"
   },
   "outputs": [
    {
     "data": {
      "text/plain": [
       "6"
      ]
     },
     "execution_count": 113,
     "metadata": {},
     "output_type": "execute_result"
    }
   ],
   "source": [
    "2*3 #곱하기"
   ]
  },
  {
   "cell_type": "code",
   "execution_count": 114,
   "metadata": {
    "colab": {
     "base_uri": "https://localhost:8080/"
    },
    "executionInfo": {
     "elapsed": 2,
     "status": "ok",
     "timestamp": 1679998594629,
     "user": {
      "displayName": "정영웅",
      "userId": "13427939886910106182"
     },
     "user_tz": -540
    },
    "id": "Xe_ZMabwYPGu",
    "outputId": "79df98e8-661a-4786-8b3b-974e89553b09"
   },
   "outputs": [
    {
     "data": {
      "text/plain": [
       "0.6666666666666666"
      ]
     },
     "execution_count": 114,
     "metadata": {},
     "output_type": "execute_result"
    }
   ],
   "source": [
    "2/3 #나누기"
   ]
  },
  {
   "cell_type": "code",
   "execution_count": 115,
   "metadata": {
    "colab": {
     "base_uri": "https://localhost:8080/"
    },
    "executionInfo": {
     "elapsed": 7,
     "status": "ok",
     "timestamp": 1679998598061,
     "user": {
      "displayName": "정영웅",
      "userId": "13427939886910106182"
     },
     "user_tz": -540
    },
    "id": "RCqeWU2bYPGw",
    "outputId": "b6e03a3b-ce58-4dfb-dd91-efe408bb532d"
   },
   "outputs": [
    {
     "data": {
      "text/plain": [
       "9"
      ]
     },
     "execution_count": 115,
     "metadata": {},
     "output_type": "execute_result"
    }
   ],
   "source": [
    "3**2 ##지수"
   ]
  },
  {
   "cell_type": "code",
   "execution_count": 79,
   "metadata": {
    "colab": {
     "base_uri": "https://localhost:8080/"
    },
    "executionInfo": {
     "elapsed": 5,
     "status": "ok",
     "timestamp": 1679998598061,
     "user": {
      "displayName": "정영웅",
      "userId": "13427939886910106182"
     },
     "user_tz": -540
    },
    "id": "lwot9cj_YPGx",
    "outputId": "448debe7-b2dc-4155-93bb-43bb34d320c2"
   },
   "outputs": [
    {
     "data": {
      "text/plain": [
       "1.4142135623730951"
      ]
     },
     "execution_count": 79,
     "metadata": {},
     "output_type": "execute_result"
    }
   ],
   "source": [
    "2**0.5"
   ]
  },
  {
   "cell_type": "code",
   "execution_count": 116,
   "metadata": {},
   "outputs": [
    {
     "data": {
      "text/plain": [
       "1"
      ]
     },
     "execution_count": 116,
     "metadata": {},
     "output_type": "execute_result"
    }
   ],
   "source": [
    "10%3 #10 나누기 3의 나머지"
   ]
  },
  {
   "cell_type": "markdown",
   "metadata": {
    "id": "mJKTRMSNYPGx"
   },
   "source": [
    "- 연산 결과를 사용하고 싶다면?\n",
    "  + ```Out``` 변수를 사용해보세요"
   ]
  },
  {
   "cell_type": "code",
   "execution_count": 117,
   "metadata": {
    "colab": {
     "base_uri": "https://localhost:8080/"
    },
    "executionInfo": {
     "elapsed": 433,
     "status": "ok",
     "timestamp": 1679998647543,
     "user": {
      "displayName": "정영웅",
      "userId": "13427939886910106182"
     },
     "user_tz": -540
    },
    "id": "4tj_Jth4uOeu",
    "outputId": "1a3805a3-6879-49aa-b8b5-3750f3d6ed1a"
   },
   "outputs": [
    {
     "data": {
      "text/plain": [
       "{2: 'ok',\n",
       " 3: <module 'numpy' from '/Users/youngung/.pyenv/versions/3.12.1/lib/python3.12/site-packages/numpy/__init__.py'>,\n",
       " 4: '/Users/youngung/.pyenv/versions/3.12.1/lib/python3.12/site-packages/numpy/__init__.py',\n",
       " 7: 'ok',\n",
       " 8: 'ok',\n",
       " 9: 'ok',\n",
       " 10: 'ok',\n",
       " 11: 6,\n",
       " 12: 1,\n",
       " 13: 6,\n",
       " 14: 0.6666666666666666,\n",
       " 15: 9,\n",
       " 16: 1.4142135623730951,\n",
       " 17: 'ok',\n",
       " 18: dict,\n",
       " 19: 'ok',\n",
       " 20: 'ok',\n",
       " 21: 12.727922061357857,\n",
       " 22: 'ok',\n",
       " 23: 'ok',\n",
       " 24: 'ok',\n",
       " 25: '\\na\\nb\\nc\\nd\\n',\n",
       " 26: 'ok',\n",
       " 27: int,\n",
       " 28: float,\n",
       " 29: float,\n",
       " 30: str,\n",
       " 31: str,\n",
       " 32: builtin_function_or_method,\n",
       " 33: list,\n",
       " 34: list,\n",
       " 35: list,\n",
       " 36: list,\n",
       " 37: 'ok',\n",
       " 38: 'ok',\n",
       " 40: list,\n",
       " 44: list,\n",
       " 45: [1, 2, 3, 4, 5, 6, 7],\n",
       " 48: [1, 2, 3, 4, 5, 6, 7],\n",
       " 50: [1, 2, 3, 4, 5, 6, 7],\n",
       " 55: 4,\n",
       " 57: 65,\n",
       " 58: 0.1,\n",
       " 62: numpy.ndarray,\n",
       " 65: numpy.ndarray,\n",
       " 74: 6,\n",
       " 75: 1,\n",
       " 76: 6,\n",
       " 77: 0.6666666666666666,\n",
       " 78: 9,\n",
       " 79: 1.4142135623730951,\n",
       " 81: 12.727922061357857,\n",
       " 84: '\\na\\nb\\nc\\nd\\n',\n",
       " 86: int,\n",
       " 87: float,\n",
       " 88: float,\n",
       " 89: str,\n",
       " 90: str,\n",
       " 91: builtin_function_or_method,\n",
       " 92: list,\n",
       " 93: list,\n",
       " 94: list,\n",
       " 95: 'ok',\n",
       " 96: 'ok',\n",
       " 97: 'ok',\n",
       " 98: 'ok',\n",
       " 99: 'ok',\n",
       " 100: 'ok',\n",
       " 101: 'ok',\n",
       " 102: 'ok',\n",
       " 103: 3,\n",
       " 104: 1,\n",
       " 105: 3,\n",
       " 106: 1,\n",
       " 107: 0,\n",
       " 108: 0,\n",
       " 109: 1,\n",
       " 110: 6,\n",
       " 111: 1,\n",
       " 112: 1,\n",
       " 113: 6,\n",
       " 114: 0.6666666666666666,\n",
       " 115: 9,\n",
       " 116: 1,\n",
       " 117: 'ok'}"
      ]
     },
     "execution_count": 117,
     "metadata": {},
     "output_type": "execute_result"
    }
   ],
   "source": [
    "Out"
   ]
  },
  {
   "cell_type": "code",
   "execution_count": 81,
   "metadata": {
    "colab": {
     "base_uri": "https://localhost:8080/"
    },
    "executionInfo": {
     "elapsed": 4,
     "status": "ok",
     "timestamp": 1678791356074,
     "user": {
      "displayName": "정영웅",
      "userId": "13427939886910106182"
     },
     "user_tz": -540
    },
    "id": "f1wrhLfPYPGy",
    "outputId": "c605ef9e-896f-40df-c708-41a0cfbc0008"
   },
   "outputs": [
    {
     "data": {
      "text/plain": [
       "12.727922061357857"
      ]
     },
     "execution_count": 81,
     "metadata": {},
     "output_type": "execute_result"
    }
   ],
   "source": [
    "Out[15]*2**0.5"
   ]
  },
  {
   "cell_type": "markdown",
   "metadata": {},
   "source": [
    "+ Jupyter 탭의 'Jupyter variables' 살펴보기"
   ]
  },
  {
   "cell_type": "markdown",
   "metadata": {
    "id": "somMCsDqYPGy"
   },
   "source": [
    "## 4-2. 비교 연산자"
   ]
  },
  {
   "cell_type": "code",
   "execution_count": 95,
   "metadata": {},
   "outputs": [
    {
     "name": "stdout",
     "output_type": "stream",
     "text": [
      "True\n"
     ]
    }
   ],
   "source": [
    "print(5 == 5)       # True (값이 같음)"
   ]
  },
  {
   "cell_type": "code",
   "execution_count": 96,
   "metadata": {},
   "outputs": [
    {
     "name": "stdout",
     "output_type": "stream",
     "text": [
      "True\n"
     ]
    }
   ],
   "source": [
    "print(5 != 3)       # True (값이 다름)"
   ]
  },
  {
   "cell_type": "code",
   "execution_count": 97,
   "metadata": {},
   "outputs": [
    {
     "name": "stdout",
     "output_type": "stream",
     "text": [
      "True\n"
     ]
    }
   ],
   "source": [
    "print(7 > 2)        # True (7이 2보다 큼)"
   ]
  },
  {
   "cell_type": "code",
   "execution_count": 98,
   "metadata": {},
   "outputs": [
    {
     "name": "stdout",
     "output_type": "stream",
     "text": [
      "True\n"
     ]
    }
   ],
   "source": [
    "print(3 < 7)        # True (3이 7보다 작음)"
   ]
  },
  {
   "cell_type": "code",
   "execution_count": 99,
   "metadata": {},
   "outputs": [
    {
     "name": "stdout",
     "output_type": "stream",
     "text": [
      "True\n"
     ]
    }
   ],
   "source": [
    "print(5 >= 5)       # True (5가 5보다 크거나 같음)"
   ]
  },
  {
   "cell_type": "code",
   "execution_count": 100,
   "metadata": {},
   "outputs": [
    {
     "name": "stdout",
     "output_type": "stream",
     "text": [
      "True\n"
     ]
    }
   ],
   "source": [
    "print(4 <= 6)       # True (4가 6보다 작거나 같음)"
   ]
  },
  {
   "cell_type": "code",
   "execution_count": 121,
   "metadata": {},
   "outputs": [
    {
     "name": "stdout",
     "output_type": "stream",
     "text": [
      "Hello, world  (1)\n"
     ]
    }
   ],
   "source": [
    "print('Hello, world  (1)')\n"
   ]
  },
  {
   "cell_type": "code",
   "execution_count": 123,
   "metadata": {},
   "outputs": [
    {
     "name": "stdout",
     "output_type": "stream",
     "text": [
      "1 2 3 4\n"
     ]
    }
   ],
   "source": [
    "print(1,2,3,4)"
   ]
  },
  {
   "cell_type": "markdown",
   "metadata": {},
   "source": [
    "## 2. 객체 동일성 비교"
   ]
  },
  {
   "cell_type": "code",
   "execution_count": 132,
   "metadata": {},
   "outputs": [],
   "source": [
    "a = [1, 2, 3]\n",
    "b = [1, 2, 3]\n",
    "c = a"
   ]
  },
  {
   "cell_type": "code",
   "execution_count": null,
   "metadata": {},
   "outputs": [],
   "source": [
    "\n",
    "print(a == b)       # True  (값이 같음)\n",
    "print(a is b)       # False (메모리 주소 다름)\n",
    "print(a is c)       # True  (같은 객체)\n",
    "print(a is not b)   # True  (다른 객체)\n",
    "\n",
    "# 3. 포함 여부\n",
    "text = \"cat\"\n",
    "print(\"a\" in text)      # True  ('a'가 문자열에 포함됨)\n",
    "print(\"z\" not in text)  # True  ('z'가 문자열에 없음)\n",
    "\n",
    "numbers = [1, 2, 3]\n",
    "print(2 in numbers)     # True  (리스트에 2가 포함됨)\n",
    "print(5 not in numbers) # True  (리스트에 5가 없음)"
   ]
  },
  {
   "cell_type": "markdown",
   "metadata": {
    "id": "A8SP_nAjYPG5"
   },
   "source": [
    "- List 내의 element"
   ]
  },
  {
   "cell_type": "code",
   "execution_count": 40,
   "metadata": {
    "colab": {
     "base_uri": "https://localhost:8080/"
    },
    "executionInfo": {
     "elapsed": 621,
     "status": "ok",
     "timestamp": 1679998736056,
     "user": {
      "displayName": "정영웅",
      "userId": "13427939886910106182"
     },
     "user_tz": -540
    },
    "id": "nH32ALoA0K-S",
    "outputId": "354ac091-3034-4730-ee4a-66dce96e6408"
   },
   "outputs": [
    {
     "data": {
      "text/plain": [
       "list"
      ]
     },
     "execution_count": 40,
     "metadata": {},
     "output_type": "execute_result"
    }
   ],
   "source": [
    "type([])"
   ]
  },
  {
   "cell_type": "code",
   "execution_count": 41,
   "metadata": {
    "id": "YxUM3U6U0eLx"
   },
   "outputs": [],
   "source": [
    "b=45"
   ]
  },
  {
   "cell_type": "code",
   "execution_count": 42,
   "metadata": {
    "colab": {
     "base_uri": "https://localhost:8080/"
    },
    "executionInfo": {
     "elapsed": 2,
     "status": "ok",
     "timestamp": 1679998750258,
     "user": {
      "displayName": "정영웅",
      "userId": "13427939886910106182"
     },
     "user_tz": -540
    },
    "id": "kBMy9X2B0iaR",
    "outputId": "8c64acc6-abf1-49d2-c586-f13650c7f8b9"
   },
   "outputs": [
    {
     "name": "stdout",
     "output_type": "stream",
     "text": [
      "45\n"
     ]
    }
   ],
   "source": [
    "print(b)"
   ]
  },
  {
   "cell_type": "code",
   "execution_count": 43,
   "metadata": {
    "colab": {
     "base_uri": "https://localhost:8080/"
    },
    "executionInfo": {
     "elapsed": 305,
     "status": "ok",
     "timestamp": 1679998780927,
     "user": {
      "displayName": "정영웅",
      "userId": "13427939886910106182"
     },
     "user_tz": -540
    },
    "id": "TaFrHvbMYPG6",
    "outputId": "820113d9-5db9-400e-c7a6-0f979443c8e4"
   },
   "outputs": [
    {
     "name": "stdout",
     "output_type": "stream",
     "text": [
      "첫번째 element: 1\n",
      "두번째 element: 2\n",
      "세번째 element: 3\n",
      "마지막 element: 6\n"
     ]
    }
   ],
   "source": [
    "a=[1,2,3,4,5,6]\n",
    "print('첫번째 element:',a[0])\n",
    "print('두번째 element:',a[1])\n",
    "print('세번째 element:',a[2])\n",
    "print('마지막 element:',a[-1])"
   ]
  },
  {
   "cell_type": "code",
   "execution_count": 44,
   "metadata": {
    "colab": {
     "base_uri": "https://localhost:8080/"
    },
    "executionInfo": {
     "elapsed": 7,
     "status": "ok",
     "timestamp": 1679998781223,
     "user": {
      "displayName": "정영웅",
      "userId": "13427939886910106182"
     },
     "user_tz": -540
    },
    "id": "8T74cqpC1RUx",
    "outputId": "62475ca0-7fb9-4b69-d1bf-f7385da6affa"
   },
   "outputs": [
    {
     "data": {
      "text/plain": [
       "list"
      ]
     },
     "execution_count": 44,
     "metadata": {},
     "output_type": "execute_result"
    }
   ],
   "source": [
    "type(a)"
   ]
  },
  {
   "cell_type": "code",
   "execution_count": 45,
   "metadata": {
    "colab": {
     "base_uri": "https://localhost:8080/"
    },
    "executionInfo": {
     "elapsed": 6,
     "status": "ok",
     "timestamp": 1679998781223,
     "user": {
      "displayName": "정영웅",
      "userId": "13427939886910106182"
     },
     "user_tz": -540
    },
    "id": "Zb71ElPm2I9H",
    "outputId": "8894006d-e0ee-4ded-f169-e60d28b99d34"
   },
   "outputs": [
    {
     "data": {
      "text/plain": [
       "[1, 2, 3, 4, 5, 6]"
      ]
     },
     "execution_count": 45,
     "metadata": {},
     "output_type": "execute_result"
    }
   ],
   "source": [
    "a"
   ]
  },
  {
   "cell_type": "code",
   "execution_count": null,
   "metadata": {
    "colab": {
     "base_uri": "https://localhost:8080/"
    },
    "executionInfo": {
     "elapsed": 6,
     "status": "ok",
     "timestamp": 1678792823165,
     "user": {
      "displayName": "정영웅",
      "userId": "13427939886910106182"
     },
     "user_tz": -540
    },
    "id": "Cg42dVKg2TNH",
    "outputId": "a0f27e94-0db2-469e-c711-2b968b4ce34f"
   },
   "outputs": [],
   "source": []
  },
  {
   "cell_type": "code",
   "execution_count": 46,
   "metadata": {
    "id": "Z4IlGiRQ2CpJ"
   },
   "outputs": [],
   "source": [
    "a.reverse()"
   ]
  },
  {
   "cell_type": "code",
   "execution_count": 47,
   "metadata": {
    "id": "3cfEAjO53AcW"
   },
   "outputs": [],
   "source": [
    "a.reverse()"
   ]
  },
  {
   "cell_type": "code",
   "execution_count": 48,
   "metadata": {
    "colab": {
     "base_uri": "https://localhost:8080/"
    },
    "executionInfo": {
     "elapsed": 314,
     "status": "ok",
     "timestamp": 1679998820215,
     "user": {
      "displayName": "정영웅",
      "userId": "13427939886910106182"
     },
     "user_tz": -540
    },
    "id": "XqPqPtvz3GWY",
    "outputId": "7cf7137b-08ae-4498-e90e-ee813cc24e3f"
   },
   "outputs": [
    {
     "data": {
      "text/plain": [
       "[1, 2, 3, 4, 5, 6]"
      ]
     },
     "execution_count": 48,
     "metadata": {},
     "output_type": "execute_result"
    }
   ],
   "source": [
    "a"
   ]
  },
  {
   "cell_type": "code",
   "execution_count": 49,
   "metadata": {
    "id": "xkiAKSJM1WcS"
   },
   "outputs": [],
   "source": [
    "a.append(7)"
   ]
  },
  {
   "cell_type": "code",
   "execution_count": 50,
   "metadata": {
    "colab": {
     "base_uri": "https://localhost:8080/"
    },
    "executionInfo": {
     "elapsed": 3,
     "status": "ok",
     "timestamp": 1679998829201,
     "user": {
      "displayName": "정영웅",
      "userId": "13427939886910106182"
     },
     "user_tz": -540
    },
    "id": "eOZVJrT52LRq",
    "outputId": "d6ac26a0-679b-4a95-fd29-fe584b5154f7"
   },
   "outputs": [
    {
     "data": {
      "text/plain": [
       "[1, 2, 3, 4, 5, 6, 7]"
      ]
     },
     "execution_count": 50,
     "metadata": {},
     "output_type": "execute_result"
    }
   ],
   "source": [
    "a"
   ]
  },
  {
   "cell_type": "code",
   "execution_count": null,
   "metadata": {},
   "outputs": [
    {
     "data": {
      "text/plain": [
       "28.0"
      ]
     },
     "execution_count": 137,
     "metadata": {},
     "output_type": "execute_result"
    }
   ],
   "source": [
    "def get_sum(*args):\n",
    "    sum=0.\n",
    "    for arg in args:\n",
    "        sum=sum+arg\n",
    "    return sum"
   ]
  },
  {
   "cell_type": "markdown",
   "metadata": {
    "id": "QqJ4__gqhn6Y"
   },
   "source": [
    "## More methods for python list type\n",
    "-  append\n",
    "- extend\n",
    "- ...\n",
    "- More can be found in [reference](https://docs.python.org/3/tutorial/datastructures.html)"
   ]
  },
  {
   "cell_type": "markdown",
   "metadata": {
    "id": "op6ZV22ph6_k"
   },
   "source": [
    "# list comprehensions"
   ]
  },
  {
   "cell_type": "code",
   "execution_count": 51,
   "metadata": {
    "colab": {
     "base_uri": "https://localhost:8080/"
    },
    "executionInfo": {
     "elapsed": 389,
     "status": "ok",
     "timestamp": 1679999139847,
     "user": {
      "displayName": "정영웅",
      "userId": "13427939886910106182"
     },
     "user_tz": -540
    },
    "id": "utuFbC_5vJyB",
    "outputId": "05ebe49d-7e8b-412b-c970-65ce7ad7becf"
   },
   "outputs": [
    {
     "name": "stdout",
     "output_type": "stream",
     "text": [
      "hi\n",
      "hi\n",
      "hi\n",
      "a\n"
     ]
    }
   ],
   "source": [
    "for i in [3,4,5]:\n",
    "  print('hi')\n",
    "print('a')"
   ]
  },
  {
   "cell_type": "code",
   "execution_count": 52,
   "metadata": {
    "colab": {
     "base_uri": "https://localhost:8080/"
    },
    "executionInfo": {
     "elapsed": 11,
     "status": "ok",
     "timestamp": 1679999375743,
     "user": {
      "displayName": "정영웅",
      "userId": "13427939886910106182"
     },
     "user_tz": -540
    },
    "id": "q7Heihq_wshQ",
    "outputId": "6c64dbab-e3bc-4ee2-bf51-6e92fd95b95e"
   },
   "outputs": [
    {
     "name": "stdout",
     "output_type": "stream",
     "text": [
      "5\n",
      "7\n",
      "9\n"
     ]
    }
   ],
   "source": [
    "for x in range(5,11,2):\n",
    "  print(x)"
   ]
  },
  {
   "cell_type": "code",
   "execution_count": 53,
   "metadata": {
    "colab": {
     "base_uri": "https://localhost:8080/"
    },
    "executionInfo": {
     "elapsed": 1395,
     "status": "ok",
     "timestamp": 1679999462616,
     "user": {
      "displayName": "정영웅",
      "userId": "13427939886910106182"
     },
     "user_tz": -540
    },
    "id": "t-cjDgOoh5gK",
    "outputId": "31793cde-f786-4749-f69c-f88c51006f34"
   },
   "outputs": [
    {
     "name": "stdout",
     "output_type": "stream",
     "text": [
      "[0, 1, 4, 9, 16, 25, 36, 49, 64, 81]\n"
     ]
    }
   ],
   "source": [
    "squares = []\n",
    "for x in range(10):\n",
    "  squares.append(x**2)\n",
    "print(squares)"
   ]
  },
  {
   "cell_type": "code",
   "execution_count": 54,
   "metadata": {
    "id": "62PKaOckiLA1"
   },
   "outputs": [],
   "source": [
    "squares=[x**2 for x in range(10)]"
   ]
  },
  {
   "cell_type": "code",
   "execution_count": 55,
   "metadata": {
    "colab": {
     "base_uri": "https://localhost:8080/"
    },
    "executionInfo": {
     "elapsed": 5,
     "status": "ok",
     "timestamp": 1679999672543,
     "user": {
      "displayName": "정영웅",
      "userId": "13427939886910106182"
     },
     "user_tz": -540
    },
    "id": "StdytKFnx2ZB",
    "outputId": "fffe265b-df28-4897-9ddb-7818496ecbc8"
   },
   "outputs": [
    {
     "data": {
      "text/plain": [
       "4"
      ]
     },
     "execution_count": 55,
     "metadata": {},
     "output_type": "execute_result"
    }
   ],
   "source": [
    "squares[2]"
   ]
  },
  {
   "cell_type": "markdown",
   "metadata": {
    "id": "JiEerAs1iAvB"
   },
   "source": [
    "# dictionary\n",
    " - pair of key and value.\n",
    " - indexed by 'key'\n",
    " - {}"
   ]
  },
  {
   "cell_type": "code",
   "execution_count": 56,
   "metadata": {
    "id": "M_S6nsn0jfHu"
   },
   "outputs": [],
   "source": [
    "a={'name':\"John\",'mass':65}\n",
    "\n",
    "steel={'name':'304STS','density':6.7,'price':10,'CTE':[0.1,0.1,0.1]}"
   ]
  },
  {
   "cell_type": "code",
   "execution_count": 57,
   "metadata": {
    "colab": {
     "base_uri": "https://localhost:8080/"
    },
    "executionInfo": {
     "elapsed": 3,
     "status": "ok",
     "timestamp": 1679999867420,
     "user": {
      "displayName": "정영웅",
      "userId": "13427939886910106182"
     },
     "user_tz": -540
    },
    "id": "K6g74h5h37a2",
    "outputId": "f111c7c3-9c20-4fe1-c4ad-2a80b8affaef"
   },
   "outputs": [
    {
     "data": {
      "text/plain": [
       "65"
      ]
     },
     "execution_count": 57,
     "metadata": {},
     "output_type": "execute_result"
    }
   ],
   "source": [
    "a.get('mass')"
   ]
  },
  {
   "cell_type": "code",
   "execution_count": 58,
   "metadata": {
    "colab": {
     "base_uri": "https://localhost:8080/"
    },
    "executionInfo": {
     "elapsed": 485,
     "status": "ok",
     "timestamp": 1679999896558,
     "user": {
      "displayName": "정영웅",
      "userId": "13427939886910106182"
     },
     "user_tz": -540
    },
    "id": "RFwmEVRHy5l5",
    "outputId": "8b7c3445-37ad-4bd1-adec-1ad580c1803e"
   },
   "outputs": [
    {
     "data": {
      "text/plain": [
       "0.1"
      ]
     },
     "execution_count": 58,
     "metadata": {},
     "output_type": "execute_result"
    }
   ],
   "source": [
    "steel.get('CTE')[0]"
   ]
  },
  {
   "cell_type": "markdown",
   "metadata": {
    "id": "PnZCBqF5sPj5"
   },
   "source": [
    "## Quest 다음을 예상해보자."
   ]
  },
  {
   "cell_type": "markdown",
   "metadata": {
    "id": "SiDEFmaJsdSM"
   },
   "source": [
    "Q1"
   ]
  },
  {
   "cell_type": "code",
   "execution_count": 59,
   "metadata": {
    "colab": {
     "base_uri": "https://localhost:8080/"
    },
    "executionInfo": {
     "elapsed": 3,
     "status": "ok",
     "timestamp": 1678793459990,
     "user": {
      "displayName": "정영웅",
      "userId": "13427939886910106182"
     },
     "user_tz": -540
    },
    "id": "R7ZryWW9sKnP",
    "outputId": "8403f1ce-22b5-4018-83a2-d88021f9d345"
   },
   "outputs": [
    {
     "name": "stdout",
     "output_type": "stream",
     "text": [
      "34\n"
     ]
    }
   ],
   "source": [
    "a=[3,4,5,10,-4,'34','d',-1,3.5]\n",
    "print(a[-4])"
   ]
  },
  {
   "cell_type": "markdown",
   "metadata": {
    "id": "3plTNZlhslDB"
   },
   "source": [
    "Q2"
   ]
  },
  {
   "cell_type": "code",
   "execution_count": 60,
   "metadata": {
    "colab": {
     "base_uri": "https://localhost:8080/"
    },
    "executionInfo": {
     "elapsed": 265,
     "status": "ok",
     "timestamp": 1678793521505,
     "user": {
      "displayName": "정영웅",
      "userId": "13427939886910106182"
     },
     "user_tz": -540
    },
    "id": "SWETWFD6saY3",
    "outputId": "a2b6e979-286f-461e-a732-bb8b32f890e1"
   },
   "outputs": [
    {
     "name": "stdout",
     "output_type": "stream",
     "text": [
      "<class 'int'>\n"
     ]
    }
   ],
   "source": [
    "print(type(a[3]))"
   ]
  },
  {
   "cell_type": "markdown",
   "metadata": {
    "id": "93IFwoG3YPG6"
   },
   "source": [
    "# [NumPy](https://numpy.org)\n",
    "NumPy는 Python 커뮤니티에서 Scientific array의 계산 등에 널리 쓰이는 package. 최근 [Chan Zuckerberg Initiative](https://chanzuckerberg.com)의 Grant 수여"
   ]
  },
  {
   "cell_type": "markdown",
   "metadata": {
    "id": "xWWhvr6oYPG7"
   },
   "source": [
    "- 배열(array)를 활용해 vector나 tensor처럼 '데이터'를 저장할 수 있다. \n",
    "\n",
    "- 앞으로 벡터와 tensor의 구분은 희미해지고, 모두 배열을 통해 vector 그리고 tensor 연산을 하는 것을 볼 수 있다."
   ]
  },
  {
   "cell_type": "code",
   "execution_count": 61,
   "metadata": {
    "executionInfo": {
     "elapsed": 372,
     "status": "ok",
     "timestamp": 1680603675960,
     "user": {
      "displayName": "정영웅",
      "userId": "13427939886910106182"
     },
     "user_tz": -540
    },
    "id": "WPSqtE-BYPG7"
   },
   "outputs": [],
   "source": [
    "a=np.array([1,2,34]) ## 1,2,34로 이루어진 '리스트' 변수를 NumPy 배열 (numpy array)로 변환하여 a라는 변수에 저장"
   ]
  },
  {
   "cell_type": "code",
   "execution_count": 62,
   "metadata": {
    "colab": {
     "base_uri": "https://localhost:8080/"
    },
    "executionInfo": {
     "elapsed": 21,
     "status": "ok",
     "timestamp": 1680603676616,
     "user": {
      "displayName": "정영웅",
      "userId": "13427939886910106182"
     },
     "user_tz": -540
    },
    "id": "bIAKtbn87wRV",
    "outputId": "bfd7d61d-8b08-44e8-802f-e4f130413508"
   },
   "outputs": [
    {
     "data": {
      "text/plain": [
       "numpy.ndarray"
      ]
     },
     "execution_count": 62,
     "metadata": {},
     "output_type": "execute_result"
    }
   ],
   "source": [
    "type(a)"
   ]
  },
  {
   "cell_type": "markdown",
   "metadata": {
    "id": "KHwqVL6FYPG7"
   },
   "source": [
    "- 출력을 하면..."
   ]
  },
  {
   "cell_type": "code",
   "execution_count": 63,
   "metadata": {
    "colab": {
     "base_uri": "https://localhost:8080/"
    },
    "executionInfo": {
     "elapsed": 21,
     "status": "ok",
     "timestamp": 1680603676617,
     "user": {
      "displayName": "정영웅",
      "userId": "13427939886910106182"
     },
     "user_tz": -540
    },
    "id": "cjf8yLQjYPG8",
    "outputId": "68ac5d56-c113-413c-a9d9-160d96c47518"
   },
   "outputs": [
    {
     "name": "stdout",
     "output_type": "stream",
     "text": [
      "[ 1  2 34]\n"
     ]
    }
   ],
   "source": [
    "print(a)"
   ]
  },
  {
   "cell_type": "markdown",
   "metadata": {
    "id": "3n7c9uf9YPG8"
   },
   "source": [
    "- 3x3 행렬?"
   ]
  },
  {
   "cell_type": "code",
   "execution_count": 64,
   "metadata": {
    "executionInfo": {
     "elapsed": 22,
     "status": "ok",
     "timestamp": 1680603676618,
     "user": {
      "displayName": "정영웅",
      "userId": "13427939886910106182"
     },
     "user_tz": -540
    },
    "id": "rM8MasFDYPG8"
   },
   "outputs": [],
   "source": [
    "a=[ [1,2,3],[4,5,6],[7,8,9] ] ## 3x3 행렬의 '리스트' 변수를 a에 저장\n",
    "a=np.array(a)## 변수a를 NumPy 배열로 변환하여 다시 변수 a에 저장"
   ]
  },
  {
   "cell_type": "code",
   "execution_count": 65,
   "metadata": {
    "colab": {
     "base_uri": "https://localhost:8080/"
    },
    "executionInfo": {
     "elapsed": 23,
     "status": "ok",
     "timestamp": 1680603676620,
     "user": {
      "displayName": "정영웅",
      "userId": "13427939886910106182"
     },
     "user_tz": -540
    },
    "id": "M1jZ7rid_wsz",
    "outputId": "a015c04e-058a-48ec-b706-adda0498766c"
   },
   "outputs": [
    {
     "data": {
      "text/plain": [
       "numpy.ndarray"
      ]
     },
     "execution_count": 65,
     "metadata": {},
     "output_type": "execute_result"
    }
   ],
   "source": [
    "type(a)"
   ]
  },
  {
   "cell_type": "code",
   "execution_count": 66,
   "metadata": {
    "colab": {
     "base_uri": "https://localhost:8080/"
    },
    "executionInfo": {
     "elapsed": 24,
     "status": "ok",
     "timestamp": 1680603676621,
     "user": {
      "displayName": "정영웅",
      "userId": "13427939886910106182"
     },
     "user_tz": -540
    },
    "id": "OQtGh-9AYPG9",
    "outputId": "c0e35680-06a5-49a0-b425-75b5102b8554"
   },
   "outputs": [
    {
     "name": "stdout",
     "output_type": "stream",
     "text": [
      "[[1 2 3]\n",
      " [4 5 6]\n",
      " [7 8 9]]\n"
     ]
    }
   ],
   "source": [
    "print(a)"
   ]
  },
  {
   "cell_type": "markdown",
   "metadata": {
    "id": "pV2TkR8HYPG9"
   },
   "source": [
    "- 행렬의 구성성분값? "
   ]
  },
  {
   "cell_type": "code",
   "execution_count": 67,
   "metadata": {
    "colab": {
     "base_uri": "https://localhost:8080/"
    },
    "executionInfo": {
     "elapsed": 23,
     "status": "ok",
     "timestamp": 1680603676621,
     "user": {
      "displayName": "정영웅",
      "userId": "13427939886910106182"
     },
     "user_tz": -540
    },
    "id": "1uXMWmlkYPG9",
    "outputId": "714b50dd-7cb7-4f62-c96b-282b810c12c4"
   },
   "outputs": [
    {
     "name": "stdout",
     "output_type": "stream",
     "text": [
      "1번째 행의 1번째 렬의 구성성분값?: 1\n"
     ]
    }
   ],
   "source": [
    "print(\"1번째 행의 1번째 렬의 구성성분값?:\",a[0,0])"
   ]
  },
  {
   "cell_type": "code",
   "execution_count": 68,
   "metadata": {
    "colab": {
     "base_uri": "https://localhost:8080/"
    },
    "executionInfo": {
     "elapsed": 24,
     "status": "ok",
     "timestamp": 1680603676622,
     "user": {
      "displayName": "정영웅",
      "userId": "13427939886910106182"
     },
     "user_tz": -540
    },
    "id": "f7gCm-8YYPG-",
    "outputId": "4a7cdad8-3ab5-440b-e95d-e16f0bd91599"
   },
   "outputs": [
    {
     "name": "stdout",
     "output_type": "stream",
     "text": [
      "3번째 행의 2번째 렬의 구성성분값?: 8\n"
     ]
    }
   ],
   "source": [
    "print(\"3번째 행의 2번째 렬의 구성성분값?:\",a[2,1])"
   ]
  },
  {
   "cell_type": "code",
   "execution_count": 69,
   "metadata": {
    "colab": {
     "base_uri": "https://localhost:8080/"
    },
    "executionInfo": {
     "elapsed": 23,
     "status": "ok",
     "timestamp": 1680603676622,
     "user": {
      "displayName": "정영웅",
      "userId": "13427939886910106182"
     },
     "user_tz": -540
    },
    "id": "DbmAGQ9AYPG-",
    "outputId": "cb4c7324-2110-45de-8cbd-fada7a973ea0"
   },
   "outputs": [
    {
     "name": "stdout",
     "output_type": "stream",
     "text": [
      "1번째 행의 3번째 렬의 구성성분값?: 3\n"
     ]
    }
   ],
   "source": [
    "i=1\n",
    "j=3\n",
    "print('%i번째 행의 %i번째 렬의 구성성분값?:'%(i,j),a[i-1,j-1])"
   ]
  },
  {
   "cell_type": "markdown",
   "metadata": {
    "id": "wywsr_DQYPG_"
   },
   "source": [
    "- NumPy 배열(array)의 List 와의 차별성"
   ]
  },
  {
   "cell_type": "code",
   "execution_count": 70,
   "metadata": {
    "colab": {
     "base_uri": "https://localhost:8080/"
    },
    "executionInfo": {
     "elapsed": 22,
     "status": "ok",
     "timestamp": 1680603676622,
     "user": {
      "displayName": "정영웅",
      "userId": "13427939886910106182"
     },
     "user_tz": -540
    },
    "id": "7xIlU32uYPG_",
    "outputId": "062a522f-18d1-4394-a2d0-8ba4dc0e01a8"
   },
   "outputs": [
    {
     "name": "stdout",
     "output_type": "stream",
     "text": [
      "5\n",
      "5\n"
     ]
    }
   ],
   "source": [
    "a=[[3,4,5],[3,4,5],[1,32,3]]\n",
    "#a[0,2] # this is not working, instead\n",
    "print(a[0][2])\n",
    "\n",
    "b=np.array(a) # store list a to numpy array b\n",
    "print(b[0,2])"
   ]
  },
  {
   "cell_type": "code",
   "execution_count": 71,
   "metadata": {
    "colab": {
     "base_uri": "https://localhost:8080/",
     "height": 173
    },
    "executionInfo": {
     "elapsed": 21,
     "status": "error",
     "timestamp": 1680603676622,
     "user": {
      "displayName": "정영웅",
      "userId": "13427939886910106182"
     },
     "user_tz": -540
    },
    "id": "C3BGEHluBMaE",
    "outputId": "b2b5373c-29d9-4557-f106-e5093015548f"
   },
   "outputs": [
    {
     "ename": "TypeError",
     "evalue": "list indices must be integers or slices, not tuple",
     "output_type": "error",
     "traceback": [
      "\u001b[0;31m---------------------------------------------------------------------------\u001b[0m",
      "\u001b[0;31mTypeError\u001b[0m                                 Traceback (most recent call last)",
      "Cell \u001b[0;32mIn[71], line 1\u001b[0m\n\u001b[0;32m----> 1\u001b[0m \u001b[43ma\u001b[49m\u001b[43m[\u001b[49m\u001b[38;5;241;43m0\u001b[39;49m\u001b[43m,\u001b[49m\u001b[38;5;241;43m2\u001b[39;49m\u001b[43m]\u001b[49m\n",
      "\u001b[0;31mTypeError\u001b[0m: list indices must be integers or slices, not tuple"
     ]
    }
   ],
   "source": [
    "a[0,2]"
   ]
  },
  {
   "cell_type": "markdown",
   "metadata": {
    "id": "2-HITAAOYPG_"
   },
   "source": [
    "- slicing"
   ]
  },
  {
   "cell_type": "code",
   "execution_count": null,
   "metadata": {
    "executionInfo": {
     "elapsed": 21,
     "status": "aborted",
     "timestamp": 1680603676623,
     "user": {
      "displayName": "정영웅",
      "userId": "13427939886910106182"
     },
     "user_tz": -540
    },
    "id": "AAYCPVcnYPG_"
   },
   "outputs": [],
   "source": [
    "print(b)"
   ]
  },
  {
   "cell_type": "code",
   "execution_count": null,
   "metadata": {
    "executionInfo": {
     "elapsed": 21,
     "status": "aborted",
     "timestamp": 1680603676623,
     "user": {
      "displayName": "정영웅",
      "userId": "13427939886910106182"
     },
     "user_tz": -540
    },
    "id": "kjfkjqSVYPHA"
   },
   "outputs": [],
   "source": [
    "print(b[2,:])# 3번째 행에 해당하며, 렬과 상관없이 모두 담은 결과 출력"
   ]
  },
  {
   "cell_type": "code",
   "execution_count": null,
   "metadata": {
    "executionInfo": {
     "elapsed": 21,
     "status": "aborted",
     "timestamp": 1680603676623,
     "user": {
      "displayName": "정영웅",
      "userId": "13427939886910106182"
     },
     "user_tz": -540
    },
    "id": "HiaH9ukaYPHB"
   },
   "outputs": [],
   "source": [
    "print(b[:,1])# 2번째 렬에 해당하며, 행과 상관없이 모두 담은 결과 출력"
   ]
  },
  {
   "cell_type": "code",
   "execution_count": null,
   "metadata": {
    "executionInfo": {
     "elapsed": 22,
     "status": "aborted",
     "timestamp": 1680603676624,
     "user": {
      "displayName": "정영웅",
      "userId": "13427939886910106182"
     },
     "user_tz": -540
    },
    "id": "o5uncI3LYPHB"
   },
   "outputs": [],
   "source": [
    "c=b[:,2]\n",
    "print(c) # 3번째 렬에 해당하는, 행과 상관없는 결과 모두 담아 c에 저장한 뒤 출력"
   ]
  },
  {
   "cell_type": "code",
   "execution_count": null,
   "metadata": {
    "executionInfo": {
     "elapsed": 22,
     "status": "aborted",
     "timestamp": 1680603676624,
     "user": {
      "displayName": "정영웅",
      "userId": "13427939886910106182"
     },
     "user_tz": -540
    },
    "id": "jYrjc5VWB7uO"
   },
   "outputs": [],
   "source": [
    "a=[[1,2,3,4,5,6,7,8,9,10,11,12],[1,2,3,4,5,6,7,8,9,10,11,12]]\n",
    "a=np.array(a)"
   ]
  },
  {
   "cell_type": "code",
   "execution_count": null,
   "metadata": {
    "executionInfo": {
     "elapsed": 21,
     "status": "aborted",
     "timestamp": 1680603676624,
     "user": {
      "displayName": "정영웅",
      "userId": "13427939886910106182"
     },
     "user_tz": -540
    },
    "id": "p3V33OwfCAdk"
   },
   "outputs": [],
   "source": [
    "a"
   ]
  },
  {
   "cell_type": "code",
   "execution_count": null,
   "metadata": {
    "executionInfo": {
     "elapsed": 22,
     "status": "aborted",
     "timestamp": 1680603676625,
     "user": {
      "displayName": "정영웅",
      "userId": "13427939886910106182"
     },
     "user_tz": -540
    },
    "id": "8GNi-nM-CoRk"
   },
   "outputs": [],
   "source": [
    "a[0:1,::]"
   ]
  },
  {
   "cell_type": "code",
   "execution_count": null,
   "metadata": {
    "executionInfo": {
     "elapsed": 22,
     "status": "aborted",
     "timestamp": 1680603676625,
     "user": {
      "displayName": "정영웅",
      "userId": "13427939886910106182"
     },
     "user_tz": -540
    },
    "id": "1Qk7nwLYYPHB"
   },
   "outputs": [],
   "source": [
    "## numpy 배열의 intrinsic methods"
   ]
  },
  {
   "cell_type": "code",
   "execution_count": null,
   "metadata": {
    "executionInfo": {
     "elapsed": 21,
     "status": "aborted",
     "timestamp": 1680603676625,
     "user": {
      "displayName": "정영웅",
      "userId": "13427939886910106182"
     },
     "user_tz": -540
    },
    "id": "FHca3FtmYPHC"
   },
   "outputs": [],
   "source": [
    "a=np.array([1,2,4])\n",
    "print('sum of all components:',a.sum())"
   ]
  },
  {
   "cell_type": "code",
   "execution_count": null,
   "metadata": {
    "executionInfo": {
     "elapsed": 22,
     "status": "aborted",
     "timestamp": 1680603676626,
     "user": {
      "displayName": "정영웅",
      "userId": "13427939886910106182"
     },
     "user_tz": -540
    },
    "id": "GosONywqYPHC"
   },
   "outputs": [],
   "source": [
    "b=np.array([[1,2,3],[3,4,5],[-1,3,4]])\n",
    "print('sum of all components:',b.sum())"
   ]
  },
  {
   "cell_type": "code",
   "execution_count": null,
   "metadata": {
    "executionInfo": {
     "elapsed": 22,
     "status": "aborted",
     "timestamp": 1680603676626,
     "user": {
      "displayName": "정영웅",
      "userId": "13427939886910106182"
     },
     "user_tz": -540
    },
    "id": "Alf0mj-HEMAz"
   },
   "outputs": [],
   "source": [
    "b"
   ]
  },
  {
   "cell_type": "code",
   "execution_count": null,
   "metadata": {
    "executionInfo": {
     "elapsed": 22,
     "status": "aborted",
     "timestamp": 1680603676626,
     "user": {
      "displayName": "정영웅",
      "userId": "13427939886910106182"
     },
     "user_tz": -540
    },
    "id": "Y9wxyqOYERGs"
   },
   "outputs": [],
   "source": [
    "b.T"
   ]
  },
  {
   "cell_type": "code",
   "execution_count": null,
   "metadata": {
    "executionInfo": {
     "elapsed": 23,
     "status": "aborted",
     "timestamp": 1680603676627,
     "user": {
      "displayName": "정영웅",
      "userId": "13427939886910106182"
     },
     "user_tz": -540
    },
    "id": "8FwJbmqqYPHD"
   },
   "outputs": [],
   "source": [
    "print('a 배열의 shape?')\n",
    "print(b.shape)"
   ]
  },
  {
   "cell_type": "code",
   "execution_count": null,
   "metadata": {
    "executionInfo": {
     "elapsed": 23,
     "status": "aborted",
     "timestamp": 1680603676627,
     "user": {
      "displayName": "정영웅",
      "userId": "13427939886910106182"
     },
     "user_tz": -540
    },
    "id": "YWfncCLPYPHD"
   },
   "outputs": [],
   "source": [
    "## identity array 생성\n",
    "np.eye(3)"
   ]
  },
  {
   "cell_type": "markdown",
   "metadata": {
    "id": "bPCFgbCmYPHD"
   },
   "source": [
    "- Numpy array의 component-wise operations (구성성분별로 적용되는 연산들)"
   ]
  },
  {
   "cell_type": "code",
   "execution_count": null,
   "metadata": {
    "executionInfo": {
     "elapsed": 23,
     "status": "aborted",
     "timestamp": 1680603676628,
     "user": {
      "displayName": "정영웅",
      "userId": "13427939886910106182"
     },
     "user_tz": -540
    },
    "id": "coaKy52WEupN"
   },
   "outputs": [],
   "source": [
    "cos([deg2rad(90),deg2rad(45)])"
   ]
  },
  {
   "cell_type": "code",
   "execution_count": null,
   "metadata": {
    "executionInfo": {
     "elapsed": 23,
     "status": "aborted",
     "timestamp": 1680603676628,
     "user": {
      "displayName": "정영웅",
      "userId": "13427939886910106182"
     },
     "user_tz": -540
    },
    "id": "oBmeEguLYPHE"
   },
   "outputs": [],
   "source": [
    "a=np.array([1,2,4])\n",
    "b=np.array([0,1,2])"
   ]
  },
  {
   "cell_type": "markdown",
   "metadata": {
    "id": "r-4uENVAYPHF"
   },
   "source": [
    "$c_i=a_i^2$"
   ]
  },
  {
   "cell_type": "code",
   "execution_count": null,
   "metadata": {
    "executionInfo": {
     "elapsed": 24,
     "status": "aborted",
     "timestamp": 1680603676629,
     "user": {
      "displayName": "정영웅",
      "userId": "13427939886910106182"
     },
     "user_tz": -540
    },
    "id": "nPi5D4_ezjq4"
   },
   "outputs": [],
   "source": [
    "c=a**2"
   ]
  },
  {
   "cell_type": "code",
   "execution_count": null,
   "metadata": {
    "executionInfo": {
     "elapsed": 24,
     "status": "aborted",
     "timestamp": 1680603676629,
     "user": {
      "displayName": "정영웅",
      "userId": "13427939886910106182"
     },
     "user_tz": -540
    },
    "id": "Qy3zWvLBzpeW"
   },
   "outputs": [],
   "source": [
    "c"
   ]
  },
  {
   "cell_type": "code",
   "execution_count": null,
   "metadata": {
    "executionInfo": {
     "elapsed": 24,
     "status": "aborted",
     "timestamp": 1680603676630,
     "user": {
      "displayName": "정영웅",
      "userId": "13427939886910106182"
     },
     "user_tz": -540
    },
    "id": "79e4kxcMFL1c"
   },
   "outputs": [],
   "source": [
    "c=np.array([a[0]**2, a[1]**2,a[2]**2])"
   ]
  },
  {
   "cell_type": "code",
   "execution_count": null,
   "metadata": {
    "executionInfo": {
     "elapsed": 1172,
     "status": "aborted",
     "timestamp": 1680603676631,
     "user": {
      "displayName": "정영웅",
      "userId": "13427939886910106182"
     },
     "user_tz": -540
    },
    "id": "REAfwE9yz11I"
   },
   "outputs": [],
   "source": [
    "c"
   ]
  },
  {
   "cell_type": "code",
   "execution_count": null,
   "metadata": {
    "executionInfo": {
     "elapsed": 1169,
     "status": "aborted",
     "timestamp": 1680603676631,
     "user": {
      "displayName": "정영웅",
      "userId": "13427939886910106182"
     },
     "user_tz": -540
    },
    "id": "UG9jBBZ3YPHF"
   },
   "outputs": [],
   "source": [
    "a**2"
   ]
  },
  {
   "cell_type": "markdown",
   "metadata": {
    "id": "iTvpWzQHYPHF"
   },
   "source": [
    "$a_i+b_i$"
   ]
  },
  {
   "cell_type": "code",
   "execution_count": null,
   "metadata": {
    "executionInfo": {
     "elapsed": 1166,
     "status": "aborted",
     "timestamp": 1680603676632,
     "user": {
      "displayName": "정영웅",
      "userId": "13427939886910106182"
     },
     "user_tz": -540
    },
    "id": "QxcwlqfGFdv0"
   },
   "outputs": [],
   "source": [
    "print(a)\n",
    "print(b)"
   ]
  },
  {
   "cell_type": "markdown",
   "metadata": {
    "id": "gif2dFBcz_2H"
   },
   "source": [
    "$c_i=a_i+b_i$"
   ]
  },
  {
   "cell_type": "code",
   "execution_count": null,
   "metadata": {
    "executionInfo": {
     "elapsed": 1165,
     "status": "aborted",
     "timestamp": 1680603676632,
     "user": {
      "displayName": "정영웅",
      "userId": "13427939886910106182"
     },
     "user_tz": -540
    },
    "id": "pOmXTd5jYPHF"
   },
   "outputs": [],
   "source": [
    "c=a+b"
   ]
  },
  {
   "cell_type": "markdown",
   "metadata": {
    "id": "-0WLA6BnYPHG"
   },
   "source": [
    "$c_i=a_i-b_i$"
   ]
  },
  {
   "cell_type": "code",
   "execution_count": null,
   "metadata": {
    "executionInfo": {
     "elapsed": 1164,
     "status": "aborted",
     "timestamp": 1680603676633,
     "user": {
      "displayName": "정영웅",
      "userId": "13427939886910106182"
     },
     "user_tz": -540
    },
    "id": "hsz-Zp3QYPHG"
   },
   "outputs": [],
   "source": [
    "c=a-b"
   ]
  },
  {
   "cell_type": "code",
   "execution_count": null,
   "metadata": {
    "executionInfo": {
     "elapsed": 1161,
     "status": "aborted",
     "timestamp": 1680603676634,
     "user": {
      "displayName": "정영웅",
      "userId": "13427939886910106182"
     },
     "user_tz": -540
    },
    "id": "gCkNfH3U0T4q"
   },
   "outputs": [],
   "source": [
    "c"
   ]
  },
  {
   "cell_type": "markdown",
   "metadata": {
    "id": "06K6En2eYPHG"
   },
   "source": [
    "$a_ia_i$  여기서 $i$는 Einstein summation을 따르지 않고 free index라 가정하자."
   ]
  },
  {
   "cell_type": "code",
   "execution_count": null,
   "metadata": {
    "executionInfo": {
     "elapsed": 1158,
     "status": "aborted",
     "timestamp": 1680603676635,
     "user": {
      "displayName": "정영웅",
      "userId": "13427939886910106182"
     },
     "user_tz": -540
    },
    "id": "-DwGCdnwYPHH"
   },
   "outputs": [],
   "source": [
    "(a*b).sum() ## 무엇을 수행하는지 천천히 뜯어서 설명할 것."
   ]
  },
  {
   "cell_type": "markdown",
   "metadata": {
    "id": "paqtuyjMYPHH"
   },
   "source": [
    "$\\sqrt{a_i a_i}$"
   ]
  },
  {
   "cell_type": "code",
   "execution_count": null,
   "metadata": {
    "executionInfo": {
     "elapsed": 1153,
     "status": "aborted",
     "timestamp": 1680603676636,
     "user": {
      "displayName": "정영웅",
      "userId": "13427939886910106182"
     },
     "user_tz": -540
    },
    "id": "otSWKkM10-QJ"
   },
   "outputs": [],
   "source": [
    "(np.array([a[0]**2,a[1]**2,a[2]**2]).sum())**0.5"
   ]
  },
  {
   "cell_type": "code",
   "execution_count": null,
   "metadata": {
    "executionInfo": {
     "elapsed": 1148,
     "status": "aborted",
     "timestamp": 1680603676636,
     "user": {
      "displayName": "정영웅",
      "userId": "13427939886910106182"
     },
     "user_tz": -540
    },
    "id": "W7TqVFkfYPHH"
   },
   "outputs": [],
   "source": [
    "((a**2).sum())**0.5"
   ]
  },
  {
   "cell_type": "markdown",
   "metadata": {
    "id": "axdWNkMLYPHI"
   },
   "source": [
    "$a_i / \\sqrt{a_k a_k}$   여기서 $k$가 dummy, $i$는 free"
   ]
  },
  {
   "cell_type": "code",
   "execution_count": null,
   "metadata": {
    "executionInfo": {
     "elapsed": 1145,
     "status": "aborted",
     "timestamp": 1680603676637,
     "user": {
      "displayName": "정영웅",
      "userId": "13427939886910106182"
     },
     "user_tz": -540
    },
    "id": "7zAxHrUdG6Kk"
   },
   "outputs": [],
   "source": [
    "a"
   ]
  },
  {
   "cell_type": "code",
   "execution_count": null,
   "metadata": {
    "executionInfo": {
     "elapsed": 1141,
     "status": "aborted",
     "timestamp": 1680603676637,
     "user": {
      "displayName": "정영웅",
      "userId": "13427939886910106182"
     },
     "user_tz": -540
    },
    "id": "3i4-cEGEYPHI"
   },
   "outputs": [],
   "source": [
    "a/((a**2).sum())**0.5"
   ]
  },
  {
   "cell_type": "code",
   "execution_count": null,
   "metadata": {
    "executionInfo": {
     "elapsed": 1139,
     "status": "aborted",
     "timestamp": 1680603676638,
     "user": {
      "displayName": "정영웅",
      "userId": "13427939886910106182"
     },
     "user_tz": -540
    },
    "id": "N8wVJLdzG-AC"
   },
   "outputs": [],
   "source": [
    "((Out[146])**2).sum()"
   ]
  },
  {
   "cell_type": "markdown",
   "metadata": {
    "id": "tWdTQ0yTYPHI"
   },
   "source": [
    "## Loop (반복문)\n",
    "- 행렬 계산에서 ``반복문``은 매우 중요하다. 특히 dummy 인덱스를 계산할때, 반복문이 어떻게 사용되는지 알아야겠다."
   ]
  },
  {
   "cell_type": "code",
   "execution_count": null,
   "metadata": {
    "executionInfo": {
     "elapsed": 1135,
     "status": "aborted",
     "timestamp": 1680603676639,
     "user": {
      "displayName": "정영웅",
      "userId": "13427939886910106182"
     },
     "user_tz": -540
    },
    "id": "rVFTOGGYHcez"
   },
   "outputs": [],
   "source": [
    "for i in [3,4,5]:\n",
    "  print()\n",
    "  print()\n",
    "  print()\n"
   ]
  },
  {
   "cell_type": "code",
   "execution_count": null,
   "metadata": {
    "executionInfo": {
     "elapsed": 1132,
     "status": "aborted",
     "timestamp": 1680603676641,
     "user": {
      "displayName": "정영웅",
      "userId": "13427939886910106182"
     },
     "user_tz": -540
    },
    "id": "CGgaSO7nYPHJ"
   },
   "outputs": [],
   "source": [
    "for i in [3,4,5]: ## for 문의 끝이 ':' 으로 끝남을 확인하시오!\n",
    "    print('i:',i) ## 반복의 대상이 되는 라인(들)은 indentation이 되어 있음에 유념하시오!"
   ]
  },
  {
   "cell_type": "code",
   "execution_count": null,
   "metadata": {
    "executionInfo": {
     "elapsed": 1127,
     "status": "aborted",
     "timestamp": 1680603676642,
     "user": {
      "displayName": "정영웅",
      "userId": "13427939886910106182"
     },
     "user_tz": -540
    },
    "id": "Z84QsT07YPHK"
   },
   "outputs": [],
   "source": [
    "for i in range(3):\n",
    "    print('i:',i)"
   ]
  },
  {
   "cell_type": "markdown",
   "metadata": {
    "id": "GdTX5xA3YPHK"
   },
   "source": [
    "- 1부터 10까지 더하기"
   ]
  },
  {
   "cell_type": "code",
   "execution_count": null,
   "metadata": {
    "executionInfo": {
     "elapsed": 1121,
     "status": "aborted",
     "timestamp": 1680603676642,
     "user": {
      "displayName": "정영웅",
      "userId": "13427939886910106182"
     },
     "user_tz": -540
    },
    "id": "MgFsKxSmYPHL"
   },
   "outputs": [],
   "source": [
    "for i in [1,2,3,4,5,6,7,8,9,10]:\n",
    "    print('i:',i)"
   ]
  },
  {
   "cell_type": "code",
   "execution_count": null,
   "metadata": {
    "executionInfo": {
     "elapsed": 1118,
     "status": "aborted",
     "timestamp": 1680603676642,
     "user": {
      "displayName": "정영웅",
      "userId": "13427939886910106182"
     },
     "user_tz": -540
    },
    "id": "KDGm9YEIYPHL"
   },
   "outputs": [],
   "source": [
    "s=0\n",
    "for i in [1,2,3,4,5,6,7,8,9,10]:\n",
    "    s=s+i\n",
    "print('sum:',s)"
   ]
  },
  {
   "cell_type": "markdown",
   "metadata": {
    "id": "VQ5-M7BPYPHL"
   },
   "source": [
    "- 위 예제의 일반화 (1에서부터 n까지의 합)"
   ]
  },
  {
   "cell_type": "code",
   "execution_count": null,
   "metadata": {
    "executionInfo": {
     "elapsed": 1116,
     "status": "aborted",
     "timestamp": 1680603676643,
     "user": {
      "displayName": "정영웅",
      "userId": "13427939886910106182"
     },
     "user_tz": -540
    },
    "id": "pKgrN2d9YPHM"
   },
   "outputs": [],
   "source": [
    "s=0\n",
    "n=10\n",
    "for i in range(n+1):\n",
    "    s=s+i\n",
    "print('sum:',s)"
   ]
  },
  {
   "cell_type": "markdown",
   "metadata": {
    "id": "eQ1s2dJiYPHM"
   },
   "source": [
    "- 1부터 3까지 곱하기 (3!)"
   ]
  },
  {
   "cell_type": "code",
   "execution_count": null,
   "metadata": {
    "executionInfo": {
     "elapsed": 5,
     "status": "aborted",
     "timestamp": 1680603677014,
     "user": {
      "displayName": "정영웅",
      "userId": "13427939886910106182"
     },
     "user_tz": -540
    },
    "id": "u-z05FmcYPHM"
   },
   "outputs": [],
   "source": [
    "n=3\n",
    "arr=[]\n",
    "for i in range(n):\n",
    "    arr.append(i+1)"
   ]
  },
  {
   "cell_type": "code",
   "execution_count": null,
   "metadata": {
    "executionInfo": {
     "elapsed": 5,
     "status": "aborted",
     "timestamp": 1680603677014,
     "user": {
      "displayName": "정영웅",
      "userId": "13427939886910106182"
     },
     "user_tz": -540
    },
    "id": "2zUu919kYPHN"
   },
   "outputs": [],
   "source": [
    "print(arr)"
   ]
  },
  {
   "cell_type": "code",
   "execution_count": null,
   "metadata": {
    "executionInfo": {
     "elapsed": 6,
     "status": "aborted",
     "timestamp": 1680603677015,
     "user": {
      "displayName": "정영웅",
      "userId": "13427939886910106182"
     },
     "user_tz": -540
    },
    "id": "SWi4tbD5YPHN"
   },
   "outputs": [],
   "source": [
    "fac=1.\n",
    "for val in arr:\n",
    "    fac=fac*val\n",
    "print(fac)"
   ]
  },
  {
   "cell_type": "markdown",
   "metadata": {
    "id": "GAuGds9hhDWn"
   },
   "source": [
    "## Enumerate"
   ]
  },
  {
   "cell_type": "code",
   "execution_count": null,
   "metadata": {
    "executionInfo": {
     "elapsed": 5,
     "status": "aborted",
     "timestamp": 1680603677015,
     "user": {
      "displayName": "정영웅",
      "userId": "13427939886910106182"
     },
     "user_tz": -540
    },
    "id": "83zs1BdD4QDX"
   },
   "outputs": [],
   "source": [
    "i=0\n",
    "for a in [3,4,5,6,'a']:\n",
    "  print(i,a)\n",
    "  i=i+1"
   ]
  },
  {
   "cell_type": "code",
   "execution_count": null,
   "metadata": {
    "executionInfo": {
     "elapsed": 5,
     "status": "aborted",
     "timestamp": 1680603677015,
     "user": {
      "displayName": "정영웅",
      "userId": "13427939886910106182"
     },
     "user_tz": -540
    },
    "id": "x9aW--AmgwsI"
   },
   "outputs": [],
   "source": [
    "for i, a in enumerate([3,4,5,6,'a']):\n",
    "  print(i,a)"
   ]
  },
  {
   "cell_type": "code",
   "execution_count": null,
   "metadata": {
    "executionInfo": {
     "elapsed": 6,
     "status": "aborted",
     "timestamp": 1680603677016,
     "user": {
      "displayName": "정영웅",
      "userId": "13427939886910106182"
     },
     "user_tz": -540
    },
    "id": "9WJGfMhIg6di"
   },
   "outputs": [],
   "source": [
    "for i, a in enumerate(range(5,10,2)):\n",
    "  print(i,a)"
   ]
  },
  {
   "cell_type": "markdown",
   "metadata": {
    "id": "btKlyaKLvF__"
   },
   "source": [
    "## 연습 문제들\n",
    "### Quest\n",
    "- 0+1+2+3+...+100 을 구하시오.\n",
    "\n",
    "### Quest \n",
    "\n",
    "- 15에서 200사이의 정수를 모두 더하라.\n",
    "\n",
    "### Quest \n",
    "\n",
    "- 30 에서 8 사이의 정수를 모두 더하라.\n",
    "\n",
    "\n",
    "### Quest\n",
    "- 1에서 9 사이의 정수의 제곱을 모두 더하라."
   ]
  },
  {
   "cell_type": "code",
   "execution_count": null,
   "metadata": {
    "executionInfo": {
     "elapsed": 6,
     "status": "aborted",
     "timestamp": 1680603677016,
     "user": {
      "displayName": "정영웅",
      "userId": "13427939886910106182"
     },
     "user_tz": -540
    },
    "id": "UuUUSsZ9-uvP"
   },
   "outputs": [],
   "source": [
    "i0=0\n",
    "i1=100\n",
    "s=0\n",
    "for i in range(i0,i1+1):\n",
    "    s=s+i\n",
    "print('sum:',s)"
   ]
  },
  {
   "cell_type": "markdown",
   "metadata": {
    "id": "qRqfG-GqYPHO"
   },
   "source": [
    "# 함수"
   ]
  },
  {
   "cell_type": "code",
   "execution_count": null,
   "metadata": {
    "id": "cLrdR5DOYPHP"
   },
   "outputs": [],
   "source": [
    "def myfunc1(a,b,c): ## 함수 선언의 끝이 ':'기호임을 잊지 마세요!\n",
    "    print('a,b,c')  ## 함수내에 실행되는 실행문(들)은 indentation이 됨을 잊지 마세요!\n",
    "    print(a,b,c)"
   ]
  },
  {
   "cell_type": "code",
   "execution_count": null,
   "metadata": {
    "colab": {
     "base_uri": "https://localhost:8080/"
    },
    "executionInfo": {
     "elapsed": 383,
     "status": "ok",
     "timestamp": 1680003412303,
     "user": {
      "displayName": "정영웅",
      "userId": "13427939886910106182"
     },
     "user_tz": -540
    },
    "id": "XiSBxIMUYPHP",
    "outputId": "7c449f0f-309e-4436-a51b-b316760f77fe"
   },
   "outputs": [
    {
     "name": "stdout",
     "output_type": "stream",
     "text": [
      "a,b,c\n",
      "1 2 3\n"
     ]
    }
   ],
   "source": [
    "myfunc1(1,2,3) ## 선언된 함수의 이름을 사용하고, argument의 이름이 explicit하게 주어지지 않을때 함수의 행동"
   ]
  },
  {
   "cell_type": "code",
   "execution_count": null,
   "metadata": {
    "colab": {
     "base_uri": "https://localhost:8080/",
     "height": 35
    },
    "executionInfo": {
     "elapsed": 10,
     "status": "ok",
     "timestamp": 1680003419495,
     "user": {
      "displayName": "정영웅",
      "userId": "13427939886910106182"
     },
     "user_tz": -540
    },
    "id": "Q24xgrBpAbbR",
    "outputId": "ef8e9fdf-87c0-4b3e-aeed-3667503dfd11"
   },
   "outputs": [
    {
     "data": {
      "application/vnd.google.colaboratory.intrinsic+json": {
       "type": "string"
      },
      "text/plain": [
       "'a'"
      ]
     },
     "execution_count": 108,
     "metadata": {},
     "output_type": "execute_result"
    }
   ],
   "source": [
    "a"
   ]
  },
  {
   "cell_type": "code",
   "execution_count": null,
   "metadata": {
    "colab": {
     "base_uri": "https://localhost:8080/"
    },
    "executionInfo": {
     "elapsed": 43,
     "status": "ok",
     "timestamp": 1678192666633,
     "user": {
      "displayName": "정영웅",
      "userId": "13427939886910106182"
     },
     "user_tz": -540
    },
    "id": "bQreL8zxYPHQ",
    "outputId": "20e2ae15-5dde-4ab5-ba82-4fcb9a6c1cf5"
   },
   "outputs": [
    {
     "name": "stdout",
     "output_type": "stream",
     "text": [
      "a,b,c\n",
      "2 1 3\n"
     ]
    }
   ],
   "source": [
    "myfunc1(b=1,a=2,c=3) ## 선언된 함수의 이름을 사용하고, argument의 이름이 explicit하게 주어질 때 함수의 행동"
   ]
  },
  {
   "cell_type": "markdown",
   "metadata": {
    "id": "EmNtVvLHYPHQ"
   },
   "source": [
    "함수는 변수(들)을 생산할 수 있다."
   ]
  },
  {
   "cell_type": "code",
   "execution_count": null,
   "metadata": {
    "id": "DUbeAg2jYPHR"
   },
   "outputs": [],
   "source": [
    "def myfunc2(a,b,c):\n",
    "    \"\"\"\n",
    "    a,b,c는 모두 local 변수로써 함수 내에서만 a,b,c라는 이름을 가진다.\n",
    "    \"\"\"\n",
    "    return a*b*c"
   ]
  },
  {
   "cell_type": "code",
   "execution_count": null,
   "metadata": {
    "colab": {
     "base_uri": "https://localhost:8080/"
    },
    "executionInfo": {
     "elapsed": 288,
     "status": "ok",
     "timestamp": 1680003720316,
     "user": {
      "displayName": "정영웅",
      "userId": "13427939886910106182"
     },
     "user_tz": -540
    },
    "id": "fSoS5a1EYPHY",
    "outputId": "22b0f35e-1f4f-493f-f4f6-f482e81a8bf0"
   },
   "outputs": [
    {
     "name": "stdout",
     "output_type": "stream",
     "text": [
      "[ 0 75]\n"
     ]
    }
   ],
   "source": [
    "e=np.array([3,5])\n",
    "f=np.array([0,3])\n",
    "g=np.array([-3,5])\n",
    "b=myfunc2(e,f,g) # b는 global 변수, myfunc2의 변수 b와는 무관하다.\n",
    "print(b)"
   ]
  },
  {
   "cell_type": "code",
   "execution_count": null,
   "metadata": {
    "id": "__2gxpstB6u_"
   },
   "outputs": [],
   "source": [
    "class myclass:\n",
    "  a=3"
   ]
  },
  {
   "cell_type": "code",
   "execution_count": null,
   "metadata": {
    "id": "im7amoSeB8t-"
   },
   "outputs": [],
   "source": [
    "b=myclass()"
   ]
  },
  {
   "cell_type": "code",
   "execution_count": null,
   "metadata": {
    "colab": {
     "base_uri": "https://localhost:8080/"
    },
    "executionInfo": {
     "elapsed": 5,
     "status": "ok",
     "timestamp": 1680003915029,
     "user": {
      "displayName": "정영웅",
      "userId": "13427939886910106182"
     },
     "user_tz": -540
    },
    "id": "QIv7NDm5CChG",
    "outputId": "885a5496-2909-401b-8cf2-d499b71f2fe3"
   },
   "outputs": [
    {
     "data": {
      "text/plain": [
       "3"
      ]
     },
     "execution_count": 116,
     "metadata": {},
     "output_type": "execute_result"
    }
   ],
   "source": [
    "b.a"
   ]
  },
  {
   "cell_type": "code",
   "execution_count": null,
   "metadata": {
    "id": "hA14nmePCdYc"
   },
   "outputs": [],
   "source": [
    "b.d='b'"
   ]
  },
  {
   "cell_type": "code",
   "execution_count": null,
   "metadata": {
    "id": "f3pcxXKUSXWD"
   },
   "outputs": [],
   "source": [
    "class exClass:\n",
    "  a=3\n",
    "  b=3\n",
    "  def calc_sum(self,d,e):\n",
    "    return d+e\n"
   ]
  },
  {
   "cell_type": "code",
   "execution_count": null,
   "metadata": {
    "colab": {
     "base_uri": "https://localhost:8080/"
    },
    "executionInfo": {
     "elapsed": 3,
     "status": "ok",
     "timestamp": 1680004107175,
     "user": {
      "displayName": "정영웅",
      "userId": "13427939886910106182"
     },
     "user_tz": -540
    },
    "id": "IP3RxIJeDAH4",
    "outputId": "2e286339-472d-4994-bef6-66415a32772e"
   },
   "outputs": [
    {
     "name": "stdout",
     "output_type": "stream",
     "text": [
      "3\n"
     ]
    }
   ],
   "source": [
    "\n",
    "# Class object\n",
    "mine=exClass()\n",
    "\n",
    "print(mine.a)"
   ]
  },
  {
   "cell_type": "code",
   "execution_count": null,
   "metadata": {
    "id": "mQL6apFgSaqM"
   },
   "outputs": [],
   "source": [
    "mine.b='DFDF'"
   ]
  },
  {
   "cell_type": "code",
   "execution_count": null,
   "metadata": {
    "colab": {
     "base_uri": "https://localhost:8080/",
     "height": 35
    },
    "executionInfo": {
     "elapsed": 11,
     "status": "ok",
     "timestamp": 1680004123794,
     "user": {
      "displayName": "정영웅",
      "userId": "13427939886910106182"
     },
     "user_tz": -540
    },
    "id": "albVAQ3BDHnL",
    "outputId": "d027bd78-89eb-4e38-bc5f-86ab67a9c34f"
   },
   "outputs": [
    {
     "data": {
      "application/vnd.google.colaboratory.intrinsic+json": {
       "type": "string"
      },
      "text/plain": [
       "'DFDF'"
      ]
     },
     "execution_count": 123,
     "metadata": {},
     "output_type": "execute_result"
    }
   ],
   "source": [
    "mine.b"
   ]
  },
  {
   "cell_type": "code",
   "execution_count": null,
   "metadata": {
    "colab": {
     "base_uri": "https://localhost:8080/"
    },
    "executionInfo": {
     "elapsed": 6,
     "status": "ok",
     "timestamp": 1680004161158,
     "user": {
      "displayName": "정영웅",
      "userId": "13427939886910106182"
     },
     "user_tz": -540
    },
    "id": "O-pM5TfJDKC5",
    "outputId": "2c85a52f-bee6-4ebd-b395-4dfca9248ef1"
   },
   "outputs": [
    {
     "data": {
      "text/plain": [
       "9"
      ]
     },
     "execution_count": 125,
     "metadata": {},
     "output_type": "execute_result"
    }
   ],
   "source": [
    "mine.calc_sum(4,5)"
   ]
  },
  {
   "cell_type": "code",
   "execution_count": null,
   "metadata": {
    "id": "L3rDopUhSyzl"
   },
   "outputs": [],
   "source": [
    "mine2=exClass()"
   ]
  },
  {
   "cell_type": "code",
   "execution_count": null,
   "metadata": {
    "colab": {
     "base_uri": "https://localhost:8080/"
    },
    "executionInfo": {
     "elapsed": 29,
     "status": "ok",
     "timestamp": 1678192666635,
     "user": {
      "displayName": "정영웅",
      "userId": "13427939886910106182"
     },
     "user_tz": -540
    },
    "id": "bN2p-u3LS0yY",
    "outputId": "11b747d2-68bd-4091-a923-8bda4df032a0"
   },
   "outputs": [
    {
     "data": {
      "text/plain": [
       "8"
      ]
     },
     "execution_count": 63,
     "metadata": {},
     "output_type": "execute_result"
    }
   ],
   "source": [
    "mine2.a\n",
    "mine.calc_sum(5,3)"
   ]
  },
  {
   "cell_type": "markdown",
   "metadata": {
    "id": "Jgjt6gd-v2nC"
   },
   "source": [
    "## 연습 문제\n",
    "\n",
    "- 2차 함수를 풀어주는 함수를 구하시오.\n",
    "\n",
    "$y(x)=ax^2+bx+c=0$"
   ]
  },
  {
   "cell_type": "code",
   "execution_count": null,
   "metadata": {
    "id": "qYfAXP8nDo8g"
   },
   "outputs": [],
   "source": [
    "def mysolver(a,b,c):\n",
    "  if a!=0:\n",
    "    de=(b**2-4*a*c)**0.5\n",
    "    x1 = -b + de\n",
    "    x1 = x1/(2*a)\n",
    "    x2 = -b - de\n",
    "    x2 = x2/(2*a)\n",
    "    return x1,x2\n",
    "  elif a==0:\n",
    "    return -c/b"
   ]
  },
  {
   "cell_type": "code",
   "execution_count": null,
   "metadata": {
    "colab": {
     "base_uri": "https://localhost:8080/"
    },
    "executionInfo": {
     "elapsed": 677,
     "status": "ok",
     "timestamp": 1680005673299,
     "user": {
      "displayName": "정영웅",
      "userId": "13427939886910106182"
     },
     "user_tz": -540
    },
    "id": "QkbQBaXaGiP5",
    "outputId": "680b5769-59da-4c65-90ab-e06918289d8c"
   },
   "outputs": [
    {
     "data": {
      "text/plain": [
       "(-0.5857864376269049, -3.414213562373095)"
      ]
     },
     "execution_count": 143,
     "metadata": {},
     "output_type": "execute_result"
    }
   ],
   "source": [
    "mysolver(1,4,2)"
   ]
  },
  {
   "cell_type": "markdown",
   "metadata": {
    "id": "gZqSR0s0YPHY"
   },
   "source": [
    "# Graphing using [matplotlib](https://matplotlib.org)\n",
    "- The go-to plotting package for Python\n",
    "- More detailed instructions can be found [here](https://colab.research.google.com/github/jakevdp/PythonDataScienceHandbook/blob/master/notebooks/04.00-Introduction-To-Matplotlib.ipynb)"
   ]
  },
  {
   "cell_type": "markdown",
   "metadata": {
    "id": "j8757yCEYPHZ"
   },
   "source": [
    "- x와 y 데이터가 list 혹은 ndarray 타입의 배열로 주어질 때 (물론 다른 기타 형태의 데이터도 가능), 간단히 그래프로 표현할 수 있음."
   ]
  },
  {
   "cell_type": "code",
   "execution_count": null,
   "metadata": {
    "executionInfo": {
     "elapsed": 8,
     "status": "ok",
     "timestamp": 1680603542683,
     "user": {
      "displayName": "정영웅",
      "userId": "13427939886910106182"
     },
     "user_tz": -540
    },
    "id": "ggJa3IS3YPHZ"
   },
   "outputs": [],
   "source": [
    "x=np.linspace(1,3,10) # 숫자 1부터 3까지 100개의 숫자로 이루어진 NumPy 배열 생성하여 x에 저장"
   ]
  },
  {
   "cell_type": "code",
   "execution_count": null,
   "metadata": {
    "executionInfo": {
     "elapsed": 8,
     "status": "ok",
     "timestamp": 1680603542684,
     "user": {
      "displayName": "정영웅",
      "userId": "13427939886910106182"
     },
     "user_tz": -540
    },
    "id": "OrJvuR6WYPHZ"
   },
   "outputs": [],
   "source": [
    "y=np.exp(x) # numpy의 exponential 함수 사용하여 exponetial(x)한 결과를 배열로 실행하여 y배열에 저장"
   ]
  },
  {
   "cell_type": "markdown",
   "metadata": {
    "id": "4nTRnoymYPHa"
   },
   "source": [
    "- x 배열을 가로축, y배열을 세로축으로 사용하여 graph 그리기. 선의 색깔은 붉은색(red)으로 지정"
   ]
  },
  {
   "cell_type": "code",
   "execution_count": null,
   "metadata": {
    "colab": {
     "base_uri": "https://localhost:8080/",
     "height": 448
    },
    "executionInfo": {
     "elapsed": 1004,
     "status": "ok",
     "timestamp": 1680603547356,
     "user": {
      "displayName": "정영웅",
      "userId": "13427939886910106182"
     },
     "user_tz": -540
    },
    "id": "r5smHwypYPHa",
    "outputId": "d6ef725c-097e-4a00-9c2a-3ad43c7dd9e1"
   },
   "outputs": [
    {
     "data": {
      "text/plain": [
       "[<matplotlib.lines.Line2D at 0x7ff888204cd0>]"
      ]
     },
     "execution_count": 5,
     "metadata": {},
     "output_type": "execute_result"
    },
    {
     "data": {
      "image/png": "[encoded data removed]",
      "text/plain": [
       "<Figure size 640x480 with 1 Axes>"
      ]
     },
     "metadata": {},
     "output_type": "display_data"
    }
   ],
   "source": [
    "plot(x,y,'x',color='blue')"
   ]
  },
  {
   "cell_type": "code",
   "execution_count": null,
   "metadata": {
    "executionInfo": {
     "elapsed": 843,
     "status": "ok",
     "timestamp": 1680603552954,
     "user": {
      "displayName": "정영웅",
      "userId": "13427939886910106182"
     },
     "user_tz": -540
    },
    "id": "P1ZaIJc8HLg8"
   },
   "outputs": [],
   "source": [
    "## saving figure?"
   ]
  },
  {
   "cell_type": "code",
   "execution_count": null,
   "metadata": {
    "colab": {
     "base_uri": "https://localhost:8080/"
    },
    "executionInfo": {
     "elapsed": 911,
     "status": "ok",
     "timestamp": 1680603553859,
     "user": {
      "displayName": "정영웅",
      "userId": "13427939886910106182"
     },
     "user_tz": -540
    },
    "id": "tTB1EJTZI-em",
    "outputId": "03bf4402-345f-46bd-e5cc-3089304f6492"
   },
   "outputs": [
    {
     "name": "stdout",
     "output_type": "stream",
     "text": [
      "\u001b[0m\u001b[01;34msample_data\u001b[0m/\n"
     ]
    }
   ],
   "source": [
    "ls"
   ]
  },
  {
   "cell_type": "code",
   "execution_count": null,
   "metadata": {
    "colab": {
     "base_uri": "https://localhost:8080/",
     "height": 430
    },
    "executionInfo": {
     "elapsed": 830,
     "status": "ok",
     "timestamp": 1680603789713,
     "user": {
      "displayName": "정영웅",
      "userId": "13427939886910106182"
     },
     "user_tz": -540
    },
    "id": "bB8kGyODHNIi",
    "outputId": "fe9af49c-158d-492f-8013-5e333c3f46eb"
   },
   "outputs": [
    {
     "data": {
      "image/png": "[encoded data removed]",
      "text/plain": [
       "<Figure size 640x480 with 1 Axes>"
      ]
     },
     "metadata": {},
     "output_type": "display_data"
    }
   ],
   "source": [
    "plot(x,y,color='red')\n",
    "plt.savefig('mpdf_better_resolution.png',dpi=500)"
   ]
  },
  {
   "cell_type": "code",
   "execution_count": null,
   "metadata": {
    "colab": {
     "base_uri": "https://localhost:8080/"
    },
    "executionInfo": {
     "elapsed": 400,
     "status": "ok",
     "timestamp": 1680603792615,
     "user": {
      "displayName": "정영웅",
      "userId": "13427939886910106182"
     },
     "user_tz": -540
    },
    "id": "-niC_3UBI7TU",
    "outputId": "fde9c5eb-c51c-4342-a369-c9fa59a5718e"
   },
   "outputs": [
    {
     "name": "stdout",
     "output_type": "stream",
     "text": [
      "mpdf_better_resolution.png  mpdf.pdf  mpdf.png  \u001b[0m\u001b[01;34msample_data\u001b[0m/\n"
     ]
    }
   ],
   "source": [
    "ls #"
   ]
  },
  {
   "cell_type": "markdown",
   "metadata": {
    "id": "6Il1oprcwh06"
   },
   "source": [
    "- 저장된 figure 가져오기. 다른 형식(pdf, 혹은 dpi 변화) 알려주기."
   ]
  },
  {
   "cell_type": "code",
   "execution_count": null,
   "metadata": {
    "colab": {
     "base_uri": "https://localhost:8080/",
     "height": 17
    },
    "executionInfo": {
     "elapsed": 911,
     "status": "ok",
     "timestamp": 1680603805198,
     "user": {
      "displayName": "정영웅",
      "userId": "13427939886910106182"
     },
     "user_tz": -540
    },
    "id": "Ki0SzOnJx2GA",
    "outputId": "a40e738f-52c9-4c84-c61e-a977c7765368"
   },
   "outputs": [
    {
     "data": {
      "application/javascript": "\n    async function download(id, filename, size) {\n      if (!google.colab.kernel.accessAllowed) {\n        return;\n      }\n      const div = document.createElement('div');\n      const label = document.createElement('label');\n      label.textContent = `Downloading \"${filename}\": `;\n      div.appendChild(label);\n      const progress = document.createElement('progress');\n      progress.max = size;\n      div.appendChild(progress);\n      document.body.appendChild(div);\n\n      const buffers = [];\n      let downloaded = 0;\n\n      const channel = await google.colab.kernel.comms.open(id);\n      // Send a message to notify the kernel that we're ready.\n      channel.send({})\n\n      for await (const message of channel.messages) {\n        // Send a message to notify the kernel that we're ready.\n        channel.send({})\n        if (message.buffers) {\n          for (const buffer of message.buffers) {\n            buffers.push(buffer);\n            downloaded += buffer.byteLength;\n            progress.value = downloaded;\n          }\n        }\n      }\n      const blob = new Blob(buffers, {type: 'application/binary'});\n      const a = document.createElement('a');\n      a.href = window.URL.createObjectURL(blob);\n      a.download = filename;\n      div.appendChild(a);\n      a.click();\n      div.remove();\n    }\n  ",
      "text/plain": [
       "<IPython.core.display.Javascript object>"
      ]
     },
     "metadata": {},
     "output_type": "display_data"
    },
    {
     "data": {
      "application/javascript": "download(\"download_76585a52-24a1-4e75-95c8-43cbb5aa1d39\", \"mpdf_better_resolution.png\", 121963)",
      "text/plain": [
       "<IPython.core.display.Javascript object>"
      ]
     },
     "metadata": {},
     "output_type": "display_data"
    }
   ],
   "source": [
    "from google.colab import files\n",
    "files.download(\"mpdf_better_resolution.png\")"
   ]
  },
  {
   "cell_type": "markdown",
   "metadata": {
    "id": "OhLpn8IOwvi_"
   },
   "source": [
    "## 그래프 장식하기"
   ]
  },
  {
   "cell_type": "code",
   "execution_count": null,
   "metadata": {
    "colab": {
     "base_uri": "https://localhost:8080/",
     "height": 468
    },
    "executionInfo": {
     "elapsed": 1764,
     "status": "ok",
     "timestamp": 1680603996511,
     "user": {
      "displayName": "정영웅",
      "userId": "13427939886910106182"
     },
     "user_tz": -540
    },
    "id": "9-ccO0TyJBnH",
    "outputId": "51cab024-9f7a-45d3-8962-3643d94ba877"
   },
   "outputs": [
    {
     "data": {
      "image/png": "[encoded data removed]",
      "text/plain": [
       "<Figure size 640x480 with 1 Axes>"
      ]
     },
     "metadata": {},
     "output_type": "display_data"
    }
   ],
   "source": [
    "plot(x,y,color='red')\n",
    "xlabel(r'$\\int_a^b f(x)dx$')\n",
    "ylabel('Y data')\n",
    "plt.savefig('mpdf_vector.pdf') ## save the results in 'vectorized' image \"PDF\""
   ]
  },
  {
   "cell_type": "markdown",
   "metadata": {
    "id": "60GjBhs9okf5"
   },
   "source": [
    "# Draw a circle"
   ]
  },
  {
   "cell_type": "code",
   "execution_count": null,
   "metadata": {
    "executionInfo": {
     "elapsed": 5,
     "status": "ok",
     "timestamp": 1680604172571,
     "user": {
      "displayName": "정영웅",
      "userId": "13427939886910106182"
     },
     "user_tz": -540
    },
    "id": "OcO7BRGd0IgH"
   },
   "outputs": [],
   "source": [
    "angles=np.linspace(0,2*pi)"
   ]
  },
  {
   "cell_type": "code",
   "execution_count": null,
   "metadata": {
    "colab": {
     "base_uri": "https://localhost:8080/"
    },
    "executionInfo": {
     "elapsed": 10,
     "status": "ok",
     "timestamp": 1680604421674,
     "user": {
      "displayName": "정영웅",
      "userId": "13427939886910106182"
     },
     "user_tz": -540
    },
    "id": "rv8a6edu1EEX",
    "outputId": "78b31848-7e2d-4205-d247-8c8b47109dd5"
   },
   "outputs": [
    {
     "data": {
      "text/plain": [
       "50"
      ]
     },
     "execution_count": 40,
     "metadata": {},
     "output_type": "execute_result"
    }
   ],
   "source": [
    "len(angles)"
   ]
  },
  {
   "cell_type": "code",
   "execution_count": null,
   "metadata": {
    "colab": {
     "base_uri": "https://localhost:8080/",
     "height": 448
    },
    "executionInfo": {
     "elapsed": 686,
     "status": "ok",
     "timestamp": 1680604496079,
     "user": {
      "displayName": "정영웅",
      "userId": "13427939886910106182"
     },
     "user_tz": -540
    },
    "id": "WUagfrkRJSUq",
    "outputId": "d17a29d1-f01e-4326-dfd0-de0daaf4b4bc"
   },
   "outputs": [
    {
     "data": {
      "text/plain": [
       "[<matplotlib.lines.Line2D at 0x7ff864055910>]"
      ]
     },
     "execution_count": 43,
     "metadata": {},
     "output_type": "execute_result"
    },
    {
     "data": {
      "image/png": "[encoded data removed]",
      "text/plain": [
       "<Figure size 640x480 with 1 Axes>"
      ]
     },
     "metadata": {},
     "output_type": "display_data"
    }
   ],
   "source": [
    "angles=np.linspace(0,2*pi,1000)\n",
    "x=cos(angles)\n",
    "y=sin(angles)\n",
    "plot(x,y,'+')"
   ]
  },
  {
   "cell_type": "code",
   "execution_count": null,
   "metadata": {
    "colab": {
     "base_uri": "https://localhost:8080/",
     "height": 448
    },
    "executionInfo": {
     "elapsed": 1260,
     "status": "ok",
     "timestamp": 1680604606432,
     "user": {
      "displayName": "정영웅",
      "userId": "13427939886910106182"
     },
     "user_tz": -540
    },
    "id": "hqUK9kQcJg4T",
    "outputId": "5ec1ea9e-f9c2-4148-c816-90ddb0233223"
   },
   "outputs": [
    {
     "data": {
      "text/plain": [
       "[<matplotlib.lines.Line2D at 0x7ff8880c5ca0>]"
      ]
     },
     "execution_count": 46,
     "metadata": {},
     "output_type": "execute_result"
    },
    {
     "data": {
      "image/png": "[encoded data removed]",
      "text/plain": [
       "<Figure size 640x480 with 1 Axes>"
      ]
     },
     "metadata": {},
     "output_type": "display_data"
    }
   ],
   "source": [
    "## finer\n",
    "\n",
    "angles=np.linspace(0,2*pi,5)\n",
    "x=cos(angles)\n",
    "y=sin(angles)\n",
    "plot(x,y,'o-.')"
   ]
  },
  {
   "cell_type": "code",
   "execution_count": null,
   "metadata": {
    "colab": {
     "base_uri": "https://localhost:8080/",
     "height": 430
    },
    "executionInfo": {
     "elapsed": 545,
     "status": "ok",
     "timestamp": 1680604777980,
     "user": {
      "displayName": "정영웅",
      "userId": "13427939886910106182"
     },
     "user_tz": -540
    },
    "id": "UR8k6cost4oX",
    "outputId": "bcfb3268-e536-47e0-dfb5-50d0848b7cc8"
   },
   "outputs": [
    {
     "data": {
      "image/png": "[encoded data removed]",
      "text/plain": [
       "<Figure size 640x480 with 2 Axes>"
      ]
     },
     "metadata": {},
     "output_type": "display_data"
    }
   ],
   "source": [
    "## set equal asepct ratio\n",
    "## finer\n",
    "fig=plt.figure()\n",
    "ax1=fig.add_subplot(121)\n",
    "ax2=fig.add_subplot(122)\n",
    "angles=np.linspace(0,2*pi,100)\n",
    "x=cos(angles)\n",
    "y=sin(angles)\n",
    "for ax in fig.axes:\n",
    "  ax.plot(x,y,'+-',label='function 1')\n",
    "  ax.plot(x,cos(x)*sin(x),'r-',label='exp 2')\n",
    "  ax.legend()\n",
    "ax1.set_aspect('equal')"
   ]
  },
  {
   "cell_type": "markdown",
   "metadata": {
    "id": "TzI-2K4TlAS-"
   },
   "source": [
    "# Quest\n",
    "## Log scale\n",
    "- $y=a^x$ 그리기"
   ]
  },
  {
   "cell_type": "code",
   "execution_count": null,
   "metadata": {
    "colab": {
     "base_uri": "https://localhost:8080/",
     "height": 306
    },
    "executionInfo": {
     "elapsed": 5,
     "status": "ok",
     "timestamp": 1680605549570,
     "user": {
      "displayName": "정영웅",
      "userId": "13427939886910106182"
     },
     "user_tz": -540
    },
    "id": "cUJjO6x7459E",
    "outputId": "f170646e-4cb4-4371-e722-7c5ad91cbe9b"
   },
   "outputs": [
    {
     "data": {
      "image/png": "[encoded data removed]",
      "text/plain": [
       "<Figure size 300x300 with 1 Axes>"
      ]
     },
     "metadata": {},
     "output_type": "display_data"
    }
   ],
   "source": [
    "fig=plt.figure(figsize=(3,3))\n",
    "for x in range(0,100,10):\n",
    "  plot(x,2**x,'rx')"
   ]
  },
  {
   "cell_type": "code",
   "execution_count": null,
   "metadata": {
    "colab": {
     "base_uri": "https://localhost:8080/",
     "height": 291
    },
    "executionInfo": {
     "elapsed": 1332,
     "status": "ok",
     "timestamp": 1680605755161,
     "user": {
      "displayName": "정영웅",
      "userId": "13427939886910106182"
     },
     "user_tz": -540
    },
    "id": "BamBLD8p5dE_",
    "outputId": "aa688ea5-797f-426f-94ae-13bbe5cd3c46"
   },
   "outputs": [
    {
     "data": {
      "image/png": "[encoded data removed]",
      "text/plain": [
       "<Figure size 300x300 with 1 Axes>"
      ]
     },
     "metadata": {},
     "output_type": "display_data"
    }
   ],
   "source": [
    "fig=plt.figure(figsize=(3,3))\n",
    "\n",
    "x=np.linspace(0,20)\n",
    "y=2**x\n",
    "plot(x,y,'x')\n",
    "yscale('log')"
   ]
  },
  {
   "cell_type": "code",
   "execution_count": null,
   "metadata": {
    "id": "WTTNKRhe2zd_"
   },
   "outputs": [],
   "source": [
    "#y=2**x\n",
    "#y=3**x\n",
    "#x~0, 100"
   ]
  },
  {
   "cell_type": "markdown",
   "metadata": {
    "id": "JkkrKqA-kY0u"
   },
   "source": [
    "# Quest\n",
    "- 다음을 만족하는 타원 그리기\n",
    "\n",
    "$\\frac{x^2}{a^2}+\\frac{y^2}{b^2}=1$"
   ]
  },
  {
   "cell_type": "code",
   "execution_count": null,
   "metadata": {
    "colab": {
     "base_uri": "https://localhost:8080/",
     "height": 291
    },
    "executionInfo": {
     "elapsed": 13,
     "status": "ok",
     "timestamp": 1680606896394,
     "user": {
      "displayName": "정영웅",
      "userId": "13427939886910106182"
     },
     "user_tz": -540
    },
    "id": "q0cCwH7w9shl",
    "outputId": "e48c7071-6718-4504-b21b-8859cc2d4186"
   },
   "outputs": [
    {
     "data": {
      "image/png": "[encoded data removed]",
      "text/plain": [
       "<Figure size 300x300 with 1 Axes>"
      ]
     },
     "metadata": {},
     "output_type": "display_data"
    }
   ],
   "source": [
    "def A(theta,a,b):\n",
    "  return cos(theta)**2/a**2+sin(theta)**2/b**2\n",
    "theta=np.linspace(0,2*pi)\n",
    "\n",
    "plt.figure(figsize=(3,3))\n",
    "\n",
    "a=1\n",
    "b=2\n",
    "r=sqrt(1./A(theta,a,b))\n",
    "#plot(theta,r,'x')\n",
    "x=r*cos(theta)\n",
    "y=r*sin(theta)\n",
    "plot(x,y)\n",
    "a=1\n",
    "b=1\n",
    "r=sqrt(1./A(theta,a,b))\n",
    "#plot(theta,r,'x')\n",
    "x=r*cos(theta)\n",
    "y=r*sin(theta)\n",
    "plot(x,y)\n",
    "gca().set_aspect('equal')"
   ]
  },
  {
   "cell_type": "markdown",
   "metadata": {
    "id": "6AHz1ov2oqul"
   },
   "source": [
    "# Draw cosine/sine functions"
   ]
  },
  {
   "cell_type": "code",
   "execution_count": null,
   "metadata": {
    "executionInfo": {
     "elapsed": 249,
     "status": "ok",
     "timestamp": 1680606927656,
     "user": {
      "displayName": "정영웅",
      "userId": "13427939886910106182"
     },
     "user_tz": -540
    },
    "id": "e2oKLgU2oqIC"
   },
   "outputs": [],
   "source": [
    "th=np.linspace(-pi*2,pi*2)"
   ]
  },
  {
   "cell_type": "code",
   "execution_count": null,
   "metadata": {
    "colab": {
     "base_uri": "https://localhost:8080/",
     "height": 468
    },
    "executionInfo": {
     "elapsed": 1518,
     "status": "ok",
     "timestamp": 1680606932839,
     "user": {
      "displayName": "정영웅",
      "userId": "13427939886910106182"
     },
     "user_tz": -540
    },
    "id": "nnV-mhXEouIu",
    "outputId": "5bf0558b-a694-4619-c25d-87ad4a9f2331"
   },
   "outputs": [
    {
     "data": {
      "text/plain": [
       "Text(0, 0.5, '$\\\\cos(\\\\theta)$ or $\\\\sin(\\\\theta)$')"
      ]
     },
     "execution_count": 72,
     "metadata": {},
     "output_type": "execute_result"
    },
    {
     "data": {
      "image/png": "[encoded data removed]",
      "text/plain": [
       "<Figure size 640x480 with 1 Axes>"
      ]
     },
     "metadata": {},
     "output_type": "display_data"
    }
   ],
   "source": [
    "plot(th,cos(th),label=r'$\\cos(\\theta)$')\n",
    "plot(th,sin(th),label=r'$\\sin(\\theta)$')\n",
    "legend()\n",
    "xlabel(r'$\\theta$')\n",
    "ylabel(r'$\\cos(\\theta)$ or $\\sin(\\theta)$')"
   ]
  },
  {
   "cell_type": "markdown",
   "metadata": {
    "id": "d1cQD-8rpGea"
   },
   "source": [
    "More controls on the look of the figure"
   ]
  },
  {
   "cell_type": "code",
   "execution_count": null,
   "metadata": {
    "colab": {
     "base_uri": "https://localhost:8080/",
     "height": 227
    },
    "executionInfo": {
     "elapsed": 813,
     "status": "ok",
     "timestamp": 1678192671805,
     "user": {
      "displayName": "정영웅",
      "userId": "13427939886910106182"
     },
     "user_tz": -540
    },
    "id": "IElEf3eCow1C",
    "outputId": "7c59145d-9ad3-4d9b-e330-741b9fd149a5"
   },
   "outputs": [
    {
     "data": {
      "image/png": "[encoded data removed]",
      "text/plain": [
       "<Figure size 648x216 with 2 Axes>"
      ]
     },
     "metadata": {
      "needs_background": "light"
     },
     "output_type": "display_data"
    }
   ],
   "source": [
    "fig=plt.figure(figsize=(9,3)) ## generating figure object with a specific dimension\n",
    "##\n",
    "ax1=fig.add_subplot(121)\n",
    "ax2=fig.add_subplot(122)\n",
    "\n",
    "th=np.linspace(-pi*2,pi*2,20)\n",
    "ax1.plot(th,cos(th),label=r'$\\cos(\\theta)$',c='r')\n",
    "ax2.plot(th,sin(th),label=r'$\\sin(\\theta)$',c='b')\n",
    "for ax in fig.axes:\n",
    "  ax.set_xlabel(r'$\\theta$')\n",
    "  ax.set_ylabel('y')\n",
    "  ax.legend()"
   ]
  },
  {
   "cell_type": "markdown",
   "metadata": {
    "id": "HzTOf2ZiAL8d"
   },
   "source": [
    "- Google Collabo tutorial [here](https://colab.research.google.com/#scrollTo=-Rh3-Vt9Nev9)"
   ]
  },
  {
   "cell_type": "code",
   "execution_count": 5,
   "metadata": {},
   "outputs": [
    {
     "name": "stdout",
     "output_type": "stream",
     "text": [
      "[0.42426407 0.56568542 0.70710678]\n"
     ]
    }
   ],
   "source": [
    "import numpy as np\n",
    "a=np.array([3,4,5])\n",
    "bar_a=a/np.sqrt((a**2).sum())\n",
    "print(bar_a)"
   ]
  }
 ],
 "metadata": {
  "colab": {
   "provenance": [
    {
     "file_id": "1tXaztFLYXnI8JmkaNE8O3XX2M9nW3KAW",
     "timestamp": 1677195836241
    }
   ]
  },
  "gpuClass": "standard",
  "kernelspec": {
   "display_name": "3.12.2",
   "language": "python",
   "name": "python3"
  },
  "language_info": {
   "codemirror_mode": {
    "name": "ipython",
    "version": 3
   },
   "file_extension": ".py",
   "mimetype": "text/x-python",
   "name": "python",
   "nbconvert_exporter": "python",
   "pygments_lexer": "ipython3",
   "version": "3.12.2"
  }
 },
 "nbformat": 4,
 "nbformat_minor": 0
}
