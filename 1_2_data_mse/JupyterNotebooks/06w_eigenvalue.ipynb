{
 "cells": [
  {
   "cell_type": "code",
   "execution_count": 1,
   "metadata": {},
   "outputs": [],
   "source": [
    "import numpy as np"
   ]
  },
  {
   "cell_type": "code",
   "execution_count": 8,
   "metadata": {},
   "outputs": [],
   "source": [
    "def eig2x2(A):\n",
    "    a=A[0,0]\n",
    "    b=A[0,1]\n",
    "    c=A[1,0]\n",
    "    d=A[1,1]\n",
    "    tr = a + d\n",
    "    det = a*d - b*c\n",
    "    disc = tr*tr - 4*det\n",
    "    lam1 = (tr + np.sqrt(disc)) / 2\n",
    "    lam2 = (tr - np.sqrt(disc)) / 2\n",
    "    return lam1, lam2"
   ]
  },
  {
   "cell_type": "code",
   "execution_count": null,
   "metadata": {},
   "outputs": [
    {
     "name": "stdout",
     "output_type": "stream",
     "text": [
      "(7.0, -1.0)\n",
      "(5.60555127546399, -1.6055512754639891)\n",
      "(1.0, 0.0)\n",
      "(6.701562118716424, 0.29843788128357573)\n",
      "(58.13673020344474, -15.136730203444742)\n",
      "(nan, nan)\n",
      "(2.0, -1.0)\n"
     ]
    },
    {
     "name": "stderr",
     "output_type": "stream",
     "text": [
      "/var/folders/mj/8q7tbqkj36q7ymb0jmxhvlpw0000gn/T/ipykernel_77438/1596545659.py:9: RuntimeWarning: invalid value encountered in sqrt\n",
      "  lam1 = (tr + np.sqrt(disc)) / 2\n",
      "/var/folders/mj/8q7tbqkj36q7ymb0jmxhvlpw0000gn/T/ipykernel_77438/1596545659.py:10: RuntimeWarning: invalid value encountered in sqrt\n",
      "  lam2 = (tr - np.sqrt(disc)) / 2\n"
     ]
    }
   ],
   "source": [
    "d=np.loadtxt('../data/matrix_03.txt',skiprows=1)\n",
    "for i, mat2x2 in enumerate(d):\n",
    "    mat=mat2x2.reshape(2,2)\n",
    "    print(eig2x2(mat)) ## nan 은 어던 경우인가?"
   ]
  }
 ],
 "metadata": {
  "colab": {
   "provenance": [
    {
     "file_id": "1tXaztFLYXnI8JmkaNE8O3XX2M9nW3KAW",
     "timestamp": 1677195836241
    }
   ]
  },
  "gpuClass": "standard",
  "kernelspec": {
   "display_name": "3.12.2",
   "language": "python",
   "name": "python3"
  },
  "language_info": {
   "codemirror_mode": {
    "name": "ipython",
    "version": 3
   },
   "file_extension": ".py",
   "mimetype": "text/x-python",
   "name": "python",
   "nbconvert_exporter": "python",
   "pygments_lexer": "ipython3",
   "version": "3.12.2"
  }
 },
 "nbformat": 4,
 "nbformat_minor": 0
}
