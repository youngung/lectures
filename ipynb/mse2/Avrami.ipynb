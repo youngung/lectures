{
 "cells": [
  {
   "cell_type": "code",
   "execution_count": 2,
   "metadata": {},
   "outputs": [
    {
     "name": "stdout",
     "output_type": "stream",
     "text": [
      "Populating the interactive namespace from numpy and matplotlib\n"
     ]
    }
   ],
   "source": [
    "%pylab inline"
   ]
  },
  {
   "cell_type": "markdown",
   "metadata": {},
   "source": [
    "$y=1-exp(-kt^n)$"
   ]
  },
  {
   "cell_type": "code",
   "execution_count": 19,
   "metadata": {},
   "outputs": [],
   "source": [
    "## alpha vs beta\n",
    "a=1.\n",
    "b=4.\n",
    "# time\n",
    "t=25 #[min]\n",
    "# n value\n",
    "n=3."
   ]
  },
  {
   "cell_type": "code",
   "execution_count": 20,
   "metadata": {},
   "outputs": [],
   "source": [
    "a=a/(a+b)\n",
    "b=1-a"
   ]
  },
  {
   "cell_type": "markdown",
   "metadata": {},
   "source": [
    "$y-1=-exp(-kt^n)$"
   ]
  },
  {
   "cell_type": "markdown",
   "metadata": {},
   "source": [
    "$exp(-kt^n)=1-y$"
   ]
  },
  {
   "cell_type": "markdown",
   "metadata": {},
   "source": [
    "$-kt^n=\\ln(1-y)$"
   ]
  },
  {
   "cell_type": "markdown",
   "metadata": {},
   "source": [
    "$k=-\\ln(1-y)/t^n$"
   ]
  },
  {
   "cell_type": "code",
   "execution_count": 31,
   "metadata": {},
   "outputs": [],
   "source": [
    "def calc_k(y,t,n):\n",
    "    \"\"\"\n",
    "    Arguments\n",
    "    ---------\n",
    "    y\n",
    "    t\n",
    "    n\n",
    "    \"\"\"\n",
    "    return -(np.log(1-y)/t**n)\n",
    "def calc_t(k,n,y):\n",
    "    \"\"\"\n",
    "    Arguments\n",
    "    ---------\n",
    "    k\n",
    "    n\n",
    "    y\n",
    "    \"\"\"\n",
    "    return (-np.log(1.-y)/k)**(1/n)"
   ]
  },
  {
   "cell_type": "code",
   "execution_count": 33,
   "metadata": {},
   "outputs": [
    {
     "name": "stdout",
     "output_type": "stream",
     "text": [
      "k: 0.00010300402639578243\n",
      "t50: 18.879497021748737\n",
      "rate: 0.05296751279168208\n"
     ]
    }
   ],
   "source": [
    "k=calc_k(y,t,n)\n",
    "print 'k:',k\n",
    "\n",
    "t5=calc_t(k,n,0.5)\n",
    "rate=1./t5\n",
    "print 't50:',t5\n",
    "print 'rate:', rate"
   ]
  },
  {
   "cell_type": "markdown",
   "metadata": {},
   "source": [
    "상변태 속도는? 1/(t=0.5)"
   ]
  },
  {
   "cell_type": "markdown",
   "metadata": {},
   "source": [
    "$t=\\big(-\\frac{\\ln(1-y)}{k}\\big)^{1/n}$"
   ]
  }
 ],
 "metadata": {
  "kernelspec": {
   "display_name": "Python 2",
   "language": "python",
   "name": "python2"
  },
  "language_info": {
   "codemirror_mode": {
    "name": "ipython",
    "version": 2
   },
   "file_extension": ".py",
   "mimetype": "text/x-python",
   "name": "python",
   "nbconvert_exporter": "python",
   "pygments_lexer": "ipython2",
   "version": "2.7.15"
  }
 },
 "nbformat": 4,
 "nbformat_minor": 2
}
