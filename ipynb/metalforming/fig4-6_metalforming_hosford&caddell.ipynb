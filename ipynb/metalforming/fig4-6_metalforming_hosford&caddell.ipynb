{
 "cells": [
  {
   "cell_type": "markdown",
   "metadata": {},
   "source": [
    "## Intro.\n",
    "- 지금 보시는 Jupyter notebook은 창원대학교 신소재공학부 교과목인 소성가공, 유동해석, 유동해석특론과 관련하여 수치해석적인 접근법을 Python을 활용하여 보여주는 예입니다. 사용하는 문제는 Hosford/Caddell의 Metal Forming에서 Fig. 4.6에서 따왔습니다. 언급된 교재의 챕터 4-6을 살펴보시기 바랍니다.\n",
    "\n",
    "\n",
    "창원대학교 신소재공학부 조교수 **정영웅**\n",
    "\n",
    "yjeong [at] changwon.ac.kr"
   ]
  },
  {
   "cell_type": "code",
   "execution_count": 1,
   "metadata": {},
   "outputs": [
    {
     "name": "stdout",
     "output_type": "stream",
     "text": [
      "Populating the interactive namespace from numpy and matplotlib\n"
     ]
    }
   ],
   "source": [
    "%pylab inline"
   ]
  },
  {
   "cell_type": "markdown",
   "metadata": {},
   "source": [
    "## 문제 설명"
   ]
  },
  {
   "cell_type": "markdown",
   "metadata": {},
   "source": [
    "아래의 방정식의 '해석적'인 해를 구하기 힘들어 우리는 수치적으로 근사한(approximate) 해를 구하는 방법을 도입합니다.\n",
    "$$ a \\varepsilon_a^n \\exp(-\\varepsilon_a)=\\varepsilon_b^n \\exp(-\\varepsilon_b)$$\n",
    "\n",
    "\n",
    "대표적인 수치적 방법으로는 [Newton Raphson method](https://en.wikipedia.org/wiki/Newton%27s_method) 가 꼽힙니다. 한글로 된 간단한 설명은 나무위키에서 찾을 수 있네요 - 여기를 참고하세요: [뉴튼 랩슨](https://namu.wiki/w/뉴턴-랩슨%20방법)"
   ]
  },
  {
   "cell_type": "markdown",
   "metadata": {},
   "source": [
    "위의 방정식을 $f(x,y)=0$ 의 형태로 나타내면\n",
    "$$a x^n \\exp(-x)-y^n\\exp(-y)=0$$\n",
    "이고, 위에서 $a$는 상수입니다."
   ]
  },
  {
   "cell_type": "markdown",
   "metadata": {},
   "source": [
    "뉴튼랩슨 방정식을 풀기 위해 필요한 것은 위 함수의 derivative를 입니다. 위에서 독립 변수는 x, 종속 변수는 y입니다. \n",
    "\n",
    "주어진 독립 변수 x에 대해서 종속 변수 y값을 뉴튼랩슨 방법을 통해 얻기 위해서 $\\partial f / \\partial y$가 필요합니다."
   ]
  },
  {
   "cell_type": "markdown",
   "metadata": {},
   "source": [
    "$$\\partial f/\\partial y= -n y^{n-1}\\exp(-y) +y^n \\exp(-y)  $$"
   ]
  },
  {
   "cell_type": "markdown",
   "metadata": {},
   "source": [
    "앞으로 우리는 주어진 x 값에 대해 y 값을 찾는 작업을 할 것입니다. 따라서, 주어진 x값은 상수로 간주되고, 위 함수상에서의 변수는 y값 하나로 볼 수 있습니다. "
   ]
  },
  {
   "cell_type": "markdown",
   "metadata": {},
   "source": [
    "## Newton Raphson 방법의 적용"
   ]
  },
  {
   "cell_type": "markdown",
   "metadata": {},
   "source": [
    "1. 위의 방정식 f(x,y)=0 를 주어진 x에 대해 풀어야 하는 문제에서 x는 상수와 같으므로, 해당 문제는 univariate, 즉 변수가 y 하나인 방정식으로 볼 수 있습니다. 따라서 실은 f(x,y)=0은 주어진 x에 대해 f(y)=0 형태로 표현이 될 수 있습니다.\n",
    "\n",
    "2. 따라서 미지의 y값을 알기 위해서는 우선 y값으로 적절해 보이는 '초기값'을 찾아야 할 것입니다. 해당 문제에서 a, 즉 $f_0$ 값이 1일때 항상 x와 y는 같은 값입니다. 따라서 주어진 x를 y의 초기 추측값으로 사용할 수 있을 것으로 보입니다.\n",
    "\n",
    "3. 초기에 $y_0=x$로 추측한 뒤, 다음으로 $y_1$ 값을 알아보는 방식은 Newton-Raphson 방식을 따라 다음과 같이 실행됩니다.\n",
    "$$y_1 =y_0 - \\frac{f(y_0)}{\\partial{f}/\\partial{y}(y_0)}$$\n",
    "여기서 물론 $\\partial{f}/\\partial{y}$ 값도 $y$에 대한 함수입니다. 위에 나타난 바와 같이 $y$값으로 $y_0$를 사용하면 되겠습니다.\n",
    "\n",
    "4. 다음으로 $y_3, y_4, ... y_n$ 값을 3과 동일한 형태로 반복합니다 - 언제까지? $f(y_n)$ 값이 충분히 맘에 드는 만큼 작아질 때까지!"
   ]
  },
  {
   "cell_type": "markdown",
   "metadata": {},
   "source": [
    "## Prerequisites\n",
    "\n",
    "위의 작업을 순조롭게 수행하기 위해 두 방정식, 그러니까 $f(x,y)=0$ 방정식과 $\\partial f/\\partial y$를 Python 함수로 각각 다음과 같이 꾸며보았습니다:"
   ]
  },
  {
   "cell_type": "code",
   "execution_count": 2,
   "metadata": {},
   "outputs": [],
   "source": [
    "def derive(n,x,y):\n",
    "    return -n*(y**(n-1))*np.exp(-y)+(y**n)*exp(-y)\n",
    "def obj(f0,n,x,y):\n",
    "    return f0*(x**n)*np.exp(-x) - (y**n)*np.exp(-y)"
   ]
  },
  {
   "cell_type": "markdown",
   "metadata": {},
   "source": [
    "아래에서 위 두 Python 함수를 사용하여 $a=0.99$ 이며 $n=0.25$인 재료를 다루면서 $x$값 (0.2)에 대한 $y$값을 찾는 과정을 Newton raphson method활용하겠습니다. 아래의 step-by-step 과정을 주의깊게 살펴보세요."
   ]
  },
  {
   "cell_type": "code",
   "execution_count": 3,
   "metadata": {},
   "outputs": [
    {
     "name": "stdout",
     "output_type": "stream",
     "text": [
      "----------------\n",
      "y0: 0.2\n",
      "f0: -0.00547518253507\n",
      "----------------\n",
      "y1: 0.16\n",
      "f1: 0.00310001755206\n",
      "----------------\n",
      "y2: 0.170225834213\n",
      "f2: 0.000256511034942\n",
      "----------------\n",
      "y3: 0.171236112515\n",
      "f3: 2.31643551873e-06\n"
     ]
    }
   ],
   "source": [
    "## 주어진 재료의 성질 (a는 불균질 파라미터이다.)\n",
    "a=0.99\n",
    "n=0.25\n",
    "## x=0.2로 설정한후 해당 지점에서의 y값을 찾겠다.\n",
    "x=0.2\n",
    "\n",
    "## 초기 스텝에서 y의 초기 값을 'guess'.\n",
    "y0=x*1. ## guesses y value\n",
    "df = derive(n,x,y0)\n",
    "f  = obj(a,n,x,y0)\n",
    "print '----------------'\n",
    "print 'y0:',y0\n",
    "print 'f0:',f\n",
    "\n",
    "## 첫번째 스텝에서 y1값을 전의 y0 값, 그리고 f, df 를 활용하여 또 다시 guess\n",
    "y1 = y0 - f/df\n",
    "df = derive(n,x,y1)\n",
    "f = obj(a,n,x,y1)\n",
    "print '----------------'\n",
    "print 'y1:',y1\n",
    "print 'f1:',f\n",
    "\n",
    "## 두번째 스텝; 비슷하게 진행합니다. f 값이 얼마나 줄어드는지 확인하세요.\n",
    "y2=y1 - f/df\n",
    "df = derive(n,x,y2)\n",
    "f = obj(a,n,x,y2)\n",
    "print '----------------'\n",
    "print 'y2:',y2\n",
    "print 'f2:', f\n",
    "\n",
    "\n",
    "## 세번째 스텝; f 값이 얼마나 줄어드는지 확인하세요 - 이미 매우 작은 값일 겁니다.\n",
    "y3=y2 - f/df\n",
    "df = derive(n,x,y3)\n",
    "f = obj(a,n,x,y3)\n",
    "print '----------------'\n",
    "print 'y3:',y3\n",
    "print 'f3:', f"
   ]
  },
  {
   "cell_type": "markdown",
   "metadata": {},
   "source": [
    "- 위의 스텝들을 계속해서 반복할 필요가 있습니다.\n",
    "- 하지만 위처럼 비슷하거나, 똑같은 명령을 여러번 적기 보다는 좀 더 멋지고 간략하게 나타낼 수 있는 방법이 필요할 것 같습니다.\n",
    "- 아래에 위의 방법을 좀 더 간략하고 **멋지게** 수행하는 함수를 적어보았습니다."
   ]
  },
  {
   "cell_type": "code",
   "execution_count": 4,
   "metadata": {
    "collapsed": true,
    "jupyter": {
     "outputs_hidden": true
    }
   },
   "outputs": [],
   "source": [
    "def newton_raphson(f0,n,x):\n",
    "    ## guesses y value.\n",
    "    y=x*1. \n",
    "    ## 차후에 초기 값 y를 더 알맞은 방식으로 설정해야 할 필요가 있습니다.\n",
    "    ## 이와 관련된 내용은 현 jupyter notebook의 마지막 cell을 참고해주세요.\n",
    "    \n",
    "\n",
    "    ## tolerance는 f의 절대값이 tolerance보다 작은 값일 때 '반복'되는\n",
    "    ## loop를 빠져나오는 기준이 됩니다 (사용자의 목적에 맞게 조정하면 되겠습니다.)\n",
    "    tol=1e-10  \n",
    "    \n",
    "    f=obj(f0,n,x,y)\n",
    "    it=0\n",
    "    \n",
    "    ## Loop 시작\n",
    "    while (abs(f)>tol): ## Loop를 abs(f)값이 tolerance보다 크다면 계속해서 진행됩니다.\n",
    "        it=it+1\n",
    "        df = derive(n,x,y) ## 주어진 y값에서의 df/dy 값.\n",
    "        f  = obj(f0,n,x,y) ## 주어진 y값에 대한 평가 - 함수 f=0이면 완벽한 성공, abs(f)<tol 가 우리가 원하는 수렴 조건!\n",
    "        y = y - f/df       ## 다음 스텝에서의 y값 guess.\n",
    "    ## Loop 끝.\n",
    "    \n",
    "    return y"
   ]
  },
  {
   "cell_type": "markdown",
   "metadata": {},
   "source": [
    "## TEST"
   ]
  },
  {
   "cell_type": "code",
   "execution_count": 5,
   "metadata": {},
   "outputs": [
    {
     "name": "stdout",
     "output_type": "stream",
     "text": [
      "CPU times: user 4 µs, sys: 8 µs, total: 12 µs\n",
      "Wall time: 7.15 µs\n",
      "-------------------------------\n",
      "최종적으로 얻어진 수치해석 결과 값: 0.171245404167\n"
     ]
    }
   ],
   "source": [
    "## test\n",
    "%time ## 아래의 함수를 수행하는데 걸린 시간을 측정해주는 명령입니다.\n",
    "y=newton_raphson(0.99,0.25,0.20) ## newton_raphson 함수의 실행\n",
    "print '-------------------------------'\n",
    "print '최종적으로 얻어진 수치해석 결과 값:', y"
   ]
  },
  {
   "cell_type": "markdown",
   "metadata": {},
   "source": [
    "- 위를 살펴보면 해당 수치해석을 하는데 약 5~10 micro second, 그러니까 10^-5 초 정도가 걸리는 것을 알 수 있습니다 - 매우 빠르죠? 물론 여러분들의 컴퓨터의 성능에 따라 다른 시간이 걸릴 겁니다."
   ]
  },
  {
   "cell_type": "markdown",
   "metadata": {},
   "source": [
    "- 아래는 주어진 n 값에 대해, 다양한 $f_0$ 값들에 경우에 $\\varepsilon_a$ 와 $\\varepsilon_b$가 어떠한 관계를 가지고 있는지를 찾아 보는 방법입니다.\n",
    "- 위의 newton_raphon 함수를 사용하여 xy_curve, 즉 x vs. y 곡선을 찾아주는 함수를 사용했습니다."
   ]
  },
  {
   "cell_type": "code",
   "execution_count": 6,
   "metadata": {
    "collapsed": true,
    "jupyter": {
     "outputs_hidden": true
    }
   },
   "outputs": [],
   "source": [
    "def xy_curve(n=0.25,f0=0.999):\n",
    "    x=np.linspace(0.00,n,100)\n",
    "    y=[]\n",
    "    for i in xrange(len(x)):\n",
    "        y.append(newton_raphson(f0,n,x[i]))\n",
    "    y=np.array(y)\n",
    "    return x,y"
   ]
  },
  {
   "cell_type": "markdown",
   "metadata": {},
   "source": [
    "## TEST  for obtaining actual graphs"
   ]
  },
  {
   "cell_type": "markdown",
   "metadata": {},
   "source": [
    "위 XY 함수를 사용해서 n=0.25 일때 $f_0=0.9, 0.95, 0.99, 0.995, 0.999, 1$ 값에 대해 각각 어떤 $\\varepsilon_a$ vs. $\\varepsilon_b$ 곡선이 나타나는지 그래프로 옮겨보겠습니다."
   ]
  },
  {
   "cell_type": "code",
   "execution_count": 7,
   "metadata": {},
   "outputs": [
    {
     "name": "stderr",
     "output_type": "stream",
     "text": [
      "/usr/local/lib/python2.7/site-packages/ipykernel_launcher.py:2: RuntimeWarning: invalid value encountered in double_scalars\n",
      "  \n",
      "/usr/local/lib/python2.7/site-packages/ipykernel_launcher.py:4: RuntimeWarning: invalid value encountered in double_scalars\n",
      "  after removing the cwd from sys.path.\n",
      "/usr/local/lib/python2.7/site-packages/ipykernel_launcher.py:20: RuntimeWarning: divide by zero encountered in double_scalars\n"
     ]
    },
    {
     "data": {
      "image/png": "[encoded data removed]",
      "text/plain": [
       "<matplotlib.figure.Figure at 0x109c33c50>"
      ]
     },
     "metadata": {},
     "output_type": "display_data"
    }
   ],
   "source": [
    "n=0.25\n",
    "fs=[0.9,0.95,0.99,0.995,0.999,1.]\n",
    "fs=np.array(fs)\n",
    "\n",
    "ax=gca() ## 그래프가 그려질 axes object를 ax에 저장.\n",
    "for i in xrange(len(fs)):\n",
    "    ## xy_curve함수에서 얻어진 그래프를 x,y 변수에 저장 그립니다.\n",
    "    x,y=xy_curve(n,fs[i])\n",
    "    ## 위 x, y값을 ax에 포함된 plot함수를 사용하여 그립니다. \n",
    "    ## label argument를 추후에 레전드를 꾸미기 위해서 지정해줍니다.\n",
    "    ax.plot(x,y,'-',label=r'$f_0=%.3f$'%fs[i])\n",
    "\n",
    "\n",
    "## 아래는 그래프를 '꾸며'주는 명령어들입니다.\n",
    "ax.set_ylim(0.,n)\n",
    "ax.set_xlim(0.,n)\n",
    "ax.set_xlabel(r'$\\varepsilon_a$',fontsize=19)\n",
    "ax.set_ylabel(r'$\\varepsilon_b$',fontsize=19)\n",
    "ax.set_aspect('equal')\n",
    "ax.legend(bbox_to_anchor=(1,1.))\n",
    "ax.grid()"
   ]
  },
  {
   "cell_type": "markdown",
   "metadata": {},
   "source": [
    "## For advanced students."
   ]
  },
  {
   "cell_type": "markdown",
   "metadata": {},
   "source": [
    "- 위의 newton_raphson Python 함수를 사용했을 때, $f_0$ 값이 낮을 수록, 수렴된 값을 끝까지 찾지 못했습니다. 그리고 RuntimeWarning 메시지도 보이네요. 아마도 해당 방법으로 approximate한 해를 찾는 과정에서 minor한 문제가 있나 봅니다.\n",
    "- 위의 문제(minor라고는 했지만)를 해결하기 위해서는 초기값을 설정하는 방식을 개선 시킬 필요가 있습니다. 위에 주어진 script를 활용하여 이를 해결해 보세요."
   ]
  }
 ],
 "metadata": {
  "kernelspec": {
   "display_name": "Python 2",
   "language": "python",
   "name": "python2"
  },
  "language_info": {
   "codemirror_mode": {
    "name": "ipython",
    "version": 3
   },
   "file_extension": ".py",
   "mimetype": "text/x-python",
   "name": "python",
   "nbconvert_exporter": "python",
   "pygments_lexer": "ipython3",
   "version": "3.8.6"
  }
 },
 "nbformat": 4,
 "nbformat_minor": 4
}
