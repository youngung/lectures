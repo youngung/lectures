{
 "cells": [
  {
   "cell_type": "code",
   "execution_count": 2,
   "id": "c414178e",
   "metadata": {},
   "outputs": [
    {
     "name": "stdout",
     "output_type": "stream",
     "text": [
      "Populating the interactive namespace from numpy and matplotlib\n"
     ]
    }
   ],
   "source": [
    "%pylab inline"
   ]
  },
  {
   "cell_type": "code",
   "execution_count": 37,
   "id": "6eb1076f",
   "metadata": {},
   "outputs": [],
   "source": [
    "def dyadic(a,b,n):\n",
    "    c=np.zeros((n,n))\n",
    "    for i in range(n):\n",
    "        for j in range(n):\n",
    "            c[i,j]=a[i]*b[j]\n",
    "    return c"
   ]
  },
  {
   "cell_type": "code",
   "execution_count": 45,
   "id": "75617d01",
   "metadata": {},
   "outputs": [],
   "source": [
    "def calc_mat(e1,e2,eh1,eh2):\n",
    "    c=np.zeros((2,2))\n",
    "    \n",
    "    c[0,0]=np.dot(e1,eh1)\n",
    "    c[0,1]=np.dot(e1,eh2)\n",
    "    c[1,0]=np.dot(e2,eh1)\n",
    "    c[1,1]=np.dot(e2,eh2)\n",
    "    print(c)\n",
    "    return c"
   ]
  },
  {
   "cell_type": "code",
   "execution_count": 46,
   "id": "8df7eceb",
   "metadata": {},
   "outputs": [
    {
     "data": {
      "image/png": "[encoded data removed]",
      "text/plain": [
       "<Figure size 432x288 with 1 Axes>"
      ]
     },
     "metadata": {
      "needs_background": "light"
     },
     "output_type": "display_data"
    }
   ],
   "source": [
    "lih=True\n",
    "\n",
    "e1=[1,0]\n",
    "e2=[0,1]\n",
    "\n",
    "e1_hat=[1,2]\n",
    "e2_hat=[-2,3]\n",
    "\n",
    "fig=plt.figure()\n",
    "ax1=fig.add_subplot(111)\n",
    "ax1.set_xlim(-3,2)\n",
    "ax1.set_ylim(-0.5,4)\n",
    "\n",
    "### plotting e-basis\n",
    "\n",
    "c='k'\n",
    "w=0.04\n",
    "ax1.arrow(0,0,*e1,length_includes_head=lih,width=w,ec=c,fc=c)\n",
    "ax1.arrow(0,0,*e2,length_includes_head=lih,width=w,ec=c,fc=c)\n",
    "ax1.text(0.9,-0.2,r'$e_1$')\n",
    "ax1.text(-0.4,0.9,r'$e_2$')\n",
    "\n",
    "## plotting e hat-basis\n",
    "\n",
    "c='r'\n",
    "ax1.arrow(0,0,*e1_hat,label=r'$e_{1}$',length_includes_head=lih,width=w,ec=c,fc=c)\n",
    "ax1.arrow(0,0,*e2_hat,label=r'$e_{1}$',length_includes_head=lih,width=w,ec=c,fc=c)\n",
    "ax1.text(*e1_hat,r'$\\hat{e}_1$',c='r')\n",
    "ax1.text(*e2_hat,r'$\\hat{e}_2$',c='r')\n",
    "ax1.set_aspect('equal')\n",
    "\n",
    "\n",
    "fig.savefig('/tmp/chg_basis.pdf')"
   ]
  },
  {
   "cell_type": "code",
   "execution_count": 47,
   "id": "49a5d0ad",
   "metadata": {},
   "outputs": [
    {
     "name": "stdout",
     "output_type": "stream",
     "text": [
      "[[ 1. -2.]\n",
      " [ 2.  3.]]\n"
     ]
    },
    {
     "data": {
      "text/plain": [
       "array([[ 1., -2.],\n",
       "       [ 2.,  3.]])"
      ]
     },
     "execution_count": 47,
     "metadata": {},
     "output_type": "execute_result"
    }
   ],
   "source": [
    "calc_mat(e1,e2,e1_hat,e2_hat)"
   ]
  },
  {
   "cell_type": "code",
   "execution_count": null,
   "id": "87d0979d",
   "metadata": {},
   "outputs": [],
   "source": []
  }
 ],
 "metadata": {
  "kernelspec": {
   "display_name": "Python 3",
   "language": "python",
   "name": "python3"
  },
  "language_info": {
   "codemirror_mode": {
    "name": "ipython",
    "version": 3
   },
   "file_extension": ".py",
   "mimetype": "text/x-python",
   "name": "python",
   "nbconvert_exporter": "python",
   "pygments_lexer": "ipython3",
   "version": "3.8.6"
  }
 },
 "nbformat": 4,
 "nbformat_minor": 5
}
