{
 "cells": [
  {
   "cell_type": "code",
   "execution_count": 1,
   "id": "e6809089",
   "metadata": {},
   "outputs": [
    {
     "name": "stdout",
     "output_type": "stream",
     "text": [
      "Using matplotlib backend: MacOSX\n",
      "Populating the interactive namespace from numpy and matplotlib\n"
     ]
    }
   ],
   "source": [
    "%pylab"
   ]
  },
  {
   "cell_type": "code",
   "execution_count": 2,
   "id": "a6081db4",
   "metadata": {},
   "outputs": [],
   "source": [
    "def unit(a):\n",
    "    mag=np.sqrt((a**2).sum())\n",
    "    return a/mag\n",
    "def dyadic(a,b):\n",
    "    c=np.zeros((3,3))\n",
    "    for i in range(3):\n",
    "        for j in range(3):\n",
    "            c[i,j]=a[i]*b[j]\n",
    "    return c"
   ]
  },
  {
   "cell_type": "code",
   "execution_count": 3,
   "id": "1ff0ee7a",
   "metadata": {},
   "outputs": [],
   "source": [
    "n=[1,1,1]\n",
    "b=[1,0,-1]\n",
    "n=np.array(n)\n",
    "b=np.array(b)\n",
    "n=unit(n)\n",
    "b=unit(b)\n",
    "\n",
    "schmid=dyadic(n,b)"
   ]
  },
  {
   "cell_type": "code",
   "execution_count": 4,
   "id": "fb81f254",
   "metadata": {},
   "outputs": [
    {
     "data": {
      "text/plain": [
       "<function numpy.tensordot(a, b, axes=2)>"
      ]
     },
     "execution_count": 4,
     "metadata": {},
     "output_type": "execute_result"
    }
   ],
   "source": [
    "np.tensordot"
   ]
  },
  {
   "cell_type": "code",
   "execution_count": 5,
   "id": "24a8bfc9",
   "metadata": {},
   "outputs": [
    {
     "data": {
      "text/plain": [
       "array(0.40824829)"
      ]
     },
     "execution_count": 5,
     "metadata": {},
     "output_type": "execute_result"
    }
   ],
   "source": [
    "sig=np.zeros((3,3))\n",
    "sig[0,0]=1\n",
    "np.tensordot(sig,schmid)"
   ]
  }
 ],
 "metadata": {
  "kernelspec": {
   "display_name": "Python 3",
   "language": "python",
   "name": "python3"
  },
  "language_info": {
   "codemirror_mode": {
    "name": "ipython",
    "version": 3
   },
   "file_extension": ".py",
   "mimetype": "text/x-python",
   "name": "python",
   "nbconvert_exporter": "python",
   "pygments_lexer": "ipython3",
   "version": "3.8.6"
  }
 },
 "nbformat": 4,
 "nbformat_minor": 5
}
