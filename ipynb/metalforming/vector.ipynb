{
 "cells": [
  {
   "cell_type": "code",
   "execution_count": 1,
   "metadata": {},
   "outputs": [
    {
     "name": "stdout",
     "output_type": "stream",
     "text": [
      "Populating the interactive namespace from numpy and matplotlib\n"
     ]
    }
   ],
   "source": [
    "%pylab inline"
   ]
  },
  {
   "cell_type": "code",
   "execution_count": 2,
   "metadata": {},
   "outputs": [],
   "source": [
    "def calc_rot(th):\n",
    "    th=th*np.pi/180.\n",
    "    rect=np.pi/2.\n",
    "    return np.array([[cos(th),cos(rect-th)],[cos(rect+th),cos(th)]])"
   ]
  },
  {
   "cell_type": "code",
   "execution_count": 4,
   "metadata": {},
   "outputs": [
    {
     "name": "stderr",
     "output_type": "stream",
     "text": [
      "/Users/youngung/.pyenv/versions/3.8.6/lib/python3.8/site-packages/matplotlib/text.py:1165: FutureWarning: elementwise comparison failed; returning scalar instead, but in the future will perform elementwise comparison\n",
      "  if s != self._text:\n",
      "/Users/youngung/.pyenv/versions/3.8.6/lib/python3.8/site-packages/matplotlib/text.py:1165: FutureWarning: elementwise comparison failed; returning scalar instead, but in the future will perform elementwise comparison\n",
      "  if s != self._text:\n",
      "/Users/youngung/.pyenv/versions/3.8.6/lib/python3.8/site-packages/matplotlib/text.py:1165: FutureWarning: elementwise comparison failed; returning scalar instead, but in the future will perform elementwise comparison\n",
      "  if s != self._text:\n",
      "/Users/youngung/.pyenv/versions/3.8.6/lib/python3.8/site-packages/matplotlib/text.py:1165: FutureWarning: elementwise comparison failed; returning scalar instead, but in the future will perform elementwise comparison\n",
      "  if s != self._text:\n"
     ]
    },
    {
     "data": {
      "image/png": "[encoded data removed]",
      "text/plain": [
       "<Figure size 432x288 with 1 Axes>"
      ]
     },
     "metadata": {
      "needs_background": "light"
     },
     "output_type": "display_data"
    }
   ],
   "source": [
    "hw=0.05\n",
    "\n",
    "fig=plt.figure()\n",
    "ax=fig.add_subplot(111)\n",
    "ax.set_aspect('equal')\n",
    "\n",
    "ax.set_xlim(-1.0,3.0)\n",
    "ax.set_ylim(-0.2,1.4)\n",
    "\n",
    "e1=np.array([1,0])\n",
    "e2=np.array([0,1])\n",
    "\n",
    "ax.arrow(-0.1,0,*e1,width=0.01,ec='k',fc='k')\n",
    "ax.arrow(0,-0.1,*e2,width=0.01,ec='k',fc='k')\n",
    "ax.text(-0.1,0.9,r'$Y$')\n",
    "ax.text(0.9,-0.1,r'$X$')\n",
    "\n",
    "fig.savefig('0.pdf')\n",
    "\n",
    "\n",
    "\n",
    "\n",
    "\n",
    "## two vectors to plot \n",
    "f1=np.array([0.6,0.4])\n",
    "f2=np.array([0.2,0.8])\n",
    "\n",
    "c='g'\n",
    "ax.arrow(0,0,*f1,width=0.005,ec=c,fc=c,head_width=hw)\n",
    "ax.text(*f1+[0.1,0],f1)\n",
    "\n",
    "c='b'\n",
    "ax.arrow(0,0,*f2,width=0.005,ec=c,fc=c,head_width=hw)\n",
    "ax.text(*f2+[-0.1,0.15],f2)\n",
    "\n",
    "fig.savefig('1.pdf')\n",
    "\n",
    "\n",
    "\n",
    "\n",
    "\n",
    "## summed up vector\n",
    "f3=f1+f2\n",
    "c='m'\n",
    "ax.arrow(0,0,*f3,width=0.005,ec=c,fc=c,head_width=hw)\n",
    "ax.text(*f3+[0.1,0],f3)\n",
    "fig.savefig('2.pdf')\n",
    "\n",
    "\n",
    "## new basis\n",
    "r=calc_rot(45.)\n",
    "e1_hat=np.dot(r.T,e1)\n",
    "e2_hat=np.dot(r.T,e2)\n",
    "\n",
    "ax.arrow(0,0,*e1_hat,width=0.01,ec='r',fc='r')\n",
    "ax.arrow(0,0,*e2_hat,width=0.01,ec='r',fc='r')\n",
    "\n",
    "buf=np.array([0.1,0.05])\n",
    "a=e1_hat-buf\n",
    "buf=np.array([0.1,0.05])\n",
    "b=e2_hat-buf\n",
    "ax.text(*a+[0,0.05],r'$\\hat{X}$',c='r')\n",
    "ax.text(*b+[0,-0.05],r'$\\hat{Y}$',c='r')\n",
    "fig.savefig('3.pdf')\n",
    "\n",
    "\n",
    "## components in hat basis\n",
    "ax.text(*f1+[0.7,0],np.dot(r,f1),c='r')\n",
    "ax.text(*f2+[0.6,0.15],np.dot(r,f2),c='r')\n",
    "fig.savefig('4.pdf')\n",
    "f3_hat=np.dot(r,f1)+np.dot(r,f2)\n",
    "ax.text(*f3+[0.63,0],f3_hat,c='r')\n",
    "fig.savefig('5.pdf')\n",
    "\n",
    "\n",
    "\n",
    "#c='b'\n",
    "#ax.arrow(*f1,*(f3-f1),width=0.005,ec=c,fc=c,alpha=0.4,head_width=hw)\n",
    "\n"
   ]
  },
  {
   "cell_type": "markdown",
   "metadata": {},
   "source": [
    "Examples"
   ]
  },
  {
   "cell_type": "code",
   "execution_count": 5,
   "metadata": {},
   "outputs": [],
   "source": [
    "def norm(a):\n",
    "    return np.sqrt((a**2).sum())\n",
    "def unit(a):\n",
    "    return a/norm(a)"
   ]
  },
  {
   "cell_type": "code",
   "execution_count": 6,
   "metadata": {},
   "outputs": [
    {
     "name": "stdout",
     "output_type": "stream",
     "text": [
      "th: 42.273689006093754\n"
     ]
    },
    {
     "name": "stderr",
     "output_type": "stream",
     "text": [
      "/Users/youngung/.pyenv/versions/3.8.6/lib/python3.8/site-packages/matplotlib/text.py:1165: FutureWarning: elementwise comparison failed; returning scalar instead, but in the future will perform elementwise comparison\n",
      "  if s != self._text:\n",
      "/Users/youngung/.pyenv/versions/3.8.6/lib/python3.8/site-packages/matplotlib/text.py:1165: FutureWarning: elementwise comparison failed; returning scalar instead, but in the future will perform elementwise comparison\n",
      "  if s != self._text:\n"
     ]
    },
    {
     "data": {
      "text/plain": [
       "0.32999999999999996"
      ]
     },
     "execution_count": 6,
     "metadata": {},
     "output_type": "execute_result"
    },
    {
     "data": {
      "image/png": "[encoded data removed]",
      "text/plain": [
       "<Figure size 432x288 with 1 Axes>"
      ]
     },
     "metadata": {
      "needs_background": "light"
     },
     "output_type": "display_data"
    }
   ],
   "source": [
    "hw=0.05\n",
    "lih=True\n",
    "\n",
    "fig=plt.figure()\n",
    "ax=fig.add_subplot(111)\n",
    "ax.set_aspect('equal')\n",
    "\n",
    "ax.set_xlim(-0.2,1.5)\n",
    "ax.set_ylim(-0.2,1.2)\n",
    "\n",
    "e1=np.array([1,0])\n",
    "e2=np.array([0,1])\n",
    "\n",
    "ax.arrow(-0.1,0,*e1,width=0.01,ec='k',fc='k',length_includes_head=lih)\n",
    "ax.arrow(0,-0.1,*e2,width=0.01,ec='k',fc='k',length_includes_head=lih)\n",
    "ax.text(-0.1,0.9,r'$Y$')\n",
    "ax.text(0.9,-0.1,r'$X$')\n",
    "\n",
    "\n",
    "## two vectors to plot \n",
    "f1=np.array([0.6,0.4])\n",
    "f2=np.array([0.15,0.6])\n",
    "p=np.dot(f1,f2)\n",
    "th=np.arccos(p/norm(f1)/norm(f2))\n",
    "print('th:',th/np.pi*180.)\n",
    "\n",
    "\n",
    "c='g'\n",
    "ax.arrow(0,0,*f1,width=0.005,ec=c,fc=c,head_width=hw,length_includes_head=lih)\n",
    "ax.text(*f1+[0.1,0],f1)\n",
    "\n",
    "c='b'\n",
    "ax.arrow(0,0,*f2,width=0.005,ec=c,fc=c,head_width=hw,length_includes_head=lih)\n",
    "ax.text(*f2+[-0.1,0.15],f2)\n",
    "fig.savefig('innerdot0.pdf')\n",
    "\n",
    "\n",
    "\n",
    "\n",
    "\n",
    "proj=norm(f2)*cos(th)*unit(f1)\n",
    "c='gray'\n",
    "ax.arrow(*f2,*(proj-f2),width=0.005,ec=c,fc=c,head_width=hw,ls='-.',alpha=0.8,length_includes_head=lih)\n",
    "fig.savefig('innerdot1.pdf')\n",
    "c='r'\n",
    "ax.arrow(0,0,*proj,width=0.005,ec=c,fc=c,head_width=hw,ls='-.',alpha=0.8,length_includes_head=lih)\n",
    "ax.text(*proj+[0.1,0],proj)\n",
    "fig.savefig('innerdot2.pdf')\n",
    "\n",
    "np.dot(proj,f1)"
   ]
  },
  {
   "cell_type": "code",
   "execution_count": 7,
   "metadata": {},
   "outputs": [
    {
     "name": "stdout",
     "output_type": "stream",
     "text": [
      "th: 42.273689006093754\n"
     ]
    },
    {
     "name": "stderr",
     "output_type": "stream",
     "text": [
      "/Users/youngung/.pyenv/versions/3.8.6/lib/python3.8/site-packages/matplotlib/text.py:1165: FutureWarning: elementwise comparison failed; returning scalar instead, but in the future will perform elementwise comparison\n",
      "  if s != self._text:\n",
      "/Users/youngung/.pyenv/versions/3.8.6/lib/python3.8/site-packages/matplotlib/text.py:1165: FutureWarning: elementwise comparison failed; returning scalar instead, but in the future will perform elementwise comparison\n",
      "  if s != self._text:\n"
     ]
    },
    {
     "data": {
      "text/plain": [
       "0.3299999999999999"
      ]
     },
     "execution_count": 7,
     "metadata": {},
     "output_type": "execute_result"
    },
    {
     "data": {
      "image/png": "[encoded data removed]",
      "text/plain": [
       "<Figure size 432x288 with 1 Axes>"
      ]
     },
     "metadata": {
      "needs_background": "light"
     },
     "output_type": "display_data"
    }
   ],
   "source": [
    "hw=0.05\n",
    "lih=True\n",
    "\n",
    "fig=plt.figure()\n",
    "ax=fig.add_subplot(111)\n",
    "ax.set_aspect('equal')\n",
    "\n",
    "ax.set_xlim(-0.2,1.5)\n",
    "ax.set_ylim(-0.2,1.2)\n",
    "\n",
    "e1=np.array([1,0])\n",
    "e2=np.array([0,1])\n",
    "\n",
    "ax.arrow(-0.1,0,*e1,width=0.01,ec='k',fc='k',length_includes_head=lih)\n",
    "ax.arrow(0,-0.1,*e2,width=0.01,ec='k',fc='k',length_includes_head=lih)\n",
    "ax.text(-0.1,0.9,r'$Y$')\n",
    "ax.text(0.9,-0.1,r'$X$')\n",
    "\n",
    "\n",
    "## two vectors to plot \n",
    "f1=np.array([0.6,0.4])\n",
    "f2=np.array([0.15,0.6])\n",
    "p=np.dot(f1,f2)\n",
    "th=np.arccos(p/norm(f1)/norm(f2))\n",
    "print('th:',th/np.pi*180.)\n",
    "\n",
    "\n",
    "c='g'\n",
    "ax.arrow(0,0,*f1,width=0.005,ec=c,fc=c,head_width=hw,length_includes_head=lih)\n",
    "ax.text(*f1+[0.1,0],f1)\n",
    "\n",
    "c='b'\n",
    "ax.arrow(0,0,*f2,width=0.005,ec=c,fc=c,head_width=hw,length_includes_head=lih)\n",
    "ax.text(*f2+[-0.1,0.15],f2)\n",
    "fig.savefig('innerdot0.pdf')\n",
    "\n",
    "\n",
    "proj=norm(f1)*cos(th)*unit(f2)\n",
    "c='gray'\n",
    "ax.arrow(*f1,*(proj-f1),width=0.005,ec=c,fc=c,head_width=hw,ls='-.',alpha=0.8,length_includes_head=lih)\n",
    "fig.savefig('innerdot1.pdf')\n",
    "\n",
    "c='r'\n",
    "ax.arrow(0,0,*proj,width=0.005,ec=c,fc=c,head_width=hw,ls='-.',alpha=0.8,length_includes_head=lih)\n",
    "ax.text(*proj+[0.1,0],proj)\n",
    "fig.savefig('innerdot2.pdf')\n",
    "\n",
    "\n",
    "np.dot(proj,f2)"
   ]
  }
 ],
 "metadata": {
  "kernelspec": {
   "display_name": "Python 3",
   "language": "python",
   "name": "python3"
  },
  "language_info": {
   "codemirror_mode": {
    "name": "ipython",
    "version": 3
   },
   "file_extension": ".py",
   "mimetype": "text/x-python",
   "name": "python",
   "nbconvert_exporter": "python",
   "pygments_lexer": "ipython3",
   "version": "3.8.6"
  }
 },
 "nbformat": 4,
 "nbformat_minor": 5
}
