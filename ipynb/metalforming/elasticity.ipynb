{
 "cells": [
  {
   "cell_type": "code",
   "execution_count": 1,
   "metadata": {},
   "outputs": [
    {
     "name": "stdout",
     "output_type": "stream",
     "text": [
      "Populating the interactive namespace from numpy and matplotlib\n"
     ]
    }
   ],
   "source": [
    "%pylab inline"
   ]
  },
  {
   "cell_type": "code",
   "execution_count": 2,
   "metadata": {},
   "outputs": [],
   "source": [
    "def calc_sig(eps,lamb,mu):\n",
    "    sig=np.zeros((3,3))\n",
    "    d=np.identity(3)\n",
    "    \n",
    "    ekk=0.\n",
    "    for k in range(3):\n",
    "        ekk=ekk+eps[k,k]\n",
    "    \n",
    "    for i in range(3):\n",
    "        for j in range(3):\n",
    "            \n",
    "            sig[i,j]=lamb*d[i,j]*ekk+2*mu*eps[i,j]\n",
    "    return sig\n",
    "\n",
    "\n",
    "\n",
    "def calc_eps(sig,E,nu):\n",
    "    eps=np.zeros((3,3))\n",
    "    d=np.identity(3)\n",
    "    \n",
    "    skk=0.\n",
    "    for k in range(3):\n",
    "        skk=skk+sig[k,k]\n",
    "    \n",
    "    for i in range(3):\n",
    "        for j in range(3):\n",
    "            eps[i,j]=1/E*(sig[i,j]-nu*(skk*d[i,j]-sig[i,j]))\n",
    "    return eps\n"
   ]
  },
  {
   "cell_type": "code",
   "execution_count": 3,
   "metadata": {},
   "outputs": [],
   "source": [
    "def lamb_mu(E,nu):\n",
    "    lamb=E*nu/(1+nu)/(1-2*nu)\n",
    "    mu=E/2/(1+nu)\n",
    "    return lamb,mu"
   ]
  },
  {
   "cell_type": "code",
   "execution_count": 4,
   "metadata": {},
   "outputs": [
    {
     "name": "stdout",
     "output_type": "stream",
     "text": [
      "lamb: 115384.61538461536\n",
      "mu: 76923.07692307692\n"
     ]
    }
   ],
   "source": [
    "E=200000\n",
    "nu=0.3\n",
    "lamb,mu=lamb_mu(E,nu)\n",
    "print('lamb:',lamb)\n",
    "print('mu:',mu)"
   ]
  },
  {
   "cell_type": "code",
   "execution_count": 5,
   "metadata": {},
   "outputs": [],
   "source": [
    "eps=np.zeros((3,3))\n",
    "eps[0,0]=0.001\n",
    "eps[1,1]=-0.0003\n",
    "eps[2,2]=-0.0003\n",
    "\n",
    "sig=calc_sig(eps,lamb=lamb,mu=mu)"
   ]
  },
  {
   "cell_type": "code",
   "execution_count": 6,
   "metadata": {
    "scrolled": true
   },
   "outputs": [
    {
     "name": "stdout",
     "output_type": "stream",
     "text": [
      " 200.000    0.000    0.000\n",
      "   0.000    0.000    0.000\n",
      "   0.000    0.000    0.000\n"
     ]
    }
   ],
   "source": [
    "for i in range(3):\n",
    "    print('%8.3f %8.3f %8.3f'%(sig[i,0],sig[i,1],sig[i,2]))"
   ]
  },
  {
   "cell_type": "code",
   "execution_count": 7,
   "metadata": {},
   "outputs": [
    {
     "name": "stdout",
     "output_type": "stream",
     "text": [
      " 0.00100  0.00000  0.00000\n",
      " 0.00000 -0.00030  0.00000\n",
      " 0.00000  0.00000 -0.00030\n"
     ]
    }
   ],
   "source": [
    "eps=calc_eps(sig,E,nu)\n",
    "\n",
    "\n",
    "for i in range(3):\n",
    "    print('%8.5f %8.5f %8.5f'%(eps[i,0],eps[i,1],eps[i,2]))"
   ]
  }
 ],
 "metadata": {
  "kernelspec": {
   "display_name": "Python 3",
   "language": "python",
   "name": "python3"
  },
  "language_info": {
   "codemirror_mode": {
    "name": "ipython",
    "version": 3
   },
   "file_extension": ".py",
   "mimetype": "text/x-python",
   "name": "python",
   "nbconvert_exporter": "python",
   "pygments_lexer": "ipython3",
   "version": "3.8.6"
  }
 },
 "nbformat": 4,
 "nbformat_minor": 5
}
