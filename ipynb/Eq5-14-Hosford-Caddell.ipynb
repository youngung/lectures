{
 "cells": [
  {
   "cell_type": "markdown",
   "metadata": {},
   "source": [
    "창원대학교 신소재공학부 유동해석, 소성가공, 유동해석특론 교과목에 활용될 자료입니다. \n",
    "\n",
    "창원대 신소재공학부 [정영웅](mailto:yjeong@changwon.ac.kr)\n",
    "\n",
    "yjeong[at]changwon.ac.kr"
   ]
  },
  {
   "cell_type": "code",
   "execution_count": 1,
   "metadata": {},
   "outputs": [
    {
     "name": "stdout",
     "output_type": "stream",
     "text": [
      "Populating the interactive namespace from numpy and matplotlib\n"
     ]
    }
   ],
   "source": [
    "%pylab inline\n",
    "exp=np.exp"
   ]
  },
  {
   "cell_type": "markdown",
   "metadata": {},
   "source": [
    "##  Problem description:\n",
    "The main equation that is given to us is"
   ]
  },
  {
   "cell_type": "markdown",
   "metadata": {},
   "source": [
    "$$\n",
    "\\exp(-y)y^{n} \\Big(\\frac{dy}{dt}\\Big)^m=f_0 \\exp(-x)x^{n} \\Big(\\frac{dx}{dt}\\Big)^m\n",
    "$$"
   ]
  },
  {
   "cell_type": "markdown",
   "metadata": {},
   "source": [
    "- $f_0$ is a constant"
   ]
  },
  {
   "cell_type": "markdown",
   "metadata": {},
   "source": [
    "- $m$ and $n$ are material parameters associated with strain rate sensitivity and strain hardening, respectively."
   ]
  },
  {
   "cell_type": "markdown",
   "metadata": {},
   "source": [
    "- We specify a small time increment ${\\Delta t}$, which is fixed as a constant."
   ]
  },
  {
   "cell_type": "markdown",
   "metadata": {},
   "source": [
    "- The strain rate of A region is given. Therefore, $\\frac{dx}{dt}$ is known so that $\\Delta x$ can be obtained as $\\dot{x}\\Delta t$"
   ]
  },
  {
   "cell_type": "markdown",
   "metadata": {},
   "source": [
    "We'll need to find the corresponding $\\Delta y$."
   ]
  },
  {
   "cell_type": "markdown",
   "metadata": {},
   "source": [
    "$$\n",
    "\\exp(-y_{(k+1)})(y_{(k+1)})^{n} \\Big(\\frac{y_{(k+1)}-y_{(k)}}{\\Delta t}\\Big)^m=f_0 \\exp(-x_{(k+1)})(x_{(k+1)})^{n} (\\dot{x})^m\n",
    "$$"
   ]
  },
  {
   "cell_type": "markdown",
   "metadata": {},
   "source": [
    "where the subscripts $_{(k)}$ and $_{(k+1)}$ denote the previous and next steps, respectively."
   ]
  },
  {
   "cell_type": "markdown",
   "metadata": {},
   "source": [
    "To solve the above equation as a function of $\\Delta y$ for the current increment step, we use Newton-Raphson method."
   ]
  },
  {
   "cell_type": "markdown",
   "metadata": {},
   "source": [
    "### NR algorithm"
   ]
  },
  {
   "cell_type": "markdown",
   "metadata": {},
   "source": [
    "$$\n",
    "F(y_{(k+1)})=\n",
    "\\exp(-y_{(k+1)})(y_{(k+1)})^{n} \\Big(\\frac{y_{(k+1)}-y_{(k)}}{\\Delta t}\\Big)^m-f_0 \\exp(-x_{(k+1)})(x_{(k+1)})^{n} (\\dot{x})^m\n",
    "$$"
   ]
  },
  {
   "cell_type": "markdown",
   "metadata": {},
   "source": [
    "Yet, for a given increment, the second term can be treated as a constant for each individual incremental step so that"
   ]
  },
  {
   "cell_type": "markdown",
   "metadata": {},
   "source": [
    "$$\n",
    "F( y_{(k+1)})=\n",
    "\\exp(-y_{(k+1)})(y_{(k+1)})^{n} \\Big(\\frac{y_{(k+1)}-y_{(k)}}{\\Delta t}\\Big)^m-C\n",
    "$$"
   ]
  },
  {
   "cell_type": "markdown",
   "metadata": {},
   "source": [
    "where $C=f_0 \\exp(-x_{(k+1)})(x_{(k+1)})^{n} (\\dot{x})^m$"
   ]
  },
  {
   "cell_type": "markdown",
   "metadata": {},
   "source": [
    "The partial derivative is:"
   ]
  },
  {
   "cell_type": "markdown",
   "metadata": {},
   "source": [
    "$$\n",
    "\\frac{\\partial F(y_{(k+1)})}{\\partial  y_{(k+1)}}= \n",
    " -\\exp(-y_{(k+1)}) (y_{(k+1)})^{n}                   \\Big(\\frac{y_{(k+1)}-y_{(k)}}{\\Delta t}\\Big)^m\n",
    "+n\\exp(-y_{(k+1)}) (y_{(k+1)})^{n-1}                 \\Big(\\frac{y_{(k+1)}-y_{(k)}}{\\Delta t}\\Big)^m\n",
    "+m\\exp(-y_{(k+1)}) (y_{(k+1)})^{n} \\frac{1}{\\Delta t}\\Big(\\frac{y_{(k+1)}-y_{(k)}}{\\Delta t}\\Big)^{m-1}\n",
    "$$"
   ]
  },
  {
   "cell_type": "markdown",
   "metadata": {},
   "source": [
    "### Implementation"
   ]
  },
  {
   "cell_type": "code",
   "execution_count": 2,
   "metadata": {
    "collapsed": true
   },
   "outputs": [],
   "source": [
    "def fprime(yk1,yk,n,m,dt):\n",
    "    return -exp(-yk1)*(yk1)**(n)   *((yk1-yk)/dt)**m \\\n",
    "     +  (n)*exp(-yk1)*(yk1)**(n-1) *((yk1-yk)/dt)**m  \\\n",
    "     +   m *exp(-yk1)*(yk1)**(n)/dt*((yk1-yk)/dt)**(m-1)\n",
    "def obj(yk1,yk,n,m,dt,C):\n",
    "    return exp(-yk1)*(yk1)**(n)*((yk1-yk)/dt)**m-C\n",
    "def calC(f0,xk1,n,m,xdot):\n",
    "    return f0*exp(-xk1)*xk1**(n)*(xdot**m)\n",
    "def nr(f0,yk,xk1,n,m,dt,xdot,guess):\n",
    "    dx=xdot*dt\n",
    "    yk1=guess\n",
    "    ## Calculate C\n",
    "    C = calC(f0,xk1,n,m,xdot)\n",
    "    \n",
    "    tol=1e-9\n",
    "    f=tol*2.\n",
    "    nit=0\n",
    "    \n",
    "    while (abs(f)>tol):\n",
    "        nit=nit+1\n",
    "        f=obj(yk1,yk,n,m,dt,C)\n",
    "        df=fprime(yk1,yk,n,m,dt)\n",
    "        yk1=yk1-f/df\n",
    "        \n",
    "        if nit>100: raise IOError, 'Diverged'\n",
    "    \n",
    "    return dx,yk1,f"
   ]
  },
  {
   "cell_type": "markdown",
   "metadata": {},
   "source": [
    "### Test NR algorithm"
   ]
  },
  {
   "cell_type": "code",
   "execution_count": 3,
   "metadata": {},
   "outputs": [
    {
     "name": "stdout",
     "output_type": "stream",
     "text": [
      "CPU times: user 2 µs, sys: 1 µs, total: 3 µs\n",
      "Wall time: 4.05 µs\n"
     ]
    },
    {
     "data": {
      "text/plain": [
       "(0.0025000000000000005, 0.0024995169309590076, -2.2120170278805418e-10)"
      ]
     },
     "execution_count": 3,
     "metadata": {},
     "output_type": "execute_result"
    }
   ],
   "source": [
    "%time\n",
    "dt=0.05\n",
    "xdot=0.05\n",
    "dx=dt*xdot\n",
    "f0=0.9999\n",
    "n=0.5\n",
    "m=0.02\n",
    "\n",
    "##   f0 , yk , xk1, n,   m , dt, xdot,guess on dy\n",
    "nr(  f0,  0,   dx,  n,   m,  dt, xdot, dx)"
   ]
  },
  {
   "cell_type": "code",
   "execution_count": 4,
   "metadata": {
    "collapsed": true
   },
   "outputs": [],
   "source": [
    "def xy_curve(dt,xdot,f0,n,m):\n",
    "    xk=0.\n",
    "    yk=0.\n",
    "    yk1=0.\n",
    "    dx=xdot*dt\n",
    "    xk1=xk+dx\n",
    "    nit=0\n",
    "    xs=[0]\n",
    "    ys=[0]\n",
    "    fv=[0]\n",
    "    \n",
    "    sr_x=[]\n",
    "    sr_y=[]\n",
    "    \n",
    "    while xk1<=0.4:\n",
    "        nit=nit+1\n",
    "        \n",
    "        if nit==1: guess=dx\n",
    "        else: guess = yk+dy\n",
    "        \n",
    "        dx,yk1,fval=nr(f0,yk,xk1,n,m,dt,xdot,guess)\n",
    "        \n",
    "        dy=yk1-yk\n",
    "        yk=yk1\n",
    "        fv.append(fval)\n",
    "            \n",
    "        xs.append(xk1)\n",
    "        ys.append(yk1)\n",
    "        \n",
    "        xk1=xk1+xdot*dt\n",
    "        \n",
    "        sr_x.append(xdot)\n",
    "        sr_y.append(dy/dt)\n",
    "                \n",
    "    return xs,ys,fv,sr_x,sr_y"
   ]
  },
  {
   "cell_type": "markdown",
   "metadata": {},
   "source": [
    "- Test the algorithm by calculate the cases of $m=0.1, 0.05, 0.025, 0.01$ and $0$.\n",
    "\n",
    "- You'll find an abnormal behavior in case of $m=0$. \n",
    "\n",
    "- Why?"
   ]
  },
  {
   "cell_type": "code",
   "execution_count": 5,
   "metadata": {},
   "outputs": [
    {
     "data": {
      "image/png": "[encoded data removed]",
      "text/plain": [
       "<matplotlib.figure.Figure at 0x105d13ed0>"
      ]
     },
     "metadata": {},
     "output_type": "display_data"
    }
   ],
   "source": [
    "ms=[0.1,0.05,0.025,0.01]\n",
    "\n",
    "fig=plt.figure(figsize=(12,5))\n",
    "ax1=fig.add_subplot(121)\n",
    "ax2=fig.add_subplot(122)\n",
    "lines=[]\n",
    "\n",
    "dt=10\n",
    "xdot=0.001\n",
    "f0=0.98\n",
    "n=0.20\n",
    "\n",
    "for i in xrange(len(ms)):\n",
    "    m=ms[i]\n",
    "    x,y,fv,srx,sry=xy_curve(dt,xdot,f0,n,m)\n",
    "    l,=ax1.plot(x,y,'-',label=r'm=%.3f'%m)\n",
    "    \n",
    "    ax2.plot(sry)\n",
    "    # if i==0: ax2.plot(srx,'--',c='k')\n",
    "    \n",
    "    #x,y,fv=xy_curve(10,0.001,0.99,0.2,m)\n",
    "    #l,=ax.plot(x,y,'--',color=l.get_color())\n",
    "    #lines.append(l)\n",
    "    \n",
    "ax2.set_ylabel(r'$\\dot{\\varepsilon}_b$',fontsize=19)\n",
    "ax2.set_yscale('log')\n",
    "    \n",
    "ax1.set_xlabel(r'$\\varepsilon_a$',fontsize=19)\n",
    "ax1.set_ylabel(r'$\\varepsilon_b$',fontsize=19)\n",
    "ax1.legend()\n",
    "ax1.grid()\n",
    "ax1.set_aspect('equal')\n",
    "plt.tight_layout()"
   ]
  }
 ],
 "metadata": {
  "kernelspec": {
   "display_name": "Python 2",
   "language": "python",
   "name": "python2"
  },
  "language_info": {
   "codemirror_mode": {
    "name": "ipython",
    "version": 2
   },
   "file_extension": ".py",
   "mimetype": "text/x-python",
   "name": "python",
   "nbconvert_exporter": "python",
   "pygments_lexer": "ipython2",
   "version": "2.7.13"
  }
 },
 "nbformat": 4,
 "nbformat_minor": 2
}
