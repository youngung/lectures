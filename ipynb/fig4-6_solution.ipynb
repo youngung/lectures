{
 "cells": [
  {
   "cell_type": "markdown",
   "metadata": {},
   "source": [
    "- 지금 보시는 Jupyter notebook은 창원대학교 신소재공학부 교과목인 소성가공, 유동해석, 유동해석특론과 관련하여 수치해석적인 접근법을 Python을 활용하여 보여주는 예입니다.\n",
    "- 창원대학교 신소재공학부 조교수 **정영웅**\n",
    "- 홈페이지 [링크](http://youngung.github.io)"
   ]
  },
  {
   "cell_type": "code",
   "execution_count": 1,
   "metadata": {},
   "outputs": [
    {
     "name": "stdout",
     "output_type": "stream",
     "text": [
      "Populating the interactive namespace from numpy and matplotlib\n"
     ]
    }
   ],
   "source": [
    "%pylab inline"
   ]
  },
  {
   "cell_type": "markdown",
   "metadata": {},
   "source": [
    "- 아래의 함수들은 fig4-6에서 가져왔다. [링크](https://github.com/youngung/lectures/blob/master/ipynb/fig4-6_metalforming_hosford%26caddell.ipynb)를 참고하자."
   ]
  },
  {
   "cell_type": "code",
   "execution_count": 2,
   "metadata": {
    "collapsed": true
   },
   "outputs": [],
   "source": [
    "def derive(n,x,y):\n",
    "    return -n*(y**(n-1))*np.exp(-y)+(y**n)*exp(-y)\n",
    "def obj(f0,n,x,y):\n",
    "    return f0*(x**n)*np.exp(-x) - (y**n)*np.exp(-y)\n",
    "def newton_raphson(f0,n,x,guess):\n",
    "    y=guess\n",
    "    tol=1e-10  \n",
    "    f=tol*10\n",
    "    it=0\n",
    "    while (abs(f)>tol): \n",
    "        it=it+1\n",
    "        df = derive(n,x,y)\n",
    "        f  = obj(f0,n,x,y)\n",
    "        y = y - f/df\n",
    "        \n",
    "        if (np.isnan(y)): raise IOError, 'is nan'\n",
    "        if (it>100): raise IOError, 'Diverged.'\n",
    "    return y"
   ]
  },
  {
   "cell_type": "markdown",
   "metadata": {},
   "source": [
    "아래의 함수는 주어진 n 값과 $f_0$ 값을 기준으로 0<x<n 사이의 x 값을 대상으로 y값을 계산하여 x,y 곡선을\n",
    "위의 세함수들을 사용하여 계산한다."
   ]
  },
  {
   "cell_type": "code",
   "execution_count": 3,
   "metadata": {
    "collapsed": true
   },
   "outputs": [],
   "source": [
    "def xy_curve(n=0.25,f0=0.999):\n",
    "    x=np.linspace(0.00,n,100)\n",
    "    y=[]\n",
    "    for i in xrange(len(x)):\n",
    "        #print 'i:',i\n",
    "        if i==0: guess=x[i]\n",
    "        elif i>0: \n",
    "            guess = y[i-1]+0.0001 ## small tweak \n",
    "            # print 'guess:',guess\n",
    "        guess=newton_raphson(f0,n,x[i],guess)\n",
    "        y.append(guess)\n",
    "    y=np.array(y)\n",
    "    return x,y"
   ]
  },
  {
   "cell_type": "code",
   "execution_count": 4,
   "metadata": {},
   "outputs": [
    {
     "name": "stderr",
     "output_type": "stream",
     "text": [
      "/usr/local/lib/python2.7/site-packages/ipykernel_launcher.py:2: RuntimeWarning: divide by zero encountered in double_scalars\n",
      "  \n"
     ]
    },
    {
     "data": {
      "text/plain": [
       "<matplotlib.legend.Legend at 0x103ea7fd0>"
      ]
     },
     "execution_count": 4,
     "metadata": {},
     "output_type": "execute_result"
    },
    {
     "data": {
      "image/png": "[encoded data removed]",
      "text/plain": [
       "<matplotlib.figure.Figure at 0x103d65b50>"
      ]
     },
     "metadata": {},
     "output_type": "display_data"
    }
   ],
   "source": [
    "n=0.25\n",
    "fs=np.array([0.9,0.95,0.99,0.995,0.999,1.])\n",
    "\n",
    "ax=gca()\n",
    "for i in xrange(len(fs)):\n",
    "    x,y=xy_curve(n,fs[i])\n",
    "    ax.plot(x,y,'-',label=r'$f_0=%.3f$'%fs[i])\n",
    "    \n",
    "## 아래는 그래프를 '꾸며'주는 명령어들입니다.\n",
    "ax.set_ylim(0.,n)\n",
    "ax.set_xlim(0.,n)\n",
    "ax.set_xlabel(r'$\\varepsilon_a$',fontsize=19)\n",
    "ax.set_ylabel(r'$\\varepsilon_b$',fontsize=19)\n",
    "ax.set_aspect('equal')\n",
    "ax.legend(bbox_to_anchor=(1,1.))"
   ]
  },
  {
   "cell_type": "markdown",
   "metadata": {},
   "source": [
    "### 더 생각해보기\n",
    "- 위의 [링크](https://github.com/youngung/lectures/blob/master/ipynb/fig4-6_metalforming_hosford%26caddell.ipynb)에 나타난 결과와의 차이를 살펴보면, 우선 주어진 구간내에서 모든 값들을 찾아낼 수 있었다.\n",
    "\n",
    "- 위의 xy_curve 함수에서 사용된 algorithm을 설명할 수 있겠는가?"
   ]
  }
 ],
 "metadata": {
  "kernelspec": {
   "display_name": "Python 2",
   "language": "python",
   "name": "python2"
  },
  "language_info": {
   "codemirror_mode": {
    "name": "ipython",
    "version": 2
   },
   "file_extension": ".py",
   "mimetype": "text/x-python",
   "name": "python",
   "nbconvert_exporter": "python",
   "pygments_lexer": "ipython2",
   "version": "2.7.14"
  }
 },
 "nbformat": 4,
 "nbformat_minor": 2
}
