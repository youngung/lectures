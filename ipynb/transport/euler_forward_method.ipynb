{
 "cells": [
  {
   "cell_type": "code",
   "execution_count": 1,
   "metadata": {},
   "outputs": [
    {
     "name": "stdout",
     "output_type": "stream",
     "text": [
      "Populating the interactive namespace from numpy and matplotlib\n"
     ]
    }
   ],
   "source": [
    "%pylab inline"
   ]
  },
  {
   "cell_type": "code",
   "execution_count": 15,
   "metadata": {},
   "outputs": [
    {
     "data": {
      "image/png": "[encoded data removed]",
      "text/plain": [
       "<Figure size 187.2x432 with 3 Axes>"
      ]
     },
     "metadata": {
      "needs_background": "light"
     },
     "output_type": "display_data"
    }
   ],
   "source": [
    "def f(x): return x**4+1\n",
    "def df(x):return 4*x**3\n",
    "\n",
    "\n",
    "def init():\n",
    "    fig=plt.figure(figsize=(2.6,6))\n",
    "    nrows=3\n",
    "    gs=GridSpec(nrows=nrows,ncols=1,hspace=0.2,wspace=0,left=0.3)\n",
    "    for i in range(nrows):\n",
    "        fig.add_subplot(gs[i,0])\n",
    "    x=np.linspace(0,1)\n",
    "    fig.axes[0].plot(x,f(x),'--k',alpha=0.5,\n",
    "                     label='Actual (analytical) - Unknown')\n",
    "    fig.axes[1].plot(x,df(x),'-k',\n",
    "                    label='known')\n",
    "    fig.axes[0].set_ylabel(r'$f(x)$')\n",
    "    fig.axes[1].set_ylabel(r'$\\frac{df(x)}{dx}$',fontsize=15)\n",
    "    fig.axes[2].set_ylabel(r'$\\Delta y=\\frac{df(x)}{dx}\\cdot\\Delta x$',fontsize=9)\n",
    "    fig.axes[0].legend(fontsize=6,loc='upper left')\n",
    "    fig.axes[1].legend(fontsize=6,loc='upper left')\n",
    "    fig.axes[2].set_xlabel(r'$x$')\n",
    "    fig.axes[0].set_ylim(0.5,2.2)\n",
    "    fig.axes[1].set_ylim(-0.5,3.5)\n",
    "    fig.axes[2].set_xlim(fig.axes[0].get_xlim())\n",
    "    return fig\n",
    "\n",
    "fig=init()\n",
    "ax1=fig.axes[0]\n",
    "ax2=fig.axes[1]\n",
    "ax3=fig.axes[2]\n",
    "\n",
    "ax3.set_ylim(-0.1,0.5)\n",
    "\n",
    "## \n",
    "dx=0.2\n",
    "x=0\n",
    "y=f(x)\n",
    "k=0\n",
    "fig.savefig(f'{k}.png',dpi=500)\n",
    "for i in range(5):\n",
    "    yp=df(x)\n",
    "    ax1.plot(x,y,'o',mfc=\"none\")\n",
    "    ax2.plot(x,yp,'+')\n",
    "    ax3.plot(x,yp*dx,'s')\n",
    "    \n",
    "\n",
    "    \n",
    "    ## save figure\n",
    "    k=k+1\n",
    "    fig.savefig(f'{k}.png',dpi=500)    \n",
    "    ## draw $\\Delta{x}$ and $\\Delta{y}$\n",
    "    l=ax1.arrow(x,y,dx,yp*dx,color='r',head_length=dx/3.,head_width=dx/3.,\n",
    "                length_includes_head=True,\n",
    "                width=0.01,zorder=100,\n",
    "                alpha=0.5)    \n",
    "    \n",
    "    k=k+1\n",
    "    fig.savefig(f'{k}.png',dpi=500)    \n",
    "    x=x+dx\n",
    "    y=y+yp*dx\n",
    "    \n",
    "    ## delete $deltas lines\n",
    "    #del l"
   ]
  },
  {
   "cell_type": "code",
   "execution_count": 6,
   "metadata": {},
   "outputs": [],
   "source": [
    "!open ."
   ]
  },
  {
   "cell_type": "code",
   "execution_count": null,
   "metadata": {},
   "outputs": [],
   "source": []
  }
 ],
 "metadata": {
  "kernelspec": {
   "display_name": "Python 3",
   "language": "python",
   "name": "python3"
  },
  "language_info": {
   "codemirror_mode": {
    "name": "ipython",
    "version": 3
   },
   "file_extension": ".py",
   "mimetype": "text/x-python",
   "name": "python",
   "nbconvert_exporter": "python",
   "pygments_lexer": "ipython3",
   "version": "3.8.6"
  },
  "widgets": {
   "application/vnd.jupyter.widget-state+json": {
    "state": {},
    "version_major": 2,
    "version_minor": 0
   }
  }
 },
 "nbformat": 4,
 "nbformat_minor": 4
}
