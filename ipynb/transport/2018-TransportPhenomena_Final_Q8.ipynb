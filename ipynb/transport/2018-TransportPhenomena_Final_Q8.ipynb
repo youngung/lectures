{
 "cells": [
  {
   "cell_type": "code",
   "execution_count": 1,
   "metadata": {},
   "outputs": [
    {
     "name": "stdout",
     "output_type": "stream",
     "text": [
      "Populating the interactive namespace from numpy and matplotlib\n"
     ]
    }
   ],
   "source": [
    "%pylab inline"
   ]
  },
  {
   "cell_type": "markdown",
   "metadata": {},
   "source": [
    "여러분은 B 자동차사에 2020년 엔지니어로 입사하여, 차체의 열 해석을 담당하는 부서에서 근무하게 되었다. 가장 처음 받은 업무로 차량의 차체 열효율성을 해석하고 측정하는 일이 주어졌다. 2025년 북미 시장을 목표로 모델 X가 여러분이 처음으로 점검해야 할 차량 모델로 정해졌다. 본사의 연구원으로부터 열효율성 측정 실험을 위해서는 보통 차량 안쪽과 바깥쪽의 온도를 각각 25°C와 -10°C 로 통제하여 북미 지방의 평균적인 겨울철 온도를 재현하는 실험을 진행해왔음을 파악할 수 있었다.\n",
    "그러던 어느 날, 전략기획팀은 새로운 경영방침으로 모든 차종에 고강도 유리를 사용하기로 결정하였다 – 북미 시장의 급변하는 테러리즘에 맞서기 위한 경영 지침 중 하나 였다. 그 일환으로 품질 관리부에서는 모든 차량에CNT입자를 균일하게 섞은 고강도 유리를 사용하기로 했다. 문헌에 따르면 CNT가 유리의 강도 뿐만 아니라 열전도도에도 영향을 주는 것으로 널리 알려져 있으며, 최근 발표된 한 연구 논문에 따르면 CNT 분말이 균일하게 섞인 유리창의 열 전도도가 다음과 같이 온도와 선형적인 관계를 가지는 것으로 가정할 수 있다고 한다:\n",
    "\n",
    "k=10+0.01T       [W⋅m^(-1)⋅K^(-1) ]     (절대 온도가 사용됨)\n",
    "\n",
    "\n",
    "어제 늦은 밤까지 이어진 회의에서 기존에 사용해오던 실험 방법을 동일하게 고강도 유리강판에 사용할 시, 변인이 제대로 통제되지 않아 적절치 않음이 판명되었다. 이에 신입으로 들어온 여러분에게 이론적으로 해당 유리 강판의 열효율성을 평가하라는 새로운 업무가 주어졌다.\n",
    "\n",
    "유리판의 두께가 1 mm일 때, 열 전도에 의해 나타나는 유리판의 온도와 공간 (x 좌표값)의 상관관계를 보이시오. (hint: 정상 상태에서 단위 면적당 열전달률이 공간에 상관없이 일정하게 나타남을 이용해야 한다) (10점)\n"
   ]
  }
 ],
 "metadata": {
  "kernelspec": {
   "display_name": "Python 2",
   "language": "python",
   "name": "python2"
  },
  "language_info": {
   "codemirror_mode": {
    "name": "ipython",
    "version": 3
   },
   "file_extension": ".py",
   "mimetype": "text/x-python",
   "name": "python",
   "nbconvert_exporter": "python",
   "pygments_lexer": "ipython3",
   "version": "3.8.6"
  },
  "widgets": {
   "application/vnd.jupyter.widget-state+json": {
    "state": {},
    "version_major": 2,
    "version_minor": 0
   }
  }
 },
 "nbformat": 4,
 "nbformat_minor": 4
}
