{
 "cells": [
  {
   "cell_type": "code",
   "execution_count": 1,
   "metadata": {},
   "outputs": [
    {
     "name": "stdout",
     "output_type": "stream",
     "text": [
      "Populating the interactive namespace from numpy and matplotlib\n"
     ]
    }
   ],
   "source": [
    "%pylab inline"
   ]
  },
  {
   "cell_type": "markdown",
   "metadata": {},
   "source": [
    "100 °C 에서 순수한 철을 탄화기체 (CO, CO_2)와 접촉시켜 초기 탄소 농도를 C_s로 올리는 침탄 공정을 진행하려 한다. 해당 공정에서 Diffusivity (확산계수)는 3×10^(-11)  [m^2/s]로 표현된다; 아래의 확산 방정식과 초기 조건, 그리고 위의  erf 테이블을 사용해야 한다. 침탄 공정 30분 후, 표면에서부터 약 x=0.0001 m 인 지점에서 대비 탄소 농도 값(C/C_s)을 유효숫자 4개를 사용하여 계산하시오.  "
   ]
  },
  {
   "cell_type": "markdown",
   "metadata": {},
   "source": [
    "<img src=\"errf_table.png\" width=600>"
   ]
  },
  {
   "cell_type": "code",
   "execution_count": 2,
   "metadata": {},
   "outputs": [],
   "source": [
    "def line(x0,x1,y0,y1):    \n",
    "    slope = (y0-y1)/(x0-x1)\n",
    "    def y(x):\n",
    "        return slope*(x-x0)+y0\n",
    "    return y"
   ]
  },
  {
   "cell_type": "code",
   "execution_count": 3,
   "metadata": {},
   "outputs": [],
   "source": [
    "z0,z1=0.2,0.25\n",
    "erf0,erf1=0.2227,0.2763"
   ]
  },
  {
   "cell_type": "code",
   "execution_count": 6,
   "metadata": {},
   "outputs": [
    {
     "name": "stdout",
     "output_type": "stream",
     "text": [
      "0.21516574145596762\n"
     ]
    }
   ],
   "source": [
    "x=0.0001\n",
    "t=30*60.\n",
    "D=3e-11\n",
    "z=x/2/np.sqrt(D*t)\n",
    "print (z)"
   ]
  },
  {
   "cell_type": "code",
   "execution_count": 7,
   "metadata": {},
   "outputs": [],
   "source": [
    "f=line(z0,z1,erf0,erf1)"
   ]
  },
  {
   "cell_type": "code",
   "execution_count": 9,
   "metadata": {},
   "outputs": [
    {
     "name": "stdout",
     "output_type": "stream",
     "text": [
      "cs_c0: 0.7610423251592027\n"
     ]
    }
   ],
   "source": [
    "cs_c0=1-f(z)\n",
    "print ('cs_c0:',cs_c0)"
   ]
  }
 ],
 "metadata": {
  "kernelspec": {
   "display_name": "Python 2",
   "language": "python",
   "name": "python2"
  },
  "language_info": {
   "codemirror_mode": {
    "name": "ipython",
    "version": 3
   },
   "file_extension": ".py",
   "mimetype": "text/x-python",
   "name": "python",
   "nbconvert_exporter": "python",
   "pygments_lexer": "ipython3",
   "version": "3.7.3"
  }
 },
 "nbformat": 4,
 "nbformat_minor": 2
}
