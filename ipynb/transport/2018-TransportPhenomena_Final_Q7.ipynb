{
 "cells": [
  {
   "cell_type": "code",
   "execution_count": 1,
   "metadata": {},
   "outputs": [
    {
     "name": "stdout",
     "output_type": "stream",
     "text": [
      "Populating the interactive namespace from numpy and matplotlib\n"
     ]
    }
   ],
   "source": [
    "%pylab inline"
   ]
  },
  {
   "cell_type": "markdown",
   "metadata": {},
   "source": [
    "대류가 발생하는 환경에서 (표면이 절연체로 둘러싸인) 두께가 1m로 일정하고 y방향 높이가 곡선형으로 제작된 구조물이 있다. 해당 구조물의 한쪽끝이 외부의 열원에 의해 가열되어 열전도로 인한 열전달 현상이 x방향으로 발생하였고, 시간이 충분히 지나 정상상태로 발전하였다. 구조물의 y방향 높이가 열원으로부터 x방향 거리와 다음과 같은 상관 관계를 보인다. (각 5점 총 10점)\n",
    "\n",
    "\n",
    "해당 구조물은 열원으로부터 0.5 m 떨어진 곳에서의 온도가 300 K, 1 m 떨어진 곳에서의 온도가 200 K 로 측정되었다.  참고로 $(x^2+1)^{-1}$ 의 적분은 arctan(x) 이다. Arctanegent의 값으로 Radian을 사용해야 함에 유의하시오.\n"
   ]
  },
  {
   "cell_type": "markdown",
   "metadata": {},
   "source": [
    "## Question a"
   ]
  },
  {
   "cell_type": "markdown",
   "metadata": {},
   "source": [
    "a) \t$k_m$ 값이 1 $[W m^{-1} K^{-1}]$ 일 때, 열전달률을 유효숫자를 2개로 반올림 하여 구하시오 (단위를 [J/s] 로 사용할 것). "
   ]
  },
  {
   "cell_type": "code",
   "execution_count": 2,
   "metadata": {},
   "outputs": [],
   "source": [
    "from scipy import integrate"
   ]
  },
  {
   "cell_type": "code",
   "execution_count": 3,
   "metadata": {},
   "outputs": [],
   "source": [
    "def func(x):\n",
    "    return 1./(x**2+1)"
   ]
  },
  {
   "cell_type": "code",
   "execution_count": 4,
   "metadata": {},
   "outputs": [],
   "source": [
    "km=1.\n",
    "t0=300\n",
    "t1=200\n",
    "x0=0.5\n",
    "x1=1."
   ]
  },
  {
   "cell_type": "markdown",
   "metadata": {},
   "source": [
    "Obtain \n",
    "$$I=\\int_{x_0}^{x_1} \\frac{1}{x^2+1} dx$$"
   ]
  },
  {
   "cell_type": "code",
   "execution_count": 5,
   "metadata": {},
   "outputs": [
    {
     "name": "stdout",
     "output_type": "stream",
     "text": [
      "dum: 3.572148736770611e-15\n",
      "intgr: 0.3217505543966422\n"
     ]
    }
   ],
   "source": [
    "I,dum=integrate.quad(func,x0,x1)\n",
    "print ('dum:',dum)\n",
    "print ('intgr:',I)"
   ]
  },
  {
   "cell_type": "markdown",
   "metadata": {},
   "source": [
    "$$\n",
    "q_x\\cdot I =-k_m (T_1-T_0)\n",
    "$$\n",
    "so that\n",
    "\n",
    "$$\n",
    "q_x=-k_m(T_1-T_0)/I\n",
    "$$"
   ]
  },
  {
   "cell_type": "code",
   "execution_count": 6,
   "metadata": {},
   "outputs": [],
   "source": [
    "q_x=-km*(t1-t0)/I"
   ]
  },
  {
   "cell_type": "code",
   "execution_count": 7,
   "metadata": {},
   "outputs": [
    {
     "name": "stdout",
     "output_type": "stream",
     "text": [
      "q_x: 310.79977527163385\n"
     ]
    }
   ],
   "source": [
    "print ('q_x:',q_x)"
   ]
  },
  {
   "cell_type": "markdown",
   "metadata": {},
   "source": [
    "b)\t열원에서 0.8 미터 떨어진 지점에서의 절대온도 값을 구하시오 (위 a에서 구한 열전달률 값을 사용하시오; 유효숫자 2개로 표현하시오.)"
   ]
  },
  {
   "cell_type": "markdown",
   "metadata": {},
   "source": [
    "$$\n",
    "q_x\\int_{x_0=0.5}^{x_1=0.8} 1/A(x) dx=-k\\int_{T_0}^{T} dT\n",
    "$$\n",
    "\n",
    "$$\n",
    "q_x I_2=-k(T-T_0)\n",
    "$$"
   ]
  },
  {
   "cell_type": "markdown",
   "metadata": {},
   "source": [
    "$$\n",
    "-q_x I_2 / k+T_0 =T\n",
    "$$"
   ]
  },
  {
   "cell_type": "code",
   "execution_count": 8,
   "metadata": {},
   "outputs": [
    {
     "name": "stdout",
     "output_type": "stream",
     "text": [
      "dum: 2.3436067888876375e-15\n",
      "intgr: 0.2110933332227466\n"
     ]
    }
   ],
   "source": [
    "x2=0.8\n",
    "I2,dum=integrate.quad(func,x0,x2)\n",
    "print ('dum:',dum)\n",
    "print ('intgr:',I2)"
   ]
  },
  {
   "cell_type": "code",
   "execution_count": 9,
   "metadata": {},
   "outputs": [
    {
     "name": "stdout",
     "output_type": "stream",
     "text": [
      "Temperature: 234.39223947303026\n"
     ]
    }
   ],
   "source": [
    "print ('Temperature:',-q_x*I2/km+t0)"
   ]
  }
 ],
 "metadata": {
  "kernelspec": {
   "display_name": "Python 2",
   "language": "python",
   "name": "python2"
  },
  "language_info": {
   "codemirror_mode": {
    "name": "ipython",
    "version": 3
   },
   "file_extension": ".py",
   "mimetype": "text/x-python",
   "name": "python",
   "nbconvert_exporter": "python",
   "pygments_lexer": "ipython3",
   "version": "3.8.6"
  },
  "widgets": {
   "application/vnd.jupyter.widget-state+json": {
    "state": {},
    "version_major": 2,
    "version_minor": 0
   }
  }
 },
 "nbformat": 4,
 "nbformat_minor": 4
}
