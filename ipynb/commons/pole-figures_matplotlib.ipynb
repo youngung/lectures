{
  "cells": [
    {
      "cell_type": "code",
      "execution_count": null,
      "metadata": {
        "id": "AlH0wroiNJMC"
      },
      "outputs": [],
      "source": [
        "#%pylab qt\n",
        "%pylab inline\n",
        "import numpy as np"
      ]
    },
    {
      "cell_type": "code",
      "source": [
        "from google.colab import drive\n",
        "drive.mount('/content/drive')"
      ],
      "metadata": {
        "id": "GqNLOLaKNXVh"
      },
      "execution_count": null,
      "outputs": []
    },
    {
      "cell_type": "code",
      "source": [
        "cd drive"
      ],
      "metadata": {
        "id": "h1_2-akLNes5"
      },
      "execution_count": null,
      "outputs": []
    },
    {
      "cell_type": "code",
      "source": [
        "cd MyDrive"
      ],
      "metadata": {
        "id": "d6KI5PlkNh6P"
      },
      "execution_count": null,
      "outputs": []
    },
    {
      "cell_type": "code",
      "source": [
        "cd texture3-dev"
      ],
      "metadata": {
        "id": "QsUc8X6BNkGd"
      },
      "execution_count": null,
      "outputs": []
    },
    {
      "cell_type": "code",
      "source": [
        "!python setup.py build\n",
        "!python setup.py install"
      ],
      "metadata": {
        "id": "QStt-YO_NnlA"
      },
      "execution_count": null,
      "outputs": []
    },
    {
      "cell_type": "code",
      "execution_count": null,
      "metadata": {
        "id": "UU38mMhXNJMF"
      },
      "outputs": [],
      "source": [
        "from mpl_toolkits.mplot3d import axes3d\n",
        "from TX import sym, euler"
      ]
    },
    {
      "cell_type": "code",
      "source": [
        "def draw_unit(\n",
        "    ax=None,\n",
        "    m2v=np.identity(3),\n",
        "    kws=dict(ls='-',c='orange',marker='None',alpha=0.5),linewidth=0.3):\n",
        "  \n",
        "    orig=np.array([0.5,0.5,0.5])\n",
        "\n",
        "    o=np.dot(np.array([0,0,0]-orig),m2v)\n",
        "    a=np.dot(np.array([1,0,0]-orig),m2v)\n",
        "    b=np.dot(np.array([0,1,0]-orig),m2v)\n",
        "    c=np.dot(np.array([0,0,1]-orig),m2v)\n",
        "    d=np.dot(np.array([1,0,1]-orig),m2v)\n",
        "    e=np.dot(np.array([0,1,1]-orig),m2v)\n",
        "    f=np.dot(np.array([1,1,0]-orig),m2v)\n",
        "    g=np.dot(np.array([1,1,1]-orig),m2v)\n",
        "\n",
        "    if type(ax)==type(None):\n",
        "        fig=plt.figure()\n",
        "        ax1=fig.add_subplot(projection='3d')    \n",
        "    else:\n",
        "        ax1=ax\n",
        "\n",
        "    dat=np.array([o,a]).T\n",
        "    ax1.plot(*dat,**kws)\n",
        "    dat=np.array([o,b]).T\n",
        "    ax1.plot(*dat,**kws)\n",
        "    dat=np.array([o,c]).T\n",
        "    ax1.plot(*dat,**kws)\n",
        "    dat=np.array([a,d]).T\n",
        "    ax1.plot(*dat,**kws)\n",
        "    dat=np.array([b,e]).T\n",
        "    ax1.plot(*dat,**kws)\n",
        "    dat=np.array([c,e]).T\n",
        "    ax1.plot(*dat,**kws)\n",
        "    dat=np.array([c,d]).T\n",
        "    ax1.plot(*dat,**kws)\n",
        "    dat=np.array([a,f]).T\n",
        "    ax1.plot(*dat,**kws)\n",
        "    dat=np.array([b,f]).T\n",
        "    ax1.plot(*dat,**kws)\n",
        "    dat=np.array([g,f]).T\n",
        "    ax1.plot(*dat,**kws)\n",
        "    dat=np.array([g,d]).T\n",
        "    ax1.plot(*dat,**kws)\n",
        "    dat=np.array([g,e]).T\n",
        "    ax1.plot(*dat,**kws)\n",
        "\n",
        "    ax1.set_xlabel('x')\n",
        "    ax1.set_ylabel('y')\n",
        "    ax1.set_zlabel('z')\n",
        "    \n",
        "    ax1.set_xticks([-1,0,1])\n",
        "    ax1.set_yticks([-1,0,1])\n",
        "    ax1.set_zticks([-1,0,1]) "
      ],
      "metadata": {
        "id": "4j2jrw0fSbnJ"
      },
      "execution_count": null,
      "outputs": []
    },
    {
      "cell_type": "code",
      "execution_count": null,
      "metadata": {
        "id": "wFeNt2liNJMF"
      },
      "outputs": [],
      "source": [
        "def miller2vec(icrysym,isn,cvec,trans=np.identity(3)):\n",
        "    if icrysym==2 or icrysym==3: ## hexagonal or trigonal\n",
        "        isn[2]=isn[3]\n",
        "        isb[0]=isb[0]-isb[2]\n",
        "        isb[1]=isb[1]-isb[2]\n",
        "        isb[2]=isb[3]\n",
        "    sn=np.zeros(3)\n",
        "    sn[2]= isn[2]/cvec[2,2]\n",
        "    sn[0]=[isn[0]-cvec[2,0]*sn[2]]/cvec[0,0]\n",
        "    sn[1]=[isn[1]-cvec[0,1]*sn[0]-cvec[2,1]*sn[2]]/cvec[1,1]\n",
        "    sn_mag=sqrt((sn**2).sum())\n",
        "    sn=sn/sn_mag\n",
        "    sn=np.dot(sn,trans)\n",
        "    return sn\n",
        "\n",
        "def deco(axs):\n",
        "    ax,ax1,ax2=axs[:]\n",
        "\n",
        "    ## half-(north)sphere surface\n",
        "    u, v = np.mgrid[0:2*np.pi:200j, 0:np.pi/2.:200j]\n",
        "    x = np.cos(u)*np.sin(v)\n",
        "    y = np.sin(u)*np.sin(v)\n",
        "    z = np.cos(v)\n",
        "    ax1.plot_surface(x, y, z, color=\"k\",alpha=0.1)\n",
        "\n",
        "    ## full sphere surface\n",
        "    u, v = np.mgrid[0:2*np.pi:200j, 0:np.pi:200j]\n",
        "    x = np.cos(u)*np.sin(v)\n",
        "    y = np.sin(u)*np.sin(v)\n",
        "    z = np.cos(v)\n",
        "    ax.plot_surface(x, y, z, color=\"k\",alpha=0.1)    \n",
        "    \n",
        "    ## for ax1, upper hemisphere\n",
        "    ## for ax, full hemisphere\n",
        "\n",
        "    th=np.linspace(-np.pi,np.pi,100)\n",
        "    X=cos(th);Y=sin(th)\n",
        "    ax1.plot(X,Y,'k-')\n",
        "    ax.plot(X,Y,'k-')    \n",
        "\n",
        "    ## x, y ticks\n",
        "    for a in fig.axes:\n",
        "      a.plot([0.95,1.05],[0,0],'m-')\n",
        "      a.plot([0.0,0.0],[0.95,1.05],'b-')    \n",
        "\n",
        "    ax2.plot(X,Y,'k-')\n",
        "    ax2.set_axis_off()\n",
        "    ax2.set_aspect('equal')"
      ]
    },
    {
      "cell_type": "markdown",
      "metadata": {
        "id": "VhmfORNbNJMH"
      },
      "source": [
        "## Euler angles to transformation matrix"
      ]
    },
    {
      "cell_type": "markdown",
      "metadata": {
        "id": "JIthQPhpNJMH"
      },
      "source": [
        "- Let's define the Euler angles (Z,X,Z)"
      ]
    },
    {
      "cell_type": "code",
      "execution_count": null,
      "metadata": {
        "id": "T2-OvcyqNJMI"
      },
      "outputs": [],
      "source": [
        "\"\"\"\n",
        "        1: CUBIC                                                                                                                                                                                                                                                                               \n",
        "        2: HEXAGONAL                                                                                                                                                                                                                                                                           \n",
        "        3: TRIGONAL                                                                                                                                                                                                                                                                            \n",
        "        4: TETRAGONAL                                                                                                                                                                                                                                                                          \n",
        "        5: ORTHORHOMBIC                                                                                                                                                                                                                                                                        \n",
        "        6: MONOCLINIC                                                                                                                                                                                                                                                                          \n",
        "        7: TRICLINIC   \"\"\"\n"
      ]
    },
    {
      "cell_type": "code",
      "source": [
        "icrysym=1\n",
        "isn=[1,1,0]\n",
        "phi1=-20.\n",
        "phi=15.\n",
        "phi2=30.\n",
        "cdim=[0.2,0.2,0.2]\n",
        "cang=[90,90,90]\n",
        "\n",
        "## figure canvas\n",
        "fig=plt.figure(figsize=(12,3.4))\n",
        "ax1=fig.add_subplot(131,projection='3d')  \n",
        "ax2=fig.add_subplot(132,projection='3d')  \n",
        "ax3=fig.add_subplot(133)\n",
        "## draw crystal unit cell\n",
        "\n",
        "## generate transformation matrix.\n",
        "trans=euler.euler(phi1,phi,phi2,echo=False)\n",
        "cvec=sym.cvec(cdim=cdim,cang=cang)\n",
        "cvec_=np.dot(cvec,trans)\n",
        "for ax in fig.axes[0:1]:\n",
        "  draw_unit(ax,m2v=cvec_)\n",
        "\n",
        "# crystal plane miller index\n",
        "    \n",
        "if icrysym==1:\n",
        "    hs=sym.cubic()\n",
        "else:\n",
        "    hs=np.array([np.identity(3)])\n",
        "\n",
        "mir=np.zeros((3,3))\n",
        "for i in range(3):\n",
        "  mir[i,i]=-1\n",
        "\n",
        "## point mirrors\n",
        "hs_=np.zeros((hs.shape[0]*2,3,3))\n",
        "for i in range(hs.shape[0]):\n",
        "  hs_[2*i,:,:]=hs[i,:,:]\n",
        "  hs_[2*i+1,:,:]=matmul(hs[i,:,:],mir)\n",
        "hs=hs_.copy()\n",
        "\n",
        "south=np.array([0,0,-1])\n",
        "sn_init=miller2vec(icrysym,isn,cvec)\n",
        "for i in range(hs.shape[0]):\n",
        "    h=hs[i,:,:]\n",
        "    sn=np.dot(h,sn_init)\n",
        "    sn=np.dot(sn,trans)\n",
        "    o=np.array([0,0,0])\n",
        "    d=np.array([o,sn]).T\n",
        "\n",
        "    if sn[2]>=0:\n",
        "        for ax in fig.axes[:2]:\n",
        "          ax.plot([sn[0]],[sn[1]],[sn[2]],'o',c='r',mfc='None')\n",
        "        ax1.plot(*d,c='lightgreen',alpha=1,lw=0.2,zorder=-100)          \n",
        "\n",
        "        ## line connecting south pole to vector points projected on the sphere.        \n",
        "        d=np.array([sn,south]).T\n",
        "        ax2.plot(*d,'--',c='k',alpha=0.5,lw=0.2)\n",
        "\n",
        "        ## stereographic projection\n",
        "        X,Y=sn[0]/(1+sn[2]),sn[1]/(1+sn[2]) # northsphere to proejct\n",
        "        kwd=dict(mfc='g',marker='o',mec='None')\n",
        "        ax2.plot([X],[Y],[0],**kwd)\n",
        "        \n",
        "        ax3.plot(X,Y,**kwd)\n",
        "        if i==0:ax3.text(X,Y,isn.__str__(),va='center',ha='left')\n",
        "    else:\n",
        "      ax1.plot(*d,c='lightgreen',alpha=1,lw=1)\n",
        "      ax1.plot([sn[0]],[sn[1]],[sn[2]],'o',c='r',mfc='None')      \n",
        "\n",
        "    \n",
        "ax1.plot([south[0]],[south[1]],[south[2]],'k.')\n",
        "ax2.plot([south[0]],[south[1]],[south[2]],'k.')\n",
        "ax1.text(*south,'south pole',ha='left',va='top')\n",
        "for ax in fig.axes[:2]:\n",
        "  ax.text(1,0,0,'X-axis',c='m',ha='left',va='top')\n",
        "  ax.text(0,1,0,'Y-axis',c='b',ha='left',va='bottom')\n",
        "ax3.text(1,0,'X-axis',c='m',ha='left',va='center')\n",
        "ax3.text(0,1,'Y-axis',c='b',ha='center',va='bottom')\n",
        "ax1.set_axis_off()\n",
        "ax2.set_axis_off()\n",
        "## deco\n",
        "deco(fig.axes)\n",
        "fig.savefig('pf_stereoprojection.png',dpi=500,transparent=True)"
      ],
      "metadata": {
        "id": "QV40obE_a1zn"
      },
      "execution_count": null,
      "outputs": []
    },
    {
      "cell_type": "code",
      "source": [],
      "metadata": {
        "id": "FPc7xD7gjMH7"
      },
      "execution_count": null,
      "outputs": []
    }
  ],
  "metadata": {
    "kernelspec": {
      "display_name": "Python 3",
      "name": "python3"
    },
    "language_info": {
      "name": "python"
    },
    "colab": {
      "provenance": [],
      "private_outputs": true
    },
    "gpuClass": "standard"
  },
  "nbformat": 4,
  "nbformat_minor": 0
}