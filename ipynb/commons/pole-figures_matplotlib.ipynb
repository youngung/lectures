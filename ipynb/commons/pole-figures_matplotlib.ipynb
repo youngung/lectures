{
 "cells": [
  {
   "cell_type": "markdown",
   "metadata": {},
   "source": [
    "# Environment"
   ]
  },
  {
   "cell_type": "code",
   "execution_count": 1,
   "metadata": {
    "id": "AlH0wroiNJMC"
   },
   "outputs": [
    {
     "name": "stdout",
     "output_type": "stream",
     "text": [
      "Populating the interactive namespace from numpy and matplotlib\n"
     ]
    }
   ],
   "source": [
    "#%pylab qt\n",
    "%pylab inline"
   ]
  },
  {
   "cell_type": "markdown",
   "metadata": {},
   "source": [
    "아래 링크에서 texture3 repo / cloning 및 설치 필요\n",
    "https://github.com/youngung/texture3"
   ]
  },
  {
   "cell_type": "code",
   "execution_count": 2,
   "metadata": {
    "id": "UU38mMhXNJMF"
   },
   "outputs": [],
   "source": [
    "from mpl_toolkits.mplot3d import axes3d\n",
    "from TX import sym, euler ## texture3 download(혹은 clone) 및 설치 필요"
   ]
  },
  {
   "cell_type": "code",
   "execution_count": 3,
   "metadata": {
    "id": "4j2jrw0fSbnJ"
   },
   "outputs": [],
   "source": [
    "def draw_unit(\n",
    "    ax=None,\n",
    "    m2v=np.identity(3),\n",
    "    kws=dict(ls='-',c='orange',marker='None',alpha=0.5),linewidth=0.3):\n",
    "  \n",
    "    orig=np.array([0.5,0.5,0.5])\n",
    "\n",
    "    o=np.dot(np.array([0,0,0]-orig),m2v)\n",
    "    a=np.dot(np.array([1,0,0]-orig),m2v)\n",
    "    b=np.dot(np.array([0,1,0]-orig),m2v)\n",
    "    c=np.dot(np.array([0,0,1]-orig),m2v)\n",
    "    d=np.dot(np.array([1,0,1]-orig),m2v)\n",
    "    e=np.dot(np.array([0,1,1]-orig),m2v)\n",
    "    f=np.dot(np.array([1,1,0]-orig),m2v)\n",
    "    g=np.dot(np.array([1,1,1]-orig),m2v)\n",
    "\n",
    "    if type(ax)==type(None):\n",
    "        fig=plt.figure()\n",
    "        ax1=fig.add_subplot(projection='3d')    \n",
    "    else:\n",
    "        ax1=ax\n",
    "\n",
    "    dat=np.array([o,a]).T\n",
    "    ax1.plot(*dat,**kws)\n",
    "    dat=np.array([o,b]).T\n",
    "    ax1.plot(*dat,**kws)\n",
    "    dat=np.array([o,c]).T\n",
    "    ax1.plot(*dat,**kws)\n",
    "    dat=np.array([a,d]).T\n",
    "    ax1.plot(*dat,**kws)\n",
    "    dat=np.array([b,e]).T\n",
    "    ax1.plot(*dat,**kws)\n",
    "    dat=np.array([c,e]).T\n",
    "    ax1.plot(*dat,**kws)\n",
    "    dat=np.array([c,d]).T\n",
    "    ax1.plot(*dat,**kws)\n",
    "    dat=np.array([a,f]).T\n",
    "    ax1.plot(*dat,**kws)\n",
    "    dat=np.array([b,f]).T\n",
    "    ax1.plot(*dat,**kws)\n",
    "    dat=np.array([g,f]).T\n",
    "    ax1.plot(*dat,**kws)\n",
    "    dat=np.array([g,d]).T\n",
    "    ax1.plot(*dat,**kws)\n",
    "    dat=np.array([g,e]).T\n",
    "    ax1.plot(*dat,**kws)\n",
    "\n",
    "    ax1.set_xlabel('x')\n",
    "    ax1.set_ylabel('y')\n",
    "    ax1.set_zlabel('z')\n",
    "    \n",
    "    ax1.set_xticks([-1,0,1])\n",
    "    ax1.set_yticks([-1,0,1])\n",
    "    ax1.set_zticks([-1,0,1]) "
   ]
  },
  {
   "cell_type": "code",
   "execution_count": 4,
   "metadata": {
    "id": "wFeNt2liNJMF"
   },
   "outputs": [],
   "source": [
    "def miller2vec(icrysym,isn,cvec,trans=np.identity(3)):\n",
    "    if icrysym==2 or icrysym==3: ## hexagonal or trigonal\n",
    "        isn[2]=isn[3]\n",
    "        isb[0]=isb[0]-isb[2]\n",
    "        isb[1]=isb[1]-isb[2]\n",
    "        isb[2]=isb[3]\n",
    "    sn=np.zeros(3)\n",
    "    sn[2]= isn[2]/cvec[2,2]\n",
    "    sn[0]=[isn[0]-cvec[2,0]*sn[2]]/cvec[0,0]\n",
    "    sn[1]=[isn[1]-cvec[0,1]*sn[0]-cvec[2,1]*sn[2]]/cvec[1,1]\n",
    "    sn_mag=sqrt((sn**2).sum())\n",
    "    sn=sn/sn_mag\n",
    "    sn=np.dot(sn,trans)\n",
    "    return sn\n",
    "\n",
    "def deco(axs):\n",
    "    ax,ax1,ax2=axs[:]\n",
    "\n",
    "    ## half-(north)sphere surface\n",
    "    u, v = np.mgrid[0:2*np.pi:200j, 0:np.pi/2.:200j]\n",
    "    x = np.cos(u)*np.sin(v)\n",
    "    y = np.sin(u)*np.sin(v)\n",
    "    z = np.cos(v)\n",
    "    ax1.plot_surface(x, y, z, color=\"k\",alpha=0.1)\n",
    "\n",
    "    ## full sphere surface\n",
    "    u, v = np.mgrid[0:2*np.pi:200j, 0:np.pi:200j]\n",
    "    x = np.cos(u)*np.sin(v)\n",
    "    y = np.sin(u)*np.sin(v)\n",
    "    z = np.cos(v)\n",
    "    ax.plot_surface(x, y, z, color=\"k\",alpha=0.1)    \n",
    "    \n",
    "    ## for ax1, upper hemisphere\n",
    "    ## for ax, full hemisphere\n",
    "\n",
    "    th=np.linspace(-np.pi,np.pi,100)\n",
    "    X=cos(th);Y=sin(th)\n",
    "    ax1.plot(X,Y,'k-')\n",
    "    ax.plot(X,Y,'k-')    \n",
    "\n",
    "    ## x, y ticks\n",
    "    for a in axs:\n",
    "        a.plot([0.95,1.05],[0,0],'m-')\n",
    "        a.plot([0.0,0.0],[0.95,1.05],'b-')    \n",
    "\n",
    "    ax2.plot(X,Y,'k-')\n",
    "    ax2.set_axis_off()\n",
    "    ax2.set_aspect('equal')"
   ]
  },
  {
   "cell_type": "markdown",
   "metadata": {
    "id": "VhmfORNbNJMH"
   },
   "source": [
    "## Euler angles to transformation matrix"
   ]
  },
  {
   "cell_type": "markdown",
   "metadata": {
    "id": "JIthQPhpNJMH"
   },
   "source": [
    "- Let's define the Euler angles (Z,X,Z)"
   ]
  },
  {
   "cell_type": "code",
   "execution_count": 5,
   "metadata": {
    "id": "T2-OvcyqNJMI"
   },
   "outputs": [
    {
     "data": {
      "text/plain": [
       "'\\n        1: CUBIC                                                                                                                                                                                                                                                                               \\n        2: HEXAGONAL                                                                                                                                                                                                                                                                           \\n        3: TRIGONAL                                                                                                                                                                                                                                                                            \\n        4: TETRAGONAL                                                                                                                                                                                                                                                                          \\n        5: ORTHORHOMBIC                                                                                                                                                                                                                                                                        \\n        6: MONOCLINIC                                                                                                                                                                                                                                                                          \\n        7: TRICLINIC   '"
      ]
     },
     "execution_count": 5,
     "metadata": {},
     "output_type": "execute_result"
    }
   ],
   "source": [
    "\"\"\"\n",
    "        1: CUBIC                                                                                                                                                                                                                                                                               \n",
    "        2: HEXAGONAL                                                                                                                                                                                                                                                                           \n",
    "        3: TRIGONAL                                                                                                                                                                                                                                                                            \n",
    "        4: TETRAGONAL                                                                                                                                                                                                                                                                          \n",
    "        5: ORTHORHOMBIC                                                                                                                                                                                                                                                                        \n",
    "        6: MONOCLINIC                                                                                                                                                                                                                                                                          \n",
    "        7: TRICLINIC   \"\"\"\n"
   ]
  },
  {
   "cell_type": "code",
   "execution_count": 6,
   "metadata": {},
   "outputs": [],
   "source": [
    "def main(icrysym=1,\n",
    "         isn=[1,1,0],\n",
    "         phi1=-20.,\n",
    "         phi=15.,\n",
    "         phi2=30.,\n",
    "         cdim=[0.2,0.2,0.2],\n",
    "         cang=[90,90,90],elev=0.,azim=0.):\n",
    "\n",
    "\n",
    "    ## figure canvas\n",
    "    #if ioff: plt.ioff()\n",
    "    fig=plt.figure(figsize=(12,3.4))\n",
    "    ax1=fig.add_subplot(131,projection='3d')  \n",
    "    ax2=fig.add_subplot(132,projection='3d')  \n",
    "    ax3=fig.add_subplot(133)\n",
    "    ## draw crystal unit cell\n",
    "\n",
    "    ## generate transformation matrix.\n",
    "    trans=euler.euler(phi1,phi,phi2,echo=False)\n",
    "    cvec=sym.cvec(cdim=cdim,cang=cang)\n",
    "    cvec_=np.dot(cvec,trans)\n",
    "    for ax in fig.axes[0:1]:\n",
    "        draw_unit(ax,m2v=cvec_)\n",
    "\n",
    "    # crystal plane miller index\n",
    "    \n",
    "    if icrysym==1:\n",
    "        hs=sym.cubic()\n",
    "    else:\n",
    "        hs=np.array([np.identity(3)])\n",
    "\n",
    "    mir=np.zeros((3,3))\n",
    "    for i in range(3):\n",
    "        mir[i,i]=-1\n",
    "\n",
    "    ## point mirrors\n",
    "    hs_=np.zeros((hs.shape[0]*2,3,3))\n",
    "    for i in range(hs.shape[0]):\n",
    "        hs_[2*i,:,:]=hs[i,:,:]\n",
    "        hs_[2*i+1,:,:]=matmul(hs[i,:,:],mir)\n",
    "    hs=hs_.copy()\n",
    "\n",
    "    south=np.array([0,0,-1])\n",
    "    sn_init=miller2vec(icrysym,isn,cvec)\n",
    "    for i in range(hs.shape[0]):\n",
    "        h=hs[i,:,:]\n",
    "        sn=np.dot(h,sn_init)\n",
    "        sn=np.dot(sn,trans)\n",
    "        o=np.array([0,0,0])\n",
    "        d=np.array([o,sn]).T\n",
    "\n",
    "        if sn[2]>=0:\n",
    "            for ax in fig.axes[:2]:\n",
    "                ax.plot([sn[0]],[sn[1]],[sn[2]],'o',c='r',mfc='None')\n",
    "            ax1.plot(*d,c='lightgreen',alpha=1,lw=0.2,zorder=-100)          \n",
    "\n",
    "            ## line connecting south pole to vector points projected on the sphere.        \n",
    "            d=np.array([sn,south]).T\n",
    "            ax2.plot(*d,'--',c='k',alpha=0.5,lw=0.2)\n",
    "\n",
    "            ## stereographic projection\n",
    "            X,Y=sn[0]/(1+sn[2]),sn[1]/(1+sn[2]) # northsphere to proejct\n",
    "            kwd=dict(mfc='g',marker='o',mec='None')\n",
    "            ax2.plot([X],[Y],[0],**kwd)\n",
    "        \n",
    "            ax3.plot(X,Y,**kwd)\n",
    "            if i==0:ax3.text(X,Y,isn.__str__(),va='center',ha='left')\n",
    "        else:\n",
    "            ax1.plot(*d,c='lightgreen',alpha=1,lw=1)\n",
    "            ax1.plot([sn[0]],[sn[1]],[sn[2]],'o',c='r',mfc='None')      \n",
    "\n",
    "    \n",
    "    ax1.plot([south[0]],[south[1]],[south[2]],'k.')\n",
    "    ax2.plot([south[0]],[south[1]],[south[2]],'k.')\n",
    "    ax1.text(*south,'south pole',ha='left',va='top')\n",
    "    for ax in fig.axes[:2]:\n",
    "        ax.text(1,0,0,'X-axis',c='m',ha='left',va='top')\n",
    "        ax.text(0,1,0,'Y-axis',c='b',ha='left',va='bottom')\n",
    "    ax3.text(1,0,'X-axis',c='m',ha='left',va='center')\n",
    "    ax3.text(0,1,'Y-axis',c='b',ha='center',va='bottom')\n",
    "\n",
    "    for ax in fig.axes[:2]:\n",
    "        ax.view_init(elev=elev, azim=azim)\n",
    "    \n",
    "    ax1.set_axis_off()\n",
    "    ax2.set_axis_off()\n",
    "    ## deco\n",
    "    deco(fig.axes)\n",
    "    return fig #fig.savefig('/tmp/pf_stereoprojection.png',dpi=500,transparent=True)"
   ]
  },
  {
   "cell_type": "code",
   "execution_count": 7,
   "metadata": {
    "scrolled": true,
    "tags": []
   },
   "outputs": [
    {
     "name": "stdout",
     "output_type": "stream",
     "text": [
      "zsh:1: no matches found: /tmp/pf_tmp*.png\n",
      "CPU times: user 2h 44min 45s, sys: 2h 27min 28s, total: 5h 12min 14s\n",
      "Wall time: 58min 6s\n"
     ]
    }
   ],
   "source": [
    "%%time\n",
    "!rm -rvf /tmp/pf_tmp*.png\n",
    "k=0\n",
    "phi1=45\n",
    "phi2=30\n",
    "phi=20\n",
    "#azim=0\n",
    "elev=30\n",
    "for i in range(elev,40,5): ## elev\n",
    "    elev=elev+i \n",
    "    for j in range(0,360,5): ## azim\n",
    "        azim=j    \n",
    "        fig=main(elev=i,azim=j,phi1=phi1,phi=phi,phi2=phi2)\n",
    "        k=k+1\n",
    "        fig.savefig('/tmp/pf_tmp_%4.4i.png'%k,dpi=200)\n",
    "        fig.clf()\n",
    "        plt.close(fig)\n",
    "        \n",
    "for i in range(phi1,phi1+360,1):\n",
    "        fig=main(elev=elev,azim=azim,phi1=phi1,phi=phi,phi2=phi2)\n",
    "        k=k+1\n",
    "        fig.savefig('/tmp/pf_tmpx_%4.4i.png'%k,dpi=200)\n",
    "        fig.clf()\n",
    "        plt.close(fig)"
   ]
  },
  {
   "cell_type": "code",
   "execution_count": 8,
   "metadata": {},
   "outputs": [
    {
     "name": "stdout",
     "output_type": "stream",
     "text": [
      "ffmpeg version 6.0 Copyright (c) 2000-2023 the FFmpeg developers\n",
      "  built with Apple clang version 14.0.3 (clang-1403.0.22.14.1)\n",
      "  configuration: --prefix=/usr/local/Cellar/ffmpeg/6.0 --enable-shared --enable-pthreads --enable-version3 --cc=clang --host-cflags= --host-ldflags= --enable-ffplay --enable-gnutls --enable-gpl --enable-libaom --enable-libaribb24 --enable-libbluray --enable-libdav1d --enable-libmp3lame --enable-libopus --enable-librav1e --enable-librist --enable-librubberband --enable-libsnappy --enable-libsrt --enable-libsvtav1 --enable-libtesseract --enable-libtheora --enable-libvidstab --enable-libvmaf --enable-libvorbis --enable-libvpx --enable-libwebp --enable-libx264 --enable-libx265 --enable-libxml2 --enable-libxvid --enable-lzma --enable-libfontconfig --enable-libfreetype --enable-frei0r --enable-libass --enable-libopencore-amrnb --enable-libopencore-amrwb --enable-libopenjpeg --enable-libspeex --enable-libsoxr --enable-libzmq --enable-libzimg --disable-libjack --disable-indev=jack --enable-videotoolbox\n",
      "  libavutil      58.  2.100 / 58.  2.100\n",
      "  libavcodec     60.  3.100 / 60.  3.100\n",
      "  libavformat    60.  3.100 / 60.  3.100\n",
      "  libavdevice    60.  1.100 / 60.  1.100\n",
      "  libavfilter     9.  3.100 /  9.  3.100\n",
      "  libswscale      7.  1.100 /  7.  1.100\n",
      "  libswresample   4. 10.100 /  4. 10.100\n",
      "  libpostproc    57.  1.100 / 57.  1.100\n",
      "Input #0, image2, from '/tmp/pf_tmp_%04d.png':\n",
      "  Duration: 00:06:00.00, start: 0.000000, bitrate: N/A\n",
      "  Stream #0:0: Video: png, rgba(pc), 2400x680 [SAR 7874:7874 DAR 60:17], 10 fps, 10 tbr, 10 tbn\n",
      "Stream mapping:\n",
      "  Stream #0:0 -> #0:0 (png (native) -> h264 (libx264))\n",
      "Press [q] to stop, [?] for help\n",
      "\u001b[1;36m[libx264 @ 0x7fd025405540] \u001b[0musing SAR=1/1\n",
      "\u001b[1;36m[libx264 @ 0x7fd025405540] \u001b[0musing cpu capabilities: MMX2 SSE2Fast SSSE3 SSE4.2 AVX FMA3 BMI2 AVX2\n",
      "\u001b[1;36m[libx264 @ 0x7fd025405540] \u001b[0mprofile High, level 4.0, 4:2:0, 8-bit\n",
      "\u001b[1;36m[libx264 @ 0x7fd025405540] \u001b[0m264 - core 164 r3095 baee400 - H.264/MPEG-4 AVC codec - Copyleft 2003-2022 - http://www.videolan.org/x264.html - options: cabac=1 ref=3 deblock=1:0:0 analyse=0x3:0x113 me=hex subme=7 psy=1 psy_rd=1.00:0.00 mixed_ref=1 me_range=16 chroma_me=1 trellis=1 8x8dct=1 cqm=0 deadzone=21,11 fast_pskip=1 chroma_qp_offset=-2 threads=21 lookahead_threads=3 sliced_threads=0 nr=0 decimate=1 interlaced=0 bluray_compat=0 constrained_intra=0 bframes=3 b_pyramid=2 b_adapt=1 b_bias=0 direct=1 weightb=1 open_gop=0 weightp=2 keyint=250 keyint_min=10 scenecut=40 intra_refresh=0 rc_lookahead=40 rc=crf mbtree=1 crf=25.0 qcomp=0.60 qpmin=0 qpmax=69 qpstep=4 ip_ratio=1.40 aq=1:1.00\n",
      "Output #0, mp4, to 'pf_illustration.mp4':\n",
      "  Metadata:\n",
      "    encoder         : Lavf60.3.100\n",
      "  Stream #0:0: Video: h264 (avc1 / 0x31637661), yuv420p(tv, progressive), 2400x680 [SAR 1:1 DAR 60:17], q=2-31, 10 fps, 10240 tbn\n",
      "    Metadata:\n",
      "      encoder         : Lavc60.3.100 libx264\n",
      "    Side data:\n",
      "      cpb: bitrate max/min/avg: 0/0/0 buffer size: 0 vbv_delay: N/A\n",
      "frame= 3600 fps=290 q=-1.0 Lsize=   12863kB time=00:05:59.70 bitrate= 292.9kbits/s speed=  29x     \n",
      "video:12823kB audio:0kB subtitle:0kB other streams:0kB global headers:0kB muxing overhead: 0.306908%\n",
      "\u001b[1;36m[libx264 @ 0x7fd025405540] \u001b[0mframe I:15    Avg QP:14.62  size: 36441\n",
      "\u001b[1;36m[libx264 @ 0x7fd025405540] \u001b[0mframe P:1378  Avg QP:18.58  size:  6039\n",
      "\u001b[1;36m[libx264 @ 0x7fd025405540] \u001b[0mframe B:2207  Avg QP:25.63  size:  1931\n",
      "\u001b[1;36m[libx264 @ 0x7fd025405540] \u001b[0mconsecutive B-frames:  4.2% 29.6% 37.7% 28.6%\n",
      "\u001b[1;36m[libx264 @ 0x7fd025405540] \u001b[0mmb I  I16..4: 30.4% 60.8%  8.9%\n",
      "\u001b[1;36m[libx264 @ 0x7fd025405540] \u001b[0mmb P  I16..4:  0.1%  0.2%  0.1%  P16..4:  3.1%  1.8%  1.3%  0.0%  0.0%    skip:93.4%\n",
      "\u001b[1;36m[libx264 @ 0x7fd025405540] \u001b[0mmb B  I16..4:  0.0%  0.1%  0.0%  B16..8:  2.7%  1.1%  0.4%  direct: 0.2%  skip:95.5%  L0:40.9% L1:42.4% BI:16.7%\n",
      "\u001b[1;36m[libx264 @ 0x7fd025405540] \u001b[0m8x8 transform intra:59.6% inter:16.4%\n",
      "\u001b[1;36m[libx264 @ 0x7fd025405540] \u001b[0mcoded y,uvDC,uvAC intra: 7.4% 9.6% 8.0% inter: 0.9% 1.3% 1.2%\n",
      "\u001b[1;36m[libx264 @ 0x7fd025405540] \u001b[0mi16 v,h,dc,p: 83%  8%  9%  0%\n",
      "\u001b[1;36m[libx264 @ 0x7fd025405540] \u001b[0mi8 v,h,dc,ddl,ddr,vr,hd,vl,hu: 33%  9% 57%  0%  0%  0%  0%  0%  0%\n",
      "\u001b[1;36m[libx264 @ 0x7fd025405540] \u001b[0mi4 v,h,dc,ddl,ddr,vr,hd,vl,hu: 30% 17% 26%  4%  5%  6%  5%  5%  4%\n",
      "\u001b[1;36m[libx264 @ 0x7fd025405540] \u001b[0mi8c dc,h,v,p: 87%  7%  6%  0%\n",
      "\u001b[1;36m[libx264 @ 0x7fd025405540] \u001b[0mWeighted P-Frames: Y:0.0% UV:0.0%\n",
      "\u001b[1;36m[libx264 @ 0x7fd025405540] \u001b[0mref P L0: 69.7%  3.9% 16.8%  9.6%\n",
      "\u001b[1;36m[libx264 @ 0x7fd025405540] \u001b[0mref B L0: 82.7% 14.6%  2.7%\n",
      "\u001b[1;36m[libx264 @ 0x7fd025405540] \u001b[0mref B L1: 98.2%  1.8%\n",
      "\u001b[1;36m[libx264 @ 0x7fd025405540] \u001b[0mkb/s:291.78\n"
     ]
    }
   ],
   "source": [
    "!ffmpeg -y -r 10 -f image2 -i /tmp/pf_tmp_%04d.png -vcodec libx264 -crf 25 -vf \"pad=ceil(iw/2)*2:ceil(ih/2)*2\" -pix_fmt yuv420p pf_illustration.mp4    \n",
    "!open pf_illustration.mp4"
   ]
  },
  {
   "cell_type": "code",
   "execution_count": 9,
   "metadata": {},
   "outputs": [
    {
     "data": {
      "image/png": "[encoded data removed]",
      "text/plain": [
       "<Figure size 864x244.8 with 3 Axes>"
      ]
     },
     "execution_count": 9,
     "metadata": {},
     "output_type": "execute_result"
    },
    {
     "data": {
      "image/png": "[encoded data removed]",
      "text/plain": [
       "<Figure size 864x244.8 with 3 Axes>"
      ]
     },
     "metadata": {
      "needs_background": "light"
     },
     "output_type": "display_data"
    }
   ],
   "source": [
    "main(elev=elev,azim=azim,phi1=45)"
   ]
  },
  {
   "cell_type": "code",
   "execution_count": 10,
   "metadata": {},
   "outputs": [
    {
     "data": {
      "image/png": "[encoded data removed]",
      "text/plain": [
       "<Figure size 864x244.8 with 3 Axes>"
      ]
     },
     "execution_count": 10,
     "metadata": {},
     "output_type": "execute_result"
    },
    {
     "data": {
      "image/png": "[encoded data removed]",
      "text/plain": [
       "<Figure size 864x244.8 with 3 Axes>"
      ]
     },
     "metadata": {
      "needs_background": "light"
     },
     "output_type": "display_data"
    }
   ],
   "source": [
    "main(elev=elev,azim=azim,phi1=0)"
   ]
  },
  {
   "cell_type": "code",
   "execution_count": 11,
   "metadata": {
    "scrolled": true,
    "tags": []
   },
   "outputs": [
    {
     "name": "stdout",
     "output_type": "stream",
     "text": [
      "/tmp/pf_tmpx_3601.png\n",
      "/tmp/pf_tmpx_3602.png\n",
      "/tmp/pf_tmpx_3603.png\n",
      "/tmp/pf_tmpx_3604.png\n",
      "/tmp/pf_tmpx_3605.png\n",
      "/tmp/pf_tmpx_3606.png\n",
      "/tmp/pf_tmpx_3607.png\n",
      "/tmp/pf_tmpx_3608.png\n",
      "/tmp/pf_tmpx_3609.png\n",
      "/tmp/pf_tmpx_3610.png\n",
      "/tmp/pf_tmpx_3611.png\n",
      "/tmp/pf_tmpx_3612.png\n",
      "/tmp/pf_tmpx_3613.png\n",
      "/tmp/pf_tmpx_3614.png\n",
      "/tmp/pf_tmpx_3615.png\n",
      "/tmp/pf_tmpx_3616.png\n",
      "/tmp/pf_tmpx_3617.png\n",
      "/tmp/pf_tmpx_3618.png\n",
      "/tmp/pf_tmpx_3619.png\n",
      "/tmp/pf_tmpx_3620.png\n",
      "/tmp/pf_tmpx_3621.png\n",
      "/tmp/pf_tmpx_3622.png\n",
      "/tmp/pf_tmpx_3623.png\n",
      "/tmp/pf_tmpx_3624.png\n",
      "/tmp/pf_tmpx_3625.png\n",
      "/tmp/pf_tmpx_3626.png\n",
      "/tmp/pf_tmpx_3627.png\n",
      "/tmp/pf_tmpx_3628.png\n",
      "/tmp/pf_tmpx_3629.png\n",
      "/tmp/pf_tmpx_3630.png\n",
      "/tmp/pf_tmpx_3631.png\n",
      "/tmp/pf_tmpx_3632.png\n",
      "/tmp/pf_tmpx_3633.png\n",
      "/tmp/pf_tmpx_3634.png\n",
      "/tmp/pf_tmpx_3635.png\n",
      "/tmp/pf_tmpx_3636.png\n",
      "/tmp/pf_tmpx_3637.png\n",
      "/tmp/pf_tmpx_3638.png\n",
      "/tmp/pf_tmpx_3639.png\n",
      "/tmp/pf_tmpx_3640.png\n",
      "/tmp/pf_tmpx_3641.png\n",
      "/tmp/pf_tmpx_3642.png\n",
      "/tmp/pf_tmpx_3643.png\n",
      "/tmp/pf_tmpx_3644.png\n",
      "/tmp/pf_tmpx_3645.png\n",
      "/tmp/pf_tmpx_3646.png\n",
      "/tmp/pf_tmpx_3647.png\n",
      "/tmp/pf_tmpx_3648.png\n",
      "/tmp/pf_tmpx_3649.png\n",
      "/tmp/pf_tmpx_3650.png\n",
      "/tmp/pf_tmpx_3651.png\n",
      "/tmp/pf_tmpx_3652.png\n",
      "/tmp/pf_tmpx_3653.png\n",
      "/tmp/pf_tmpx_3654.png\n",
      "/tmp/pf_tmpx_3655.png\n",
      "/tmp/pf_tmpx_3656.png\n",
      "/tmp/pf_tmpx_3657.png\n",
      "/tmp/pf_tmpx_3658.png\n",
      "/tmp/pf_tmpx_3659.png\n",
      "/tmp/pf_tmpx_3660.png\n",
      "/tmp/pf_tmpx_3661.png\n",
      "/tmp/pf_tmpx_3662.png\n",
      "/tmp/pf_tmpx_3663.png\n",
      "/tmp/pf_tmpx_3664.png\n",
      "/tmp/pf_tmpx_3665.png\n",
      "/tmp/pf_tmpx_3666.png\n",
      "/tmp/pf_tmpx_3667.png\n",
      "/tmp/pf_tmpx_3668.png\n",
      "/tmp/pf_tmpx_3669.png\n",
      "/tmp/pf_tmpx_3670.png\n",
      "/tmp/pf_tmpx_3671.png\n",
      "/tmp/pf_tmpx_3672.png\n",
      "/tmp/pf_tmpx_3673.png\n",
      "/tmp/pf_tmpx_3674.png\n",
      "/tmp/pf_tmpx_3675.png\n",
      "/tmp/pf_tmpx_3676.png\n",
      "/tmp/pf_tmpx_3677.png\n",
      "/tmp/pf_tmpx_3678.png\n",
      "/tmp/pf_tmpx_3679.png\n",
      "/tmp/pf_tmpx_3680.png\n",
      "/tmp/pf_tmpx_3681.png\n",
      "/tmp/pf_tmpx_3682.png\n",
      "/tmp/pf_tmpx_3683.png\n",
      "/tmp/pf_tmpx_3684.png\n",
      "/tmp/pf_tmpx_3685.png\n",
      "/tmp/pf_tmpx_3686.png\n",
      "/tmp/pf_tmpx_3687.png\n",
      "/tmp/pf_tmpx_3688.png\n",
      "/tmp/pf_tmpx_3689.png\n",
      "/tmp/pf_tmpx_3690.png\n",
      "/tmp/pf_tmpx_3691.png\n",
      "/tmp/pf_tmpx_3692.png\n",
      "/tmp/pf_tmpx_3693.png\n",
      "/tmp/pf_tmpx_3694.png\n",
      "/tmp/pf_tmpx_3695.png\n",
      "/tmp/pf_tmpx_3696.png\n",
      "/tmp/pf_tmpx_3697.png\n",
      "/tmp/pf_tmpx_3698.png\n",
      "/tmp/pf_tmpx_3699.png\n",
      "/tmp/pf_tmpx_3700.png\n",
      "/tmp/pf_tmpx_3701.png\n",
      "/tmp/pf_tmpx_3702.png\n",
      "/tmp/pf_tmpx_3703.png\n",
      "/tmp/pf_tmpx_3704.png\n",
      "/tmp/pf_tmpx_3705.png\n",
      "/tmp/pf_tmpx_3706.png\n",
      "/tmp/pf_tmpx_3707.png\n",
      "/tmp/pf_tmpx_3708.png\n",
      "/tmp/pf_tmpx_3709.png\n",
      "/tmp/pf_tmpx_3710.png\n",
      "/tmp/pf_tmpx_3711.png\n",
      "/tmp/pf_tmpx_3712.png\n",
      "/tmp/pf_tmpx_3713.png\n",
      "/tmp/pf_tmpx_3714.png\n",
      "/tmp/pf_tmpx_3715.png\n",
      "/tmp/pf_tmpx_3716.png\n",
      "/tmp/pf_tmpx_3717.png\n",
      "/tmp/pf_tmpx_3718.png\n",
      "/tmp/pf_tmpx_3719.png\n",
      "/tmp/pf_tmpx_3720.png\n",
      "/tmp/pf_tmpx_3721.png\n",
      "/tmp/pf_tmpx_3722.png\n",
      "/tmp/pf_tmpx_3723.png\n",
      "/tmp/pf_tmpx_3724.png\n",
      "/tmp/pf_tmpx_3725.png\n",
      "/tmp/pf_tmpx_3726.png\n",
      "/tmp/pf_tmpx_3727.png\n",
      "/tmp/pf_tmpx_3728.png\n",
      "/tmp/pf_tmpx_3729.png\n",
      "/tmp/pf_tmpx_3730.png\n",
      "/tmp/pf_tmpx_3731.png\n",
      "/tmp/pf_tmpx_3732.png\n",
      "/tmp/pf_tmpx_3733.png\n",
      "/tmp/pf_tmpx_3734.png\n",
      "/tmp/pf_tmpx_3735.png\n",
      "/tmp/pf_tmpx_3736.png\n",
      "/tmp/pf_tmpx_3737.png\n",
      "/tmp/pf_tmpx_3738.png\n",
      "/tmp/pf_tmpx_3739.png\n",
      "/tmp/pf_tmpx_3740.png\n",
      "/tmp/pf_tmpx_3741.png\n",
      "/tmp/pf_tmpx_3742.png\n",
      "/tmp/pf_tmpx_3743.png\n",
      "/tmp/pf_tmpx_3744.png\n",
      "/tmp/pf_tmpx_3745.png\n",
      "/tmp/pf_tmpx_3746.png\n",
      "/tmp/pf_tmpx_3747.png\n",
      "/tmp/pf_tmpx_3748.png\n",
      "/tmp/pf_tmpx_3749.png\n",
      "/tmp/pf_tmpx_3750.png\n",
      "/tmp/pf_tmpx_3751.png\n",
      "/tmp/pf_tmpx_3752.png\n",
      "/tmp/pf_tmpx_3753.png\n",
      "/tmp/pf_tmpx_3754.png\n",
      "/tmp/pf_tmpx_3755.png\n",
      "/tmp/pf_tmpx_3756.png\n",
      "/tmp/pf_tmpx_3757.png\n",
      "/tmp/pf_tmpx_3758.png\n",
      "/tmp/pf_tmpx_3759.png\n",
      "/tmp/pf_tmpx_3760.png\n",
      "/tmp/pf_tmpx_3761.png\n",
      "/tmp/pf_tmpx_3762.png\n",
      "/tmp/pf_tmpx_3763.png\n",
      "/tmp/pf_tmpx_3764.png\n",
      "/tmp/pf_tmpx_3765.png\n",
      "/tmp/pf_tmpx_3766.png\n",
      "/tmp/pf_tmpx_3767.png\n",
      "/tmp/pf_tmpx_3768.png\n",
      "/tmp/pf_tmpx_3769.png\n",
      "/tmp/pf_tmpx_3770.png\n",
      "/tmp/pf_tmpx_3771.png\n",
      "/tmp/pf_tmpx_3772.png\n",
      "/tmp/pf_tmpx_3773.png\n",
      "/tmp/pf_tmpx_3774.png\n",
      "/tmp/pf_tmpx_3775.png\n",
      "/tmp/pf_tmpx_3776.png\n",
      "/tmp/pf_tmpx_3777.png\n",
      "/tmp/pf_tmpx_3778.png\n",
      "/tmp/pf_tmpx_3779.png\n",
      "/tmp/pf_tmpx_3780.png\n",
      "/tmp/pf_tmpx_3781.png\n",
      "/tmp/pf_tmpx_3782.png\n",
      "/tmp/pf_tmpx_3783.png\n",
      "/tmp/pf_tmpx_3784.png\n",
      "/tmp/pf_tmpx_3785.png\n",
      "/tmp/pf_tmpx_3786.png\n",
      "/tmp/pf_tmpx_3787.png\n",
      "/tmp/pf_tmpx_3788.png\n",
      "/tmp/pf_tmpx_3789.png\n",
      "/tmp/pf_tmpx_3790.png\n",
      "/tmp/pf_tmpx_3791.png\n",
      "/tmp/pf_tmpx_3792.png\n",
      "/tmp/pf_tmpx_3793.png\n",
      "/tmp/pf_tmpx_3794.png\n",
      "/tmp/pf_tmpx_3795.png\n",
      "/tmp/pf_tmpx_3796.png\n",
      "/tmp/pf_tmpx_3797.png\n",
      "/tmp/pf_tmpx_3798.png\n",
      "/tmp/pf_tmpx_3799.png\n",
      "/tmp/pf_tmpx_3800.png\n",
      "/tmp/pf_tmpx_3801.png\n",
      "/tmp/pf_tmpx_3802.png\n",
      "/tmp/pf_tmpx_3803.png\n",
      "/tmp/pf_tmpx_3804.png\n",
      "/tmp/pf_tmpx_3805.png\n",
      "/tmp/pf_tmpx_3806.png\n",
      "/tmp/pf_tmpx_3807.png\n",
      "/tmp/pf_tmpx_3808.png\n",
      "/tmp/pf_tmpx_3809.png\n",
      "/tmp/pf_tmpx_3810.png\n",
      "/tmp/pf_tmpx_3811.png\n",
      "/tmp/pf_tmpx_3812.png\n",
      "/tmp/pf_tmpx_3813.png\n",
      "/tmp/pf_tmpx_3814.png\n",
      "/tmp/pf_tmpx_3815.png\n",
      "/tmp/pf_tmpx_3816.png\n",
      "/tmp/pf_tmpx_3817.png\n",
      "/tmp/pf_tmpx_3818.png\n",
      "/tmp/pf_tmpx_3819.png\n",
      "/tmp/pf_tmpx_3820.png\n",
      "/tmp/pf_tmpx_3821.png\n",
      "/tmp/pf_tmpx_3822.png\n",
      "/tmp/pf_tmpx_3823.png\n",
      "/tmp/pf_tmpx_3824.png\n",
      "/tmp/pf_tmpx_3825.png\n",
      "/tmp/pf_tmpx_3826.png\n",
      "/tmp/pf_tmpx_3827.png\n",
      "/tmp/pf_tmpx_3828.png\n",
      "/tmp/pf_tmpx_3829.png\n",
      "/tmp/pf_tmpx_3830.png\n",
      "/tmp/pf_tmpx_3831.png\n",
      "/tmp/pf_tmpx_3832.png\n",
      "/tmp/pf_tmpx_3833.png\n",
      "/tmp/pf_tmpx_3834.png\n",
      "/tmp/pf_tmpx_3835.png\n",
      "/tmp/pf_tmpx_3836.png\n",
      "/tmp/pf_tmpx_3837.png\n",
      "/tmp/pf_tmpx_3838.png\n",
      "/tmp/pf_tmpx_3839.png\n",
      "/tmp/pf_tmpx_3840.png\n",
      "/tmp/pf_tmpx_3841.png\n",
      "/tmp/pf_tmpx_3842.png\n",
      "/tmp/pf_tmpx_3843.png\n",
      "/tmp/pf_tmpx_3844.png\n",
      "/tmp/pf_tmpx_3845.png\n",
      "/tmp/pf_tmpx_3846.png\n",
      "/tmp/pf_tmpx_3847.png\n",
      "/tmp/pf_tmpx_3848.png\n",
      "/tmp/pf_tmpx_3849.png\n",
      "/tmp/pf_tmpx_3850.png\n",
      "/tmp/pf_tmpx_3851.png\n",
      "/tmp/pf_tmpx_3852.png\n",
      "/tmp/pf_tmpx_3853.png\n",
      "/tmp/pf_tmpx_3854.png\n",
      "/tmp/pf_tmpx_3855.png\n",
      "/tmp/pf_tmpx_3856.png\n",
      "/tmp/pf_tmpx_3857.png\n",
      "/tmp/pf_tmpx_3858.png\n",
      "/tmp/pf_tmpx_3859.png\n",
      "/tmp/pf_tmpx_3860.png\n",
      "/tmp/pf_tmpx_3861.png\n",
      "/tmp/pf_tmpx_3862.png\n",
      "/tmp/pf_tmpx_3863.png\n",
      "/tmp/pf_tmpx_3864.png\n",
      "/tmp/pf_tmpx_3865.png\n",
      "/tmp/pf_tmpx_3866.png\n",
      "/tmp/pf_tmpx_3867.png\n",
      "/tmp/pf_tmpx_3868.png\n",
      "/tmp/pf_tmpx_3869.png\n",
      "/tmp/pf_tmpx_3870.png\n",
      "/tmp/pf_tmpx_3871.png\n",
      "/tmp/pf_tmpx_3872.png\n",
      "/tmp/pf_tmpx_3873.png\n",
      "/tmp/pf_tmpx_3874.png\n",
      "/tmp/pf_tmpx_3875.png\n",
      "/tmp/pf_tmpx_3876.png\n",
      "/tmp/pf_tmpx_3877.png\n",
      "/tmp/pf_tmpx_3878.png\n",
      "/tmp/pf_tmpx_3879.png\n",
      "/tmp/pf_tmpx_3880.png\n",
      "/tmp/pf_tmpx_3881.png\n",
      "/tmp/pf_tmpx_3882.png\n",
      "/tmp/pf_tmpx_3883.png\n",
      "/tmp/pf_tmpx_3884.png\n",
      "/tmp/pf_tmpx_3885.png\n",
      "/tmp/pf_tmpx_3886.png\n",
      "/tmp/pf_tmpx_3887.png\n",
      "/tmp/pf_tmpx_3888.png\n",
      "/tmp/pf_tmpx_3889.png\n",
      "/tmp/pf_tmpx_3890.png\n",
      "/tmp/pf_tmpx_3891.png\n",
      "/tmp/pf_tmpx_3892.png\n",
      "/tmp/pf_tmpx_3893.png\n",
      "/tmp/pf_tmpx_3894.png\n",
      "/tmp/pf_tmpx_3895.png\n",
      "/tmp/pf_tmpx_3896.png\n",
      "/tmp/pf_tmpx_3897.png\n",
      "/tmp/pf_tmpx_3898.png\n",
      "/tmp/pf_tmpx_3899.png\n",
      "/tmp/pf_tmpx_3900.png\n",
      "/tmp/pf_tmpx_3901.png\n",
      "/tmp/pf_tmpx_3902.png\n",
      "/tmp/pf_tmpx_3903.png\n",
      "/tmp/pf_tmpx_3904.png\n",
      "/tmp/pf_tmpx_3905.png\n",
      "/tmp/pf_tmpx_3906.png\n",
      "/tmp/pf_tmpx_3907.png\n",
      "/tmp/pf_tmpx_3908.png\n",
      "/tmp/pf_tmpx_3909.png\n",
      "/tmp/pf_tmpx_3910.png\n",
      "/tmp/pf_tmpx_3911.png\n",
      "/tmp/pf_tmpx_3912.png\n",
      "/tmp/pf_tmpx_3913.png\n",
      "/tmp/pf_tmpx_3914.png\n",
      "/tmp/pf_tmpx_3915.png\n",
      "/tmp/pf_tmpx_3916.png\n",
      "/tmp/pf_tmpx_3917.png\n",
      "/tmp/pf_tmpx_3918.png\n",
      "/tmp/pf_tmpx_3919.png\n",
      "/tmp/pf_tmpx_3920.png\n",
      "/tmp/pf_tmpx_3921.png\n",
      "/tmp/pf_tmpx_3922.png\n",
      "/tmp/pf_tmpx_3923.png\n",
      "/tmp/pf_tmpx_3924.png\n",
      "/tmp/pf_tmpx_3925.png\n",
      "/tmp/pf_tmpx_3926.png\n",
      "/tmp/pf_tmpx_3927.png\n",
      "/tmp/pf_tmpx_3928.png\n",
      "/tmp/pf_tmpx_3929.png\n",
      "/tmp/pf_tmpx_3930.png\n",
      "/tmp/pf_tmpx_3931.png\n",
      "/tmp/pf_tmpx_3932.png\n",
      "/tmp/pf_tmpx_3933.png\n",
      "/tmp/pf_tmpx_3934.png\n",
      "/tmp/pf_tmpx_3935.png\n",
      "/tmp/pf_tmpx_3936.png\n",
      "/tmp/pf_tmpx_3937.png\n",
      "/tmp/pf_tmpx_3938.png\n",
      "/tmp/pf_tmpx_3939.png\n",
      "/tmp/pf_tmpx_3940.png\n",
      "/tmp/pf_tmpx_3941.png\n",
      "/tmp/pf_tmpx_3942.png\n",
      "/tmp/pf_tmpx_3943.png\n",
      "/tmp/pf_tmpx_3944.png\n",
      "/tmp/pf_tmpx_3945.png\n",
      "/tmp/pf_tmpx_3946.png\n",
      "/tmp/pf_tmpx_3947.png\n",
      "/tmp/pf_tmpx_3948.png\n",
      "/tmp/pf_tmpx_3949.png\n",
      "/tmp/pf_tmpx_3950.png\n",
      "/tmp/pf_tmpx_3951.png\n",
      "/tmp/pf_tmpx_3952.png\n",
      "/tmp/pf_tmpx_3953.png\n",
      "/tmp/pf_tmpx_3954.png\n",
      "/tmp/pf_tmpx_3955.png\n",
      "/tmp/pf_tmpx_3956.png\n",
      "/tmp/pf_tmpx_3957.png\n",
      "/tmp/pf_tmpx_3958.png\n",
      "/tmp/pf_tmpx_3959.png\n",
      "/tmp/pf_tmpx_3960.png\n"
     ]
    }
   ],
   "source": [
    "!rm -vfr /tmp/pf_tmpx_*.png\n",
    "poles=[1,0,0]\n",
    "phi1=0\n",
    "phi=45.\n",
    "phi2=30.\n",
    "k=0\n",
    "elev=30.\n",
    "azim=30.\n",
    "for i in range(phi1,phi1+360,5):\n",
    "        fig=main(elev=elev,azim=azim,phi1=i,phi=phi,phi2=phi2)\n",
    "        fig.savefig('/tmp/pf_tmpx_%4.4i.png'%k,dpi=200)\n",
    "        k=k+1\n",
    "        fig.clf()\n",
    "        plt.close(fig)"
   ]
  },
  {
   "cell_type": "code",
   "execution_count": 12,
   "metadata": {
    "scrolled": true,
    "tags": []
   },
   "outputs": [
    {
     "name": "stdout",
     "output_type": "stream",
     "text": [
      "ffmpeg version 6.0 Copyright (c) 2000-2023 the FFmpeg developers\n",
      "  built with Apple clang version 14.0.3 (clang-1403.0.22.14.1)\n",
      "  configuration: --prefix=/usr/local/Cellar/ffmpeg/6.0 --enable-shared --enable-pthreads --enable-version3 --cc=clang --host-cflags= --host-ldflags= --enable-ffplay --enable-gnutls --enable-gpl --enable-libaom --enable-libaribb24 --enable-libbluray --enable-libdav1d --enable-libmp3lame --enable-libopus --enable-librav1e --enable-librist --enable-librubberband --enable-libsnappy --enable-libsrt --enable-libsvtav1 --enable-libtesseract --enable-libtheora --enable-libvidstab --enable-libvmaf --enable-libvorbis --enable-libvpx --enable-libwebp --enable-libx264 --enable-libx265 --enable-libxml2 --enable-libxvid --enable-lzma --enable-libfontconfig --enable-libfreetype --enable-frei0r --enable-libass --enable-libopencore-amrnb --enable-libopencore-amrwb --enable-libopenjpeg --enable-libspeex --enable-libsoxr --enable-libzmq --enable-libzimg --disable-libjack --disable-indev=jack --enable-videotoolbox\n",
      "  libavutil      58.  2.100 / 58.  2.100\n",
      "  libavcodec     60.  3.100 / 60.  3.100\n",
      "  libavformat    60.  3.100 / 60.  3.100\n",
      "  libavdevice    60.  1.100 / 60.  1.100\n",
      "  libavfilter     9.  3.100 /  9.  3.100\n",
      "  libswscale      7.  1.100 /  7.  1.100\n",
      "  libswresample   4. 10.100 /  4. 10.100\n",
      "  libpostproc    57.  1.100 / 57.  1.100\n",
      "Input #0, image2, from '/tmp/pf_tmpx_%04d.png':\n",
      "  Duration: 00:00:36.00, start: 0.000000, bitrate: N/A\n",
      "  Stream #0:0: Video: png, rgba(pc), 2400x680 [SAR 7874:7874 DAR 60:17], 10 fps, 10 tbr, 10 tbn\n",
      "Stream mapping:\n",
      "  Stream #0:0 -> #0:0 (png (native) -> h264 (libx264))\n",
      "Press [q] to stop, [?] for help\n",
      "\u001b[1;36m[libx264 @ 0x7fa616707340] \u001b[0musing SAR=1/1\n",
      "\u001b[1;36m[libx264 @ 0x7fa616707340] \u001b[0musing cpu capabilities: MMX2 SSE2Fast SSSE3 SSE4.2 AVX FMA3 BMI2 AVX2\n",
      "\u001b[1;36m[libx264 @ 0x7fa616707340] \u001b[0mprofile High, level 4.0, 4:2:0, 8-bit\n",
      "\u001b[1;36m[libx264 @ 0x7fa616707340] \u001b[0m264 - core 164 r3095 baee400 - H.264/MPEG-4 AVC codec - Copyleft 2003-2022 - http://www.videolan.org/x264.html - options: cabac=1 ref=3 deblock=1:0:0 analyse=0x3:0x113 me=hex subme=7 psy=1 psy_rd=1.00:0.00 mixed_ref=1 me_range=16 chroma_me=1 trellis=1 8x8dct=1 cqm=0 deadzone=21,11 fast_pskip=1 chroma_qp_offset=-2 threads=21 lookahead_threads=3 sliced_threads=0 nr=0 decimate=1 interlaced=0 bluray_compat=0 constrained_intra=0 bframes=3 b_pyramid=2 b_adapt=1 b_bias=0 direct=1 weightb=1 open_gop=0 weightp=2 keyint=250 keyint_min=10 scenecut=40 intra_refresh=0 rc_lookahead=40 rc=crf mbtree=1 crf=25.0 qcomp=0.60 qpmin=0 qpmax=69 qpstep=4 ip_ratio=1.40 aq=1:1.00\n",
      "Output #0, mp4, to 'pf_illustrationx.mp4':\n",
      "  Metadata:\n",
      "    encoder         : Lavf60.3.100\n",
      "  Stream #0:0: Video: h264 (avc1 / 0x31637661), yuv420p(tv, progressive), 2400x680 [SAR 1:1 DAR 60:17], q=2-31, 10 fps, 10240 tbn\n",
      "    Metadata:\n",
      "      encoder         : Lavc60.3.100 libx264\n",
      "    Side data:\n",
      "      cpb: bitrate max/min/avg: 0/0/0 buffer size: 0 vbv_delay: N/A\n",
      "frame=  360 fps=239 q=-1.0 Lsize=     987kB time=00:00:35.70 bitrate= 226.6kbits/s speed=23.7x     \n",
      "video:983kB audio:0kB subtitle:0kB other streams:0kB global headers:0kB muxing overhead: 0.491330%\n",
      "\u001b[1;36m[libx264 @ 0x7fa616707340] \u001b[0mframe I:2     Avg QP:13.86  size: 35324\n",
      "\u001b[1;36m[libx264 @ 0x7fa616707340] \u001b[0mframe P:105   Avg QP:18.39  size:  5123\n",
      "\u001b[1;36m[libx264 @ 0x7fa616707340] \u001b[0mframe B:253   Avg QP:25.84  size:  1569\n",
      "\u001b[1;36m[libx264 @ 0x7fa616707340] \u001b[0mconsecutive B-frames:  0.8%  7.8% 25.8% 65.6%\n",
      "\u001b[1;36m[libx264 @ 0x7fa616707340] \u001b[0mmb I  I16..4: 32.4% 58.7%  8.9%\n",
      "\u001b[1;36m[libx264 @ 0x7fa616707340] \u001b[0mmb P  I16..4:  0.2%  0.2%  0.1%  P16..4:  2.3%  1.3%  1.0%  0.0%  0.0%    skip:95.0%\n",
      "\u001b[1;36m[libx264 @ 0x7fa616707340] \u001b[0mmb B  I16..4:  0.0%  0.0%  0.0%  B16..8:  2.5%  1.0%  0.3%  direct: 0.2%  skip:96.0%  L0:42.6% L1:44.0% BI:13.4%\n",
      "\u001b[1;36m[libx264 @ 0x7fa616707340] \u001b[0m8x8 transform intra:57.4% inter:9.9%\n",
      "\u001b[1;36m[libx264 @ 0x7fa616707340] \u001b[0mcoded y,uvDC,uvAC intra: 7.0% 7.6% 6.4% inter: 0.6% 0.9% 0.8%\n",
      "\u001b[1;36m[libx264 @ 0x7fa616707340] \u001b[0mi16 v,h,dc,p: 86%  6%  7%  0%\n",
      "\u001b[1;36m[libx264 @ 0x7fa616707340] \u001b[0mi8 v,h,dc,ddl,ddr,vr,hd,vl,hu: 45%  5% 49%  0%  0%  0%  0%  0%  0%\n",
      "\u001b[1;36m[libx264 @ 0x7fa616707340] \u001b[0mi4 v,h,dc,ddl,ddr,vr,hd,vl,hu: 33% 16% 24%  4%  4%  6%  5%  4%  4%\n",
      "\u001b[1;36m[libx264 @ 0x7fa616707340] \u001b[0mi8c dc,h,v,p: 90%  5%  4%  0%\n",
      "\u001b[1;36m[libx264 @ 0x7fa616707340] \u001b[0mWeighted P-Frames: Y:0.0% UV:0.0%\n",
      "\u001b[1;36m[libx264 @ 0x7fa616707340] \u001b[0mref P L0: 69.7%  3.7% 16.6% 10.0%\n",
      "\u001b[1;36m[libx264 @ 0x7fa616707340] \u001b[0mref B L0: 83.9% 13.0%  3.1%\n",
      "\u001b[1;36m[libx264 @ 0x7fa616707340] \u001b[0mref B L1: 96.3%  3.7%\n",
      "\u001b[1;36m[libx264 @ 0x7fa616707340] \u001b[0mkb/s:223.46\n"
     ]
    }
   ],
   "source": [
    "!ffmpeg -y -r 10 -f image2 -i /tmp/pf_tmpx_%04d.png -vcodec libx264 -crf 25 -vf \"pad=ceil(iw/2)*2:ceil(ih/2)*2\" -pix_fmt yuv420p pf_illustrationx.mp4    "
   ]
  },
  {
   "cell_type": "code",
   "execution_count": 13,
   "metadata": {},
   "outputs": [],
   "source": [
    "!open pf_illustrationx.mp4"
   ]
  },
  {
   "cell_type": "code",
   "execution_count": 14,
   "metadata": {
    "scrolled": true,
    "tags": []
   },
   "outputs": [
    {
     "name": "stdout",
     "output_type": "stream",
     "text": [
      "zsh:1: no matches found: /tmp/pf_tmpx_phi_100_*.png\n"
     ]
    }
   ],
   "source": [
    "!rm -vfr /tmp/pf_tmpx_phi_100_*.png\n",
    "isn=[1,0,0]\n",
    "phi=0\n",
    "k=0\n",
    "for i in range(phi,phi+180,5):\n",
    "        fig=main(isn=isn,elev=elev,azim=azim,phi1=phi,phi=i,phi2=phi2)\n",
    "        fig.savefig('/tmp/pf_tmpx_phi_100_%4.4i.png'%k,dpi=200)\n",
    "        k=k+1\n",
    "        fig.clf()\n",
    "        plt.close(fig)"
   ]
  },
  {
   "cell_type": "code",
   "execution_count": 15,
   "metadata": {
    "scrolled": true,
    "tags": []
   },
   "outputs": [
    {
     "name": "stdout",
     "output_type": "stream",
     "text": [
      "ffmpeg version 6.0 Copyright (c) 2000-2023 the FFmpeg developers\n",
      "  built with Apple clang version 14.0.3 (clang-1403.0.22.14.1)\n",
      "  configuration: --prefix=/usr/local/Cellar/ffmpeg/6.0 --enable-shared --enable-pthreads --enable-version3 --cc=clang --host-cflags= --host-ldflags= --enable-ffplay --enable-gnutls --enable-gpl --enable-libaom --enable-libaribb24 --enable-libbluray --enable-libdav1d --enable-libmp3lame --enable-libopus --enable-librav1e --enable-librist --enable-librubberband --enable-libsnappy --enable-libsrt --enable-libsvtav1 --enable-libtesseract --enable-libtheora --enable-libvidstab --enable-libvmaf --enable-libvorbis --enable-libvpx --enable-libwebp --enable-libx264 --enable-libx265 --enable-libxml2 --enable-libxvid --enable-lzma --enable-libfontconfig --enable-libfreetype --enable-frei0r --enable-libass --enable-libopencore-amrnb --enable-libopencore-amrwb --enable-libopenjpeg --enable-libspeex --enable-libsoxr --enable-libzmq --enable-libzimg --disable-libjack --disable-indev=jack --enable-videotoolbox\n",
      "  libavutil      58.  2.100 / 58.  2.100\n",
      "  libavcodec     60.  3.100 / 60.  3.100\n",
      "  libavformat    60.  3.100 / 60.  3.100\n",
      "  libavdevice    60.  1.100 / 60.  1.100\n",
      "  libavfilter     9.  3.100 /  9.  3.100\n",
      "  libswscale      7.  1.100 /  7.  1.100\n",
      "  libswresample   4. 10.100 /  4. 10.100\n",
      "  libpostproc    57.  1.100 / 57.  1.100\n",
      "Input #0, image2, from '/tmp/pf_tmpx_phi_100_%04d.png':\n",
      "  Duration: 00:00:18.00, start: 0.000000, bitrate: N/A\n",
      "  Stream #0:0: Video: png, rgba(pc), 2400x680 [SAR 7874:7874 DAR 60:17], 10 fps, 10 tbr, 10 tbn\n",
      "Stream mapping:\n",
      "  Stream #0:0 -> #0:0 (png (native) -> h264 (libx264))\n",
      "Press [q] to stop, [?] for help\n",
      "\u001b[1;36m[libx264 @ 0x7fc3a720a840] \u001b[0musing SAR=1/1\n",
      "\u001b[1;36m[libx264 @ 0x7fc3a720a840] \u001b[0musing cpu capabilities: MMX2 SSE2Fast SSSE3 SSE4.2 AVX FMA3 BMI2 AVX2\n",
      "\u001b[1;36m[libx264 @ 0x7fc3a720a840] \u001b[0mprofile High, level 4.0, 4:2:0, 8-bit\n",
      "\u001b[1;36m[libx264 @ 0x7fc3a720a840] \u001b[0m264 - core 164 r3095 baee400 - H.264/MPEG-4 AVC codec - Copyleft 2003-2022 - http://www.videolan.org/x264.html - options: cabac=1 ref=3 deblock=1:0:0 analyse=0x3:0x113 me=hex subme=7 psy=1 psy_rd=1.00:0.00 mixed_ref=1 me_range=16 chroma_me=1 trellis=1 8x8dct=1 cqm=0 deadzone=21,11 fast_pskip=1 chroma_qp_offset=-2 threads=21 lookahead_threads=3 sliced_threads=0 nr=0 decimate=1 interlaced=0 bluray_compat=0 constrained_intra=0 bframes=3 b_pyramid=2 b_adapt=1 b_bias=0 direct=1 weightb=1 open_gop=0 weightp=2 keyint=250 keyint_min=10 scenecut=40 intra_refresh=0 rc_lookahead=40 rc=crf mbtree=1 crf=25.0 qcomp=0.60 qpmin=0 qpmax=69 qpstep=4 ip_ratio=1.40 aq=1:1.00\n",
      "Output #0, mp4, to 'pf_illustration_100_phi.mp4':\n",
      "  Metadata:\n",
      "    encoder         : Lavf60.3.100\n",
      "  Stream #0:0: Video: h264 (avc1 / 0x31637661), yuv420p(tv, progressive), 2400x680 [SAR 1:1 DAR 60:17], q=2-31, 10 fps, 10240 tbn\n",
      "    Metadata:\n",
      "      encoder         : Lavc60.3.100 libx264\n",
      "    Side data:\n",
      "      cpb: bitrate max/min/avg: 0/0/0 buffer size: 0 vbv_delay: N/A\n",
      "frame=  180 fps=0.0 q=-1.0 Lsize=     323kB time=00:00:17.70 bitrate= 149.3kbits/s speed=18.7x     \n",
      "video:320kB audio:0kB subtitle:0kB other streams:0kB global headers:0kB muxing overhead: 0.897932%\n",
      "\u001b[1;36m[libx264 @ 0x7fc3a720a840] \u001b[0mframe I:1     Avg QP:13.44  size: 26173\n",
      "\u001b[1;36m[libx264 @ 0x7fc3a720a840] \u001b[0mframe P:50    Avg QP:18.35  size:  3266\n",
      "\u001b[1;36m[libx264 @ 0x7fc3a720a840] \u001b[0mframe B:129   Avg QP:25.65  size:  1064\n",
      "\u001b[1;36m[libx264 @ 0x7fc3a720a840] \u001b[0mconsecutive B-frames:  1.1%  3.3% 20.0% 75.6%\n",
      "\u001b[1;36m[libx264 @ 0x7fc3a720a840] \u001b[0mmb I  I16..4: 32.9% 59.7%  7.4%\n",
      "\u001b[1;36m[libx264 @ 0x7fc3a720a840] \u001b[0mmb P  I16..4:  0.1%  0.1%  0.0%  P16..4:  1.7%  0.8%  0.6%  0.0%  0.0%    skip:96.7%\n",
      "\u001b[1;36m[libx264 @ 0x7fc3a720a840] \u001b[0mmb B  I16..4:  0.0%  0.0%  0.0%  B16..8:  1.6%  0.6%  0.2%  direct: 0.1%  skip:97.4%  L0:43.5% L1:43.8% BI:12.7%\n",
      "\u001b[1;36m[libx264 @ 0x7fc3a720a840] \u001b[0m8x8 transform intra:57.7% inter:8.0%\n",
      "\u001b[1;36m[libx264 @ 0x7fc3a720a840] \u001b[0mcoded y,uvDC,uvAC intra: 6.1% 5.4% 4.7% inter: 0.4% 0.5% 0.5%\n",
      "\u001b[1;36m[libx264 @ 0x7fc3a720a840] \u001b[0mi16 v,h,dc,p: 87%  5%  8%  0%\n",
      "\u001b[1;36m[libx264 @ 0x7fc3a720a840] \u001b[0mi8 v,h,dc,ddl,ddr,vr,hd,vl,hu: 60%  7% 33%  0%  0%  0%  0%  0%  0%\n",
      "\u001b[1;36m[libx264 @ 0x7fc3a720a840] \u001b[0mi4 v,h,dc,ddl,ddr,vr,hd,vl,hu: 31% 19% 24%  4%  4%  4%  5%  4%  5%\n",
      "\u001b[1;36m[libx264 @ 0x7fc3a720a840] \u001b[0mi8c dc,h,v,p: 92%  4%  4%  0%\n",
      "\u001b[1;36m[libx264 @ 0x7fc3a720a840] \u001b[0mWeighted P-Frames: Y:0.0% UV:0.0%\n",
      "\u001b[1;36m[libx264 @ 0x7fc3a720a840] \u001b[0mref P L0: 72.5%  3.5% 15.4%  8.6%\n",
      "\u001b[1;36m[libx264 @ 0x7fc3a720a840] \u001b[0mref B L0: 81.5% 15.6%  2.9%\n",
      "\u001b[1;36m[libx264 @ 0x7fc3a720a840] \u001b[0mref B L1: 96.3%  3.7%\n",
      "\u001b[1;36m[libx264 @ 0x7fc3a720a840] \u001b[0mkb/s:145.21\n"
     ]
    }
   ],
   "source": [
    "!ffmpeg -y -r 10 -f image2 -i /tmp/pf_tmpx_phi_100_%04d.png -vcodec libx264 -crf 25 -vf \"pad=ceil(iw/2)*2:ceil(ih/2)*2\" -pix_fmt yuv420p pf_illustration_100_phi.mp4    "
   ]
  },
  {
   "cell_type": "code",
   "execution_count": 16,
   "metadata": {},
   "outputs": [
    {
     "name": "stdout",
     "output_type": "stream",
     "text": [
      "pf_illustration.mp4          pf_illustrationx.mp4\n",
      "pf_illustration_100_phi.mp4\n"
     ]
    }
   ],
   "source": [
    "ls *.mp4"
   ]
  },
  {
   "cell_type": "code",
   "execution_count": 17,
   "metadata": {},
   "outputs": [],
   "source": [
    "!open pf_illustration_100_phi.mp4"
   ]
  },
  {
   "cell_type": "code",
   "execution_count": 18,
   "metadata": {},
   "outputs": [
    {
     "name": "stdout",
     "output_type": "stream",
     "text": [
      "cp: Drive/lectures/2023-Lecture-대학원 is not a directory\n"
     ]
    }
   ],
   "source": [
    "!cp -v pf_illustration_100_phi.mp4 /Users/youngung/Library/CloudStorage/GoogleDrive-yjeong@gs.cwnu.ac.kr/My Drive/lectures/2023-Lecture-대학원/"
   ]
  },
  {
   "cell_type": "code",
   "execution_count": 19,
   "metadata": {},
   "outputs": [
    {
     "name": "stdout",
     "output_type": "stream",
     "text": [
      "cp: Drive/lectures/2023-Lecture-대학원 is not a directory\n"
     ]
    }
   ],
   "source": [
    "!cp -v pf_illustrationx.mp4 /Users/youngung/Library/CloudStorage/GoogleDrive-yjeong@gs.cwnu.ac.kr/My Drive/lectures/2023-Lecture-대학원/"
   ]
  },
  {
   "cell_type": "code",
   "execution_count": 20,
   "metadata": {},
   "outputs": [
    {
     "name": "stdout",
     "output_type": "stream",
     "text": [
      "cp: Drive/lectures/2023-Lecture-대학원 is not a directory\n"
     ]
    }
   ],
   "source": [
    "!cp -v pf_illustration.mp4 /Users/youngung/Library/CloudStorage/GoogleDrive-yjeong@gs.cwnu.ac.kr/My Drive/lectures/2023-Lecture-대학원/"
   ]
  }
 ],
 "metadata": {
  "colab": {
   "private_outputs": true,
   "provenance": []
  },
  "gpuClass": "standard",
  "kernelspec": {
   "display_name": "3.8.0",
   "language": "python",
   "name": "3.8.0"
  },
  "language_info": {
   "codemirror_mode": {
    "name": "ipython",
    "version": 3
   },
   "file_extension": ".py",
   "mimetype": "text/x-python",
   "name": "python",
   "nbconvert_exporter": "python",
   "pygments_lexer": "ipython3",
   "version": "3.8.0"
  },
  "widgets": {
   "application/vnd.jupyter.widget-state+json": {
    "state": {},
    "version_major": 2,
    "version_minor": 0
   }
  }
 },
 "nbformat": 4,
 "nbformat_minor": 4
}
