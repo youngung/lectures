{
 "cells": [
  {
   "cell_type": "code",
   "execution_count": 1,
   "id": "f5385840-ce97-4ad4-9263-cc0f7c0ab53e",
   "metadata": {},
   "outputs": [],
   "source": [
    "import numpy as np\n",
    "import plotly.graph_objs as go\n",
    "import plotly\n",
    "from TX import euler"
   ]
  },
  {
   "cell_type": "markdown",
   "id": "4e76c329-921d-4c58-8473-7385c99056a6",
   "metadata": {},
   "source": [
    "Euler angles:\n",
    "$$  (\\phi_1,\\Phi,\\phi_2) $$\n",
    "\n",
    "$\\phi_1$ rotates with respect to Z axis.\n",
    "\n"
   ]
  },
  {
   "cell_type": "markdown",
   "id": "4f531e55-933b-43f7-b1c7-59b2fd0d4ed6",
   "metadata": {},
   "source": [
    "$a_{ij}=\\mathbf{e}^\\prime_{i}\\cdot\\mathbf{e}_{j}$"
   ]
  },
  {
   "cell_type": "markdown",
   "id": "be76b76c-575a-45d7-892c-331785f52ca1",
   "metadata": {},
   "source": [
    "$$g^{(1)}=\\begin{bmatrix} \\cos\\phi_1 & \\cos(90^\\circ-\\phi_1) & 0 \\\\ \\cos(90^\\circ+\\phi_1) & \\cos\\phi_1 & 0 \\\\ 0 & 0 & 1 \\end{bmatrix}$$"
   ]
  },
  {
   "cell_type": "markdown",
   "id": "92c80ee7-4b71-4b51-8fb5-27878ca18f8a",
   "metadata": {},
   "source": [
    "$$g^{(2)}=\\begin{bmatrix} 1 & 0 & 0 \\\\ 0 & \\cos\\Phi & \\cos(90^\\circ-\\Phi) \\\\ 0 & \\cos(90^\\circ+\\Phi) & \\cos\\Phi \\end{bmatrix}$$"
   ]
  },
  {
   "cell_type": "markdown",
   "id": "1635d402-6236-4050-84bd-9d39bf0a0249",
   "metadata": {},
   "source": [
    "$$g^{(3)}=\\begin{bmatrix} \\cos\\phi_2 & \\cos(90^\\circ-\\phi_2) & 0 \\\\ \\cos(90^\\circ+\\phi_2) & \\cos\\phi_2 & 0 \\\\ 0 & 0 & 1 \\end{bmatrix}$$"
   ]
  },
  {
   "cell_type": "markdown",
   "id": "ca1abaff-35a4-472b-be44-d796674c61bd",
   "metadata": {},
   "source": [
    "$$g^{SA\\gets CA}=g^{(3)}\\cdot g^{(2)}\\cdot g^{(1)}$$\n",
    "\n",
    "인덱스 노테이션으로 표현하면 위는 아래와 같이 쓰인다.\n",
    "\n",
    "$$g^{SA\\gets CA}_{ij}=g^{(3)}_{ik} g^{(2)}_{kl} g^{(1)}_{lj}$$"
   ]
  },
  {
   "cell_type": "markdown",
   "id": "18b1c111-960f-482b-bdb1-8acb7f0d2a11",
   "metadata": {},
   "source": [
    "보통, Euler angle을 활용해서 나타내는 방위 관계를 통해서 얻고자 하는 중요한 일은 '결정좌표계'에 나타난 물리량을 '시편좌표계'로 표현하는 것이다. 여러 단결정으로 이루어진 다결정의 '평균적'인 성질은, 각 단결정의 성질을 시편좌표계로 나타냈을 때의 평균값을 찾는 것이 목적이다. 따라서, ..."
   ]
  },
  {
   "cell_type": "code",
   "execution_count": 2,
   "id": "5dc66650-2aa0-468f-b20c-e153fbdcaed1",
   "metadata": {},
   "outputs": [],
   "source": [
    "def calc_g(phi1,Phi,phi2):\n",
    "    \"\"\"\n",
    "    Arguments\n",
    "    ---------\n",
    "    phi1, Phi, phi2\n",
    "    \"\"\"\n",
    "    cos=np.cos\n",
    "    ## degree to radian\n",
    "    d90 =np.deg2rad(90.)    \n",
    "    phi1=np.deg2rad(phi1)\n",
    "    Phi =np.deg2rad(Phi)\n",
    "    phi2=np.deg2rad(phi2)\n",
    "    \n",
    "    g1=np.identity(3)\n",
    "    g2=np.identity(3)\n",
    "    g3=np.identity(3)\n",
    "    g =np.zeros((3,3))\n",
    "    \n",
    "    g1[0,0]=cos(phi1)\n",
    "    g1[0,1]=cos(d90-phi1)\n",
    "    g1[1,0]=cos(d90+phi1)\n",
    "    g1[1,1]=cos(phi1)\n",
    "    \n",
    "    g2[1,1]=cos(Phi)\n",
    "    g2[1,2]=cos(d90-Phi)\n",
    "    g2[2,1]=cos(d90+Phi)\n",
    "    g2[2,2]=cos(Phi)    \n",
    "    \n",
    "    g3[0,0]=cos(phi2)\n",
    "    g3[0,1]=cos(d90-phi2)\n",
    "    g3[1,0]=cos(d90+phi2)\n",
    "    g3[1,1]=cos(phi2)\n",
    "    \n",
    "\n",
    "    for i in range(3):\n",
    "        for j in range(3):\n",
    "            for k in range(3):\n",
    "                for l in range(3):\n",
    "                    g[i,j]=g[i,j]+g3[i,k]*g2[k,l]*g1[l,j]\n",
    "    return g1,g2,g3,g"
   ]
  },
  {
   "cell_type": "code",
   "execution_count": 3,
   "id": "70bfcd61-8eef-488f-a093-d372adf895ad",
   "metadata": {},
   "outputs": [
    {
     "name": "stdout",
     "output_type": "stream",
     "text": [
      "[[ 8.66025404e-01 -5.00000000e-01  3.93593894e-17]\n",
      " [ 3.83022222e-01  6.63413948e-01  6.42787610e-01]\n",
      " [-3.21393805e-01 -5.56670399e-01  7.66044443e-01]]\n"
     ]
    }
   ],
   "source": [
    "phi1,phi,phi2=-30,40,0\n",
    "g1,g2,g3,g=calc_g(phi1,phi,phi2)\n",
    "print(g)\n",
    "#g=euler.euler(phi1,phi,phi2,echo=False)\n",
    "#print(g)"
   ]
  },
  {
   "cell_type": "code",
   "execution_count": 8,
   "id": "fa8674f0-a981-4bc0-b725-b797a9a8ba01",
   "metadata": {},
   "outputs": [],
   "source": [
    "## unit cell\n",
    "def draw_unit(fig,m2v,cdim):\n",
    "    xys=np.array([[0,0,0],[0,1,0],[1,1,0],[1,0,0],[0,0,1],[0,1,1],[1,1,1],[1,0,1]],dtype='float')\n",
    "    for i in range(3):\n",
    "        xys[:,i]=xys[:,i]*cdim[i]\n",
    "    orig=np.array(cdim)/2.#np.array([cdim[0]/2,0.5,0.5]) ## center of unit cell\n",
    "    xys=xys-orig\n",
    "\n",
    "    xys_init=xys.copy()\n",
    "    for i in range(len(xys)):\n",
    "        v=xys[i,:]\n",
    "        newv=np.dot(v,m2v)\n",
    "        xys[i,:]=newv\n",
    "\n",
    "    xys     =xys.T\n",
    "    xys_init=xys_init.T\n",
    "    xys_all=[xys,xys_init]\n",
    "\n",
    "    #the start and end point for each line\n",
    "    pairs = [[0,1],[1,2],[2,3],[3,0],[4,5],[5,6],[6,7],[7,4],[0,4],[1,5],[2,6],[3,7]]\n",
    "    xys_lines=[\n",
    "        [[],[],[]], # initial_unit_cell\n",
    "        [[],[],[]],  # rotated_unit_cell\n",
    "    ]\n",
    "\n",
    "    labels=['initial unit cell','rotated unit cell']\n",
    "    cs=['black','green']\n",
    "    modes=['line','line']\n",
    "\n",
    "    #create the coordinate list for the lines\n",
    "    for p in pairs:\n",
    "        iline=0\n",
    "        for k in range(2): ## two lines\n",
    "            for i in range(2): ## start and ends\n",
    "                for j in range(3): ## xys coordinates\n",
    "                    xys_lines[iline][j].append(xys_all[iline][j][p[i]])\n",
    "            ## breaks\n",
    "            for j in range(3):\n",
    "                xys_lines[iline][j].append(None)\n",
    "            iline=iline+1\n",
    "\n",
    "\n",
    "    #fig = go.Figure()\n",
    "    for i in range(len(xys_lines)):\n",
    "        x,y,z=xys_lines[i]\n",
    "        trace=go.Scatter3d(x=x,y=y,z=z,mode='lines',\n",
    "                           name=labels[i],line={'color':cs[i]})\n",
    "        fig.add_trace(trace)"
   ]
  },
  {
   "cell_type": "code",
   "execution_count": 9,
   "id": "3d4f069b-5078-48f0-aaca-bd96ab081814",
   "metadata": {},
   "outputs": [
    {
     "data": {
      "application/vnd.plotly.v1+json": {
       "config": {
        "plotlyServerURL": "https://plot.ly"
       },
       "data": [
        {
         "line": {
          "color": "black"
         },
         "mode": "lines",
         "name": "initial unit cell",
         "type": "scatter3d",
         "x": [
          -0.2801153664730437,
          -0.17302433931722977,
          null,
          -0.17302433931722977,
          -0.09708788689470084,
          null,
          -0.09708788689470084,
          -0.20417891405051475,
          null,
          -0.20417891405051475,
          -0.2801153664730437,
          null,
          0.09708788689470084,
          0.20417891405051475,
          null,
          0.20417891405051475,
          0.2801153664730437,
          null,
          0.2801153664730437,
          0.17302433931722977,
          null,
          0.17302433931722977,
          0.09708788689470084,
          null,
          -0.2801153664730437,
          0.09708788689470084,
          null,
          -0.17302433931722977,
          0.20417891405051475,
          null,
          -0.09708788689470084,
          0.2801153664730437,
          null,
          -0.20417891405051475,
          0.17302433931722977,
          null
         ],
         "y": [
          0.011297357060244075,
          0.09963966560636914,
          null,
          0.09963966560636914,
          -0.07780846783998863,
          null,
          -0.07780846783998863,
          -0.16615077638611367,
          null,
          -0.16615077638611367,
          0.011297357060244075,
          null,
          0.07780846783998863,
          0.16615077638611367,
          null,
          0.16615077638611367,
          -0.011297357060244075,
          null,
          -0.011297357060244075,
          -0.09963966560636914,
          null,
          -0.09963966560636914,
          0.07780846783998863,
          null,
          0.011297357060244075,
          0.07780846783998863,
          null,
          0.09963966560636914,
          0.16615077638611367,
          null,
          -0.07780846783998863,
          -0.011297357060244075,
          null,
          -0.16615077638611367,
          -0.09963966560636914,
          null
         ],
         "z": [
          -0.06251200835940093,
          -0.20648127043799175,
          null,
          -0.20648127043799175,
          -0.2588817964838688,
          null,
          -0.2588817964838688,
          -0.11491253440527793,
          null,
          -0.11491253440527793,
          -0.06251200835940093,
          null,
          0.2588817964838688,
          0.11491253440527793,
          null,
          0.11491253440527793,
          0.06251200835940093,
          null,
          0.06251200835940093,
          0.20648127043799175,
          null,
          0.20648127043799175,
          0.2588817964838688,
          null,
          -0.06251200835940093,
          0.2588817964838688,
          null,
          -0.20648127043799175,
          0.11491253440527793,
          null,
          -0.2588817964838688,
          0.06251200835940093,
          null,
          -0.11491253440527793,
          0.20648127043799175,
          null
         ]
        },
        {
         "line": {
          "color": "green"
         },
         "mode": "lines",
         "name": "rotated unit cell",
         "type": "scatter3d",
         "x": [
          -0.1,
          -0.1,
          null,
          -0.1,
          0.1,
          null,
          0.1,
          0.1,
          null,
          0.1,
          -0.1,
          null,
          -0.1,
          -0.1,
          null,
          -0.1,
          0.1,
          null,
          0.1,
          0.1,
          null,
          0.1,
          -0.1,
          null,
          -0.1,
          -0.1,
          null,
          -0.1,
          -0.1,
          null,
          0.1,
          0.1,
          null,
          0.1,
          0.1,
          null
         ],
         "y": [
          -0.1,
          0.1,
          null,
          0.1,
          0.1,
          null,
          0.1,
          -0.1,
          null,
          -0.1,
          -0.1,
          null,
          -0.1,
          0.1,
          null,
          0.1,
          0.1,
          null,
          0.1,
          -0.1,
          null,
          -0.1,
          -0.1,
          null,
          -0.1,
          -0.1,
          null,
          0.1,
          0.1,
          null,
          0.1,
          0.1,
          null,
          -0.1,
          -0.1,
          null
         ],
         "z": [
          -0.25,
          -0.25,
          null,
          -0.25,
          -0.25,
          null,
          -0.25,
          -0.25,
          null,
          -0.25,
          -0.25,
          null,
          0.25,
          0.25,
          null,
          0.25,
          0.25,
          null,
          0.25,
          0.25,
          null,
          0.25,
          0.25,
          null,
          -0.25,
          0.25,
          null,
          -0.25,
          0.25,
          null,
          -0.25,
          0.25,
          null,
          -0.25,
          0.25,
          null
         ]
        }
       ],
       "layout": {
        "autosize": true,
        "scene": {
         "aspectmode": "auto",
         "aspectratio": {
          "x": 1.2218652858875279,
          "y": 0.7247509069053164,
          "z": 1.129244297642912
         }
        },
        "template": {
         "data": {
          "bar": [
           {
            "error_x": {
             "color": "#2a3f5f"
            },
            "error_y": {
             "color": "#2a3f5f"
            },
            "marker": {
             "line": {
              "color": "#E5ECF6",
              "width": 0.5
             },
             "pattern": {
              "fillmode": "overlay",
              "size": 10,
              "solidity": 0.2
             }
            },
            "type": "bar"
           }
          ],
          "barpolar": [
           {
            "marker": {
             "line": {
              "color": "#E5ECF6",
              "width": 0.5
             },
             "pattern": {
              "fillmode": "overlay",
              "size": 10,
              "solidity": 0.2
             }
            },
            "type": "barpolar"
           }
          ],
          "carpet": [
           {
            "aaxis": {
             "endlinecolor": "#2a3f5f",
             "gridcolor": "white",
             "linecolor": "white",
             "minorgridcolor": "white",
             "startlinecolor": "#2a3f5f"
            },
            "baxis": {
             "endlinecolor": "#2a3f5f",
             "gridcolor": "white",
             "linecolor": "white",
             "minorgridcolor": "white",
             "startlinecolor": "#2a3f5f"
            },
            "type": "carpet"
           }
          ],
          "choropleth": [
           {
            "colorbar": {
             "outlinewidth": 0,
             "ticks": ""
            },
            "type": "choropleth"
           }
          ],
          "contour": [
           {
            "colorbar": {
             "outlinewidth": 0,
             "ticks": ""
            },
            "colorscale": [
             [
              0,
              "#0d0887"
             ],
             [
              0.1111111111111111,
              "#46039f"
             ],
             [
              0.2222222222222222,
              "#7201a8"
             ],
             [
              0.3333333333333333,
              "#9c179e"
             ],
             [
              0.4444444444444444,
              "#bd3786"
             ],
             [
              0.5555555555555556,
              "#d8576b"
             ],
             [
              0.6666666666666666,
              "#ed7953"
             ],
             [
              0.7777777777777778,
              "#fb9f3a"
             ],
             [
              0.8888888888888888,
              "#fdca26"
             ],
             [
              1,
              "#f0f921"
             ]
            ],
            "type": "contour"
           }
          ],
          "contourcarpet": [
           {
            "colorbar": {
             "outlinewidth": 0,
             "ticks": ""
            },
            "type": "contourcarpet"
           }
          ],
          "heatmap": [
           {
            "colorbar": {
             "outlinewidth": 0,
             "ticks": ""
            },
            "colorscale": [
             [
              0,
              "#0d0887"
             ],
             [
              0.1111111111111111,
              "#46039f"
             ],
             [
              0.2222222222222222,
              "#7201a8"
             ],
             [
              0.3333333333333333,
              "#9c179e"
             ],
             [
              0.4444444444444444,
              "#bd3786"
             ],
             [
              0.5555555555555556,
              "#d8576b"
             ],
             [
              0.6666666666666666,
              "#ed7953"
             ],
             [
              0.7777777777777778,
              "#fb9f3a"
             ],
             [
              0.8888888888888888,
              "#fdca26"
             ],
             [
              1,
              "#f0f921"
             ]
            ],
            "type": "heatmap"
           }
          ],
          "heatmapgl": [
           {
            "colorbar": {
             "outlinewidth": 0,
             "ticks": ""
            },
            "colorscale": [
             [
              0,
              "#0d0887"
             ],
             [
              0.1111111111111111,
              "#46039f"
             ],
             [
              0.2222222222222222,
              "#7201a8"
             ],
             [
              0.3333333333333333,
              "#9c179e"
             ],
             [
              0.4444444444444444,
              "#bd3786"
             ],
             [
              0.5555555555555556,
              "#d8576b"
             ],
             [
              0.6666666666666666,
              "#ed7953"
             ],
             [
              0.7777777777777778,
              "#fb9f3a"
             ],
             [
              0.8888888888888888,
              "#fdca26"
             ],
             [
              1,
              "#f0f921"
             ]
            ],
            "type": "heatmapgl"
           }
          ],
          "histogram": [
           {
            "marker": {
             "pattern": {
              "fillmode": "overlay",
              "size": 10,
              "solidity": 0.2
             }
            },
            "type": "histogram"
           }
          ],
          "histogram2d": [
           {
            "colorbar": {
             "outlinewidth": 0,
             "ticks": ""
            },
            "colorscale": [
             [
              0,
              "#0d0887"
             ],
             [
              0.1111111111111111,
              "#46039f"
             ],
             [
              0.2222222222222222,
              "#7201a8"
             ],
             [
              0.3333333333333333,
              "#9c179e"
             ],
             [
              0.4444444444444444,
              "#bd3786"
             ],
             [
              0.5555555555555556,
              "#d8576b"
             ],
             [
              0.6666666666666666,
              "#ed7953"
             ],
             [
              0.7777777777777778,
              "#fb9f3a"
             ],
             [
              0.8888888888888888,
              "#fdca26"
             ],
             [
              1,
              "#f0f921"
             ]
            ],
            "type": "histogram2d"
           }
          ],
          "histogram2dcontour": [
           {
            "colorbar": {
             "outlinewidth": 0,
             "ticks": ""
            },
            "colorscale": [
             [
              0,
              "#0d0887"
             ],
             [
              0.1111111111111111,
              "#46039f"
             ],
             [
              0.2222222222222222,
              "#7201a8"
             ],
             [
              0.3333333333333333,
              "#9c179e"
             ],
             [
              0.4444444444444444,
              "#bd3786"
             ],
             [
              0.5555555555555556,
              "#d8576b"
             ],
             [
              0.6666666666666666,
              "#ed7953"
             ],
             [
              0.7777777777777778,
              "#fb9f3a"
             ],
             [
              0.8888888888888888,
              "#fdca26"
             ],
             [
              1,
              "#f0f921"
             ]
            ],
            "type": "histogram2dcontour"
           }
          ],
          "mesh3d": [
           {
            "colorbar": {
             "outlinewidth": 0,
             "ticks": ""
            },
            "type": "mesh3d"
           }
          ],
          "parcoords": [
           {
            "line": {
             "colorbar": {
              "outlinewidth": 0,
              "ticks": ""
             }
            },
            "type": "parcoords"
           }
          ],
          "pie": [
           {
            "automargin": true,
            "type": "pie"
           }
          ],
          "scatter": [
           {
            "marker": {
             "colorbar": {
              "outlinewidth": 0,
              "ticks": ""
             }
            },
            "type": "scatter"
           }
          ],
          "scatter3d": [
           {
            "line": {
             "colorbar": {
              "outlinewidth": 0,
              "ticks": ""
             }
            },
            "marker": {
             "colorbar": {
              "outlinewidth": 0,
              "ticks": ""
             }
            },
            "type": "scatter3d"
           }
          ],
          "scattercarpet": [
           {
            "marker": {
             "colorbar": {
              "outlinewidth": 0,
              "ticks": ""
             }
            },
            "type": "scattercarpet"
           }
          ],
          "scattergeo": [
           {
            "marker": {
             "colorbar": {
              "outlinewidth": 0,
              "ticks": ""
             }
            },
            "type": "scattergeo"
           }
          ],
          "scattergl": [
           {
            "marker": {
             "colorbar": {
              "outlinewidth": 0,
              "ticks": ""
             }
            },
            "type": "scattergl"
           }
          ],
          "scattermapbox": [
           {
            "marker": {
             "colorbar": {
              "outlinewidth": 0,
              "ticks": ""
             }
            },
            "type": "scattermapbox"
           }
          ],
          "scatterpolar": [
           {
            "marker": {
             "colorbar": {
              "outlinewidth": 0,
              "ticks": ""
             }
            },
            "type": "scatterpolar"
           }
          ],
          "scatterpolargl": [
           {
            "marker": {
             "colorbar": {
              "outlinewidth": 0,
              "ticks": ""
             }
            },
            "type": "scatterpolargl"
           }
          ],
          "scatterternary": [
           {
            "marker": {
             "colorbar": {
              "outlinewidth": 0,
              "ticks": ""
             }
            },
            "type": "scatterternary"
           }
          ],
          "surface": [
           {
            "colorbar": {
             "outlinewidth": 0,
             "ticks": ""
            },
            "colorscale": [
             [
              0,
              "#0d0887"
             ],
             [
              0.1111111111111111,
              "#46039f"
             ],
             [
              0.2222222222222222,
              "#7201a8"
             ],
             [
              0.3333333333333333,
              "#9c179e"
             ],
             [
              0.4444444444444444,
              "#bd3786"
             ],
             [
              0.5555555555555556,
              "#d8576b"
             ],
             [
              0.6666666666666666,
              "#ed7953"
             ],
             [
              0.7777777777777778,
              "#fb9f3a"
             ],
             [
              0.8888888888888888,
              "#fdca26"
             ],
             [
              1,
              "#f0f921"
             ]
            ],
            "type": "surface"
           }
          ],
          "table": [
           {
            "cells": {
             "fill": {
              "color": "#EBF0F8"
             },
             "line": {
              "color": "white"
             }
            },
            "header": {
             "fill": {
              "color": "#C8D4E3"
             },
             "line": {
              "color": "white"
             }
            },
            "type": "table"
           }
          ]
         },
         "layout": {
          "annotationdefaults": {
           "arrowcolor": "#2a3f5f",
           "arrowhead": 0,
           "arrowwidth": 1
          },
          "autotypenumbers": "strict",
          "coloraxis": {
           "colorbar": {
            "outlinewidth": 0,
            "ticks": ""
           }
          },
          "colorscale": {
           "diverging": [
            [
             0,
             "#8e0152"
            ],
            [
             0.1,
             "#c51b7d"
            ],
            [
             0.2,
             "#de77ae"
            ],
            [
             0.3,
             "#f1b6da"
            ],
            [
             0.4,
             "#fde0ef"
            ],
            [
             0.5,
             "#f7f7f7"
            ],
            [
             0.6,
             "#e6f5d0"
            ],
            [
             0.7,
             "#b8e186"
            ],
            [
             0.8,
             "#7fbc41"
            ],
            [
             0.9,
             "#4d9221"
            ],
            [
             1,
             "#276419"
            ]
           ],
           "sequential": [
            [
             0,
             "#0d0887"
            ],
            [
             0.1111111111111111,
             "#46039f"
            ],
            [
             0.2222222222222222,
             "#7201a8"
            ],
            [
             0.3333333333333333,
             "#9c179e"
            ],
            [
             0.4444444444444444,
             "#bd3786"
            ],
            [
             0.5555555555555556,
             "#d8576b"
            ],
            [
             0.6666666666666666,
             "#ed7953"
            ],
            [
             0.7777777777777778,
             "#fb9f3a"
            ],
            [
             0.8888888888888888,
             "#fdca26"
            ],
            [
             1,
             "#f0f921"
            ]
           ],
           "sequentialminus": [
            [
             0,
             "#0d0887"
            ],
            [
             0.1111111111111111,
             "#46039f"
            ],
            [
             0.2222222222222222,
             "#7201a8"
            ],
            [
             0.3333333333333333,
             "#9c179e"
            ],
            [
             0.4444444444444444,
             "#bd3786"
            ],
            [
             0.5555555555555556,
             "#d8576b"
            ],
            [
             0.6666666666666666,
             "#ed7953"
            ],
            [
             0.7777777777777778,
             "#fb9f3a"
            ],
            [
             0.8888888888888888,
             "#fdca26"
            ],
            [
             1,
             "#f0f921"
            ]
           ]
          },
          "colorway": [
           "#636efa",
           "#EF553B",
           "#00cc96",
           "#ab63fa",
           "#FFA15A",
           "#19d3f3",
           "#FF6692",
           "#B6E880",
           "#FF97FF",
           "#FECB52"
          ],
          "font": {
           "color": "#2a3f5f"
          },
          "geo": {
           "bgcolor": "white",
           "lakecolor": "white",
           "landcolor": "#E5ECF6",
           "showlakes": true,
           "showland": true,
           "subunitcolor": "white"
          },
          "hoverlabel": {
           "align": "left"
          },
          "hovermode": "closest",
          "mapbox": {
           "style": "light"
          },
          "paper_bgcolor": "white",
          "plot_bgcolor": "#E5ECF6",
          "polar": {
           "angularaxis": {
            "gridcolor": "white",
            "linecolor": "white",
            "ticks": ""
           },
           "bgcolor": "#E5ECF6",
           "radialaxis": {
            "gridcolor": "white",
            "linecolor": "white",
            "ticks": ""
           }
          },
          "scene": {
           "xaxis": {
            "backgroundcolor": "#E5ECF6",
            "gridcolor": "white",
            "gridwidth": 2,
            "linecolor": "white",
            "showbackground": true,
            "ticks": "",
            "zerolinecolor": "white"
           },
           "yaxis": {
            "backgroundcolor": "#E5ECF6",
            "gridcolor": "white",
            "gridwidth": 2,
            "linecolor": "white",
            "showbackground": true,
            "ticks": "",
            "zerolinecolor": "white"
           },
           "zaxis": {
            "backgroundcolor": "#E5ECF6",
            "gridcolor": "white",
            "gridwidth": 2,
            "linecolor": "white",
            "showbackground": true,
            "ticks": "",
            "zerolinecolor": "white"
           }
          },
          "shapedefaults": {
           "line": {
            "color": "#2a3f5f"
           }
          },
          "ternary": {
           "aaxis": {
            "gridcolor": "white",
            "linecolor": "white",
            "ticks": ""
           },
           "baxis": {
            "gridcolor": "white",
            "linecolor": "white",
            "ticks": ""
           },
           "bgcolor": "#E5ECF6",
           "caxis": {
            "gridcolor": "white",
            "linecolor": "white",
            "ticks": ""
           }
          },
          "title": {
           "x": 0.05
          },
          "xaxis": {
           "automargin": true,
           "gridcolor": "white",
           "linecolor": "white",
           "ticks": "",
           "title": {
            "standoff": 15
           },
           "zerolinecolor": "white",
           "zerolinewidth": 2
          },
          "yaxis": {
           "automargin": true,
           "gridcolor": "white",
           "linecolor": "white",
           "ticks": "",
           "title": {
            "standoff": 15
           },
           "zerolinecolor": "white",
           "zerolinewidth": 2
          }
         }
        }
       }
      },
      "text/html": [
       "<div>                            <div id=\"08fa5f88-0245-4849-a1f1-5fbbfeb88967\" class=\"plotly-graph-div\" style=\"height:525px; width:100%;\"></div>            <script type=\"text/javascript\">                require([\"plotly\"], function(Plotly) {                    window.PLOTLYENV=window.PLOTLYENV || {};                                    if (document.getElementById(\"08fa5f88-0245-4849-a1f1-5fbbfeb88967\")) {                    Plotly.newPlot(                        \"08fa5f88-0245-4849-a1f1-5fbbfeb88967\",                        [{\"line\":{\"color\":\"black\"},\"mode\":\"lines\",\"name\":\"initial unit cell\",\"x\":[-0.2801153664730437,-0.17302433931722977,null,-0.17302433931722977,-0.09708788689470084,null,-0.09708788689470084,-0.20417891405051475,null,-0.20417891405051475,-0.2801153664730437,null,0.09708788689470084,0.20417891405051475,null,0.20417891405051475,0.2801153664730437,null,0.2801153664730437,0.17302433931722977,null,0.17302433931722977,0.09708788689470084,null,-0.2801153664730437,0.09708788689470084,null,-0.17302433931722977,0.20417891405051475,null,-0.09708788689470084,0.2801153664730437,null,-0.20417891405051475,0.17302433931722977,null],\"y\":[0.011297357060244075,0.09963966560636914,null,0.09963966560636914,-0.07780846783998863,null,-0.07780846783998863,-0.16615077638611367,null,-0.16615077638611367,0.011297357060244075,null,0.07780846783998863,0.16615077638611367,null,0.16615077638611367,-0.011297357060244075,null,-0.011297357060244075,-0.09963966560636914,null,-0.09963966560636914,0.07780846783998863,null,0.011297357060244075,0.07780846783998863,null,0.09963966560636914,0.16615077638611367,null,-0.07780846783998863,-0.011297357060244075,null,-0.16615077638611367,-0.09963966560636914,null],\"z\":[-0.06251200835940093,-0.20648127043799175,null,-0.20648127043799175,-0.2588817964838688,null,-0.2588817964838688,-0.11491253440527793,null,-0.11491253440527793,-0.06251200835940093,null,0.2588817964838688,0.11491253440527793,null,0.11491253440527793,0.06251200835940093,null,0.06251200835940093,0.20648127043799175,null,0.20648127043799175,0.2588817964838688,null,-0.06251200835940093,0.2588817964838688,null,-0.20648127043799175,0.11491253440527793,null,-0.2588817964838688,0.06251200835940093,null,-0.11491253440527793,0.20648127043799175,null],\"type\":\"scatter3d\"},{\"line\":{\"color\":\"green\"},\"mode\":\"lines\",\"name\":\"rotated unit cell\",\"x\":[-0.1,-0.1,null,-0.1,0.1,null,0.1,0.1,null,0.1,-0.1,null,-0.1,-0.1,null,-0.1,0.1,null,0.1,0.1,null,0.1,-0.1,null,-0.1,-0.1,null,-0.1,-0.1,null,0.1,0.1,null,0.1,0.1,null],\"y\":[-0.1,0.1,null,0.1,0.1,null,0.1,-0.1,null,-0.1,-0.1,null,-0.1,0.1,null,0.1,0.1,null,0.1,-0.1,null,-0.1,-0.1,null,-0.1,-0.1,null,0.1,0.1,null,0.1,0.1,null,-0.1,-0.1,null],\"z\":[-0.25,-0.25,null,-0.25,-0.25,null,-0.25,-0.25,null,-0.25,-0.25,null,0.25,0.25,null,0.25,0.25,null,0.25,0.25,null,0.25,0.25,null,-0.25,0.25,null,-0.25,0.25,null,-0.25,0.25,null,-0.25,0.25,null],\"type\":\"scatter3d\"}],                        {\"template\":{\"data\":{\"bar\":[{\"error_x\":{\"color\":\"#2a3f5f\"},\"error_y\":{\"color\":\"#2a3f5f\"},\"marker\":{\"line\":{\"color\":\"#E5ECF6\",\"width\":0.5},\"pattern\":{\"fillmode\":\"overlay\",\"size\":10,\"solidity\":0.2}},\"type\":\"bar\"}],\"barpolar\":[{\"marker\":{\"line\":{\"color\":\"#E5ECF6\",\"width\":0.5},\"pattern\":{\"fillmode\":\"overlay\",\"size\":10,\"solidity\":0.2}},\"type\":\"barpolar\"}],\"carpet\":[{\"aaxis\":{\"endlinecolor\":\"#2a3f5f\",\"gridcolor\":\"white\",\"linecolor\":\"white\",\"minorgridcolor\":\"white\",\"startlinecolor\":\"#2a3f5f\"},\"baxis\":{\"endlinecolor\":\"#2a3f5f\",\"gridcolor\":\"white\",\"linecolor\":\"white\",\"minorgridcolor\":\"white\",\"startlinecolor\":\"#2a3f5f\"},\"type\":\"carpet\"}],\"choropleth\":[{\"colorbar\":{\"outlinewidth\":0,\"ticks\":\"\"},\"type\":\"choropleth\"}],\"contour\":[{\"colorbar\":{\"outlinewidth\":0,\"ticks\":\"\"},\"colorscale\":[[0.0,\"#0d0887\"],[0.1111111111111111,\"#46039f\"],[0.2222222222222222,\"#7201a8\"],[0.3333333333333333,\"#9c179e\"],[0.4444444444444444,\"#bd3786\"],[0.5555555555555556,\"#d8576b\"],[0.6666666666666666,\"#ed7953\"],[0.7777777777777778,\"#fb9f3a\"],[0.8888888888888888,\"#fdca26\"],[1.0,\"#f0f921\"]],\"type\":\"contour\"}],\"contourcarpet\":[{\"colorbar\":{\"outlinewidth\":0,\"ticks\":\"\"},\"type\":\"contourcarpet\"}],\"heatmap\":[{\"colorbar\":{\"outlinewidth\":0,\"ticks\":\"\"},\"colorscale\":[[0.0,\"#0d0887\"],[0.1111111111111111,\"#46039f\"],[0.2222222222222222,\"#7201a8\"],[0.3333333333333333,\"#9c179e\"],[0.4444444444444444,\"#bd3786\"],[0.5555555555555556,\"#d8576b\"],[0.6666666666666666,\"#ed7953\"],[0.7777777777777778,\"#fb9f3a\"],[0.8888888888888888,\"#fdca26\"],[1.0,\"#f0f921\"]],\"type\":\"heatmap\"}],\"heatmapgl\":[{\"colorbar\":{\"outlinewidth\":0,\"ticks\":\"\"},\"colorscale\":[[0.0,\"#0d0887\"],[0.1111111111111111,\"#46039f\"],[0.2222222222222222,\"#7201a8\"],[0.3333333333333333,\"#9c179e\"],[0.4444444444444444,\"#bd3786\"],[0.5555555555555556,\"#d8576b\"],[0.6666666666666666,\"#ed7953\"],[0.7777777777777778,\"#fb9f3a\"],[0.8888888888888888,\"#fdca26\"],[1.0,\"#f0f921\"]],\"type\":\"heatmapgl\"}],\"histogram\":[{\"marker\":{\"pattern\":{\"fillmode\":\"overlay\",\"size\":10,\"solidity\":0.2}},\"type\":\"histogram\"}],\"histogram2d\":[{\"colorbar\":{\"outlinewidth\":0,\"ticks\":\"\"},\"colorscale\":[[0.0,\"#0d0887\"],[0.1111111111111111,\"#46039f\"],[0.2222222222222222,\"#7201a8\"],[0.3333333333333333,\"#9c179e\"],[0.4444444444444444,\"#bd3786\"],[0.5555555555555556,\"#d8576b\"],[0.6666666666666666,\"#ed7953\"],[0.7777777777777778,\"#fb9f3a\"],[0.8888888888888888,\"#fdca26\"],[1.0,\"#f0f921\"]],\"type\":\"histogram2d\"}],\"histogram2dcontour\":[{\"colorbar\":{\"outlinewidth\":0,\"ticks\":\"\"},\"colorscale\":[[0.0,\"#0d0887\"],[0.1111111111111111,\"#46039f\"],[0.2222222222222222,\"#7201a8\"],[0.3333333333333333,\"#9c179e\"],[0.4444444444444444,\"#bd3786\"],[0.5555555555555556,\"#d8576b\"],[0.6666666666666666,\"#ed7953\"],[0.7777777777777778,\"#fb9f3a\"],[0.8888888888888888,\"#fdca26\"],[1.0,\"#f0f921\"]],\"type\":\"histogram2dcontour\"}],\"mesh3d\":[{\"colorbar\":{\"outlinewidth\":0,\"ticks\":\"\"},\"type\":\"mesh3d\"}],\"parcoords\":[{\"line\":{\"colorbar\":{\"outlinewidth\":0,\"ticks\":\"\"}},\"type\":\"parcoords\"}],\"pie\":[{\"automargin\":true,\"type\":\"pie\"}],\"scatter\":[{\"marker\":{\"colorbar\":{\"outlinewidth\":0,\"ticks\":\"\"}},\"type\":\"scatter\"}],\"scatter3d\":[{\"line\":{\"colorbar\":{\"outlinewidth\":0,\"ticks\":\"\"}},\"marker\":{\"colorbar\":{\"outlinewidth\":0,\"ticks\":\"\"}},\"type\":\"scatter3d\"}],\"scattercarpet\":[{\"marker\":{\"colorbar\":{\"outlinewidth\":0,\"ticks\":\"\"}},\"type\":\"scattercarpet\"}],\"scattergeo\":[{\"marker\":{\"colorbar\":{\"outlinewidth\":0,\"ticks\":\"\"}},\"type\":\"scattergeo\"}],\"scattergl\":[{\"marker\":{\"colorbar\":{\"outlinewidth\":0,\"ticks\":\"\"}},\"type\":\"scattergl\"}],\"scattermapbox\":[{\"marker\":{\"colorbar\":{\"outlinewidth\":0,\"ticks\":\"\"}},\"type\":\"scattermapbox\"}],\"scatterpolar\":[{\"marker\":{\"colorbar\":{\"outlinewidth\":0,\"ticks\":\"\"}},\"type\":\"scatterpolar\"}],\"scatterpolargl\":[{\"marker\":{\"colorbar\":{\"outlinewidth\":0,\"ticks\":\"\"}},\"type\":\"scatterpolargl\"}],\"scatterternary\":[{\"marker\":{\"colorbar\":{\"outlinewidth\":0,\"ticks\":\"\"}},\"type\":\"scatterternary\"}],\"surface\":[{\"colorbar\":{\"outlinewidth\":0,\"ticks\":\"\"},\"colorscale\":[[0.0,\"#0d0887\"],[0.1111111111111111,\"#46039f\"],[0.2222222222222222,\"#7201a8\"],[0.3333333333333333,\"#9c179e\"],[0.4444444444444444,\"#bd3786\"],[0.5555555555555556,\"#d8576b\"],[0.6666666666666666,\"#ed7953\"],[0.7777777777777778,\"#fb9f3a\"],[0.8888888888888888,\"#fdca26\"],[1.0,\"#f0f921\"]],\"type\":\"surface\"}],\"table\":[{\"cells\":{\"fill\":{\"color\":\"#EBF0F8\"},\"line\":{\"color\":\"white\"}},\"header\":{\"fill\":{\"color\":\"#C8D4E3\"},\"line\":{\"color\":\"white\"}},\"type\":\"table\"}]},\"layout\":{\"annotationdefaults\":{\"arrowcolor\":\"#2a3f5f\",\"arrowhead\":0,\"arrowwidth\":1},\"autotypenumbers\":\"strict\",\"coloraxis\":{\"colorbar\":{\"outlinewidth\":0,\"ticks\":\"\"}},\"colorscale\":{\"diverging\":[[0,\"#8e0152\"],[0.1,\"#c51b7d\"],[0.2,\"#de77ae\"],[0.3,\"#f1b6da\"],[0.4,\"#fde0ef\"],[0.5,\"#f7f7f7\"],[0.6,\"#e6f5d0\"],[0.7,\"#b8e186\"],[0.8,\"#7fbc41\"],[0.9,\"#4d9221\"],[1,\"#276419\"]],\"sequential\":[[0.0,\"#0d0887\"],[0.1111111111111111,\"#46039f\"],[0.2222222222222222,\"#7201a8\"],[0.3333333333333333,\"#9c179e\"],[0.4444444444444444,\"#bd3786\"],[0.5555555555555556,\"#d8576b\"],[0.6666666666666666,\"#ed7953\"],[0.7777777777777778,\"#fb9f3a\"],[0.8888888888888888,\"#fdca26\"],[1.0,\"#f0f921\"]],\"sequentialminus\":[[0.0,\"#0d0887\"],[0.1111111111111111,\"#46039f\"],[0.2222222222222222,\"#7201a8\"],[0.3333333333333333,\"#9c179e\"],[0.4444444444444444,\"#bd3786\"],[0.5555555555555556,\"#d8576b\"],[0.6666666666666666,\"#ed7953\"],[0.7777777777777778,\"#fb9f3a\"],[0.8888888888888888,\"#fdca26\"],[1.0,\"#f0f921\"]]},\"colorway\":[\"#636efa\",\"#EF553B\",\"#00cc96\",\"#ab63fa\",\"#FFA15A\",\"#19d3f3\",\"#FF6692\",\"#B6E880\",\"#FF97FF\",\"#FECB52\"],\"font\":{\"color\":\"#2a3f5f\"},\"geo\":{\"bgcolor\":\"white\",\"lakecolor\":\"white\",\"landcolor\":\"#E5ECF6\",\"showlakes\":true,\"showland\":true,\"subunitcolor\":\"white\"},\"hoverlabel\":{\"align\":\"left\"},\"hovermode\":\"closest\",\"mapbox\":{\"style\":\"light\"},\"paper_bgcolor\":\"white\",\"plot_bgcolor\":\"#E5ECF6\",\"polar\":{\"angularaxis\":{\"gridcolor\":\"white\",\"linecolor\":\"white\",\"ticks\":\"\"},\"bgcolor\":\"#E5ECF6\",\"radialaxis\":{\"gridcolor\":\"white\",\"linecolor\":\"white\",\"ticks\":\"\"}},\"scene\":{\"xaxis\":{\"backgroundcolor\":\"#E5ECF6\",\"gridcolor\":\"white\",\"gridwidth\":2,\"linecolor\":\"white\",\"showbackground\":true,\"ticks\":\"\",\"zerolinecolor\":\"white\"},\"yaxis\":{\"backgroundcolor\":\"#E5ECF6\",\"gridcolor\":\"white\",\"gridwidth\":2,\"linecolor\":\"white\",\"showbackground\":true,\"ticks\":\"\",\"zerolinecolor\":\"white\"},\"zaxis\":{\"backgroundcolor\":\"#E5ECF6\",\"gridcolor\":\"white\",\"gridwidth\":2,\"linecolor\":\"white\",\"showbackground\":true,\"ticks\":\"\",\"zerolinecolor\":\"white\"}},\"shapedefaults\":{\"line\":{\"color\":\"#2a3f5f\"}},\"ternary\":{\"aaxis\":{\"gridcolor\":\"white\",\"linecolor\":\"white\",\"ticks\":\"\"},\"baxis\":{\"gridcolor\":\"white\",\"linecolor\":\"white\",\"ticks\":\"\"},\"bgcolor\":\"#E5ECF6\",\"caxis\":{\"gridcolor\":\"white\",\"linecolor\":\"white\",\"ticks\":\"\"}},\"title\":{\"x\":0.05},\"xaxis\":{\"automargin\":true,\"gridcolor\":\"white\",\"linecolor\":\"white\",\"ticks\":\"\",\"title\":{\"standoff\":15},\"zerolinecolor\":\"white\",\"zerolinewidth\":2},\"yaxis\":{\"automargin\":true,\"gridcolor\":\"white\",\"linecolor\":\"white\",\"ticks\":\"\",\"title\":{\"standoff\":15},\"zerolinecolor\":\"white\",\"zerolinewidth\":2}}}},                        {\"responsive\": true}                    ).then(function(){\n",
       "                            \n",
       "var gd = document.getElementById('08fa5f88-0245-4849-a1f1-5fbbfeb88967');\n",
       "var x = new MutationObserver(function (mutations, observer) {{\n",
       "        var display = window.getComputedStyle(gd).display;\n",
       "        if (!display || display === 'none') {{\n",
       "            console.log([gd, 'removed!']);\n",
       "            Plotly.purge(gd);\n",
       "            observer.disconnect();\n",
       "        }}\n",
       "}});\n",
       "\n",
       "// Listen for the removal of the full notebook cells\n",
       "var notebookContainer = gd.closest('#notebook-container');\n",
       "if (notebookContainer) {{\n",
       "    x.observe(notebookContainer, {childList: true});\n",
       "}}\n",
       "\n",
       "// Listen for the clearing of the current output cell\n",
       "var outputEl = gd.closest('.output');\n",
       "if (outputEl) {{\n",
       "    x.observe(outputEl, {childList: true});\n",
       "}}\n",
       "\n",
       "                        })                };                });            </script>        </div>"
      ]
     },
     "metadata": {},
     "output_type": "display_data"
    }
   ],
   "source": [
    "## create plotly figure\n",
    "\n",
    "fig=go.Figure()\n",
    "\n",
    "## Euler angles\n",
    "phi1=-20.\n",
    "phi = 50.\n",
    "phi2= 80.\n",
    "\n",
    "## dimension and angle of unit cell.\n",
    "cdim=[0.2,0.2,0.5]\n",
    "cang=[90,90,90]\n",
    "\n",
    "## Calculate orientation\n",
    "g1,g2,g3,g=calc_g(phi1,phi,phi2)\n",
    "m2v=g.T\n",
    "\n",
    "## draw unit cell\n",
    "draw_unit(fig,m2v=m2v,cdim=cdim)\n",
    "fig.show()"
   ]
  },
  {
   "cell_type": "code",
   "execution_count": null,
   "id": "f8b1c781-7c19-4eab-a612-a0c298771c58",
   "metadata": {},
   "outputs": [],
   "source": []
  }
 ],
 "metadata": {
  "kernelspec": {
   "display_name": "3.8.0",
   "language": "python",
   "name": "3.8.0"
  },
  "language_info": {
   "codemirror_mode": {
    "name": "ipython",
    "version": 3
   },
   "file_extension": ".py",
   "mimetype": "text/x-python",
   "name": "python",
   "nbconvert_exporter": "python",
   "pygments_lexer": "ipython3",
   "version": "3.8.0"
  },
  "widgets": {
   "application/vnd.jupyter.widget-state+json": {
    "state": {},
    "version_major": 2,
    "version_minor": 0
   }
  }
 },
 "nbformat": 4,
 "nbformat_minor": 5
}
