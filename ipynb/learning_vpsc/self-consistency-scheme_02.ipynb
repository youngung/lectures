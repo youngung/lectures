{
 "cells": [
  {
   "cell_type": "code",
   "execution_count": 1,
   "metadata": {},
   "outputs": [
    {
     "name": "stdout",
     "output_type": "stream",
     "text": [
      "Populating the interactive namespace from numpy and matplotlib\n"
     ]
    }
   ],
   "source": [
    "%pylab inline"
   ]
  },
  {
   "cell_type": "markdown",
   "metadata": {},
   "source": [
    "Suppose that we have a local constitutive law such that\n",
    "$$\n",
    "\\varepsilon^{el}=M^{el}:\\sigma\n",
    "$$\n",
    "for each individual grains."
   ]
  },
  {
   "cell_type": "markdown",
   "metadata": {},
   "source": [
    "Let's simplify the problem to 2 dimensional strain and stress space, where strain and stress tensors could be written in the form of 2x2 matrices"
   ]
  },
  {
   "cell_type": "code",
   "execution_count": 24,
   "metadata": {},
   "outputs": [],
   "source": [
    "inv=np.linalg.inv"
   ]
  },
  {
   "cell_type": "markdown",
   "metadata": {},
   "source": [
    "## Case 1"
   ]
  },
  {
   "cell_type": "code",
   "execution_count": 22,
   "metadata": {},
   "outputs": [],
   "source": [
    "ngr=3\n",
    "weights=np.zeros(ngr)\n",
    "weights[::]=1./ngr"
   ]
  },
  {
   "cell_type": "markdown",
   "metadata": {},
   "source": [
    "**\n",
    "An aggregate with three members with the same weights\n",
    "$\\bar{\\sigma}=10$ MPa, and the local moduli $C^{el}$ is 200 GPa"
   ]
  },
  {
   "cell_type": "code",
   "execution_count": 23,
   "metadata": {},
   "outputs": [],
   "source": [
    "sbar=10.\n",
    "m=200000"
   ]
  },
  {
   "cell_type": "markdown",
   "metadata": {},
   "source": [
    "** Weighted average of elastic moduli"
   ]
  },
  {
   "cell_type": "code",
   "execution_count": 5,
   "metadata": {},
   "outputs": [
    {
     "name": "stdout",
     "output_type": "stream",
     "text": [
      "mbar: 199999.99999999997\n"
     ]
    }
   ],
   "source": [
    "mbar=0.\n",
    "for i in range(ngr):\n",
    "    mbar=mbar+m*weights[i]\n",
    "print('mbar:',mbar)"
   ]
  },
  {
   "cell_type": "markdown",
   "metadata": {},
   "source": [
    "** Inverse of compliance"
   ]
  },
  {
   "cell_type": "code",
   "execution_count": 6,
   "metadata": {},
   "outputs": [
    {
     "name": "stdout",
     "output_type": "stream",
     "text": [
      "ebar: 5e-05\n"
     ]
    }
   ],
   "source": [
    "cbar=1./mbar\n",
    "ebar=cbar*sbar\n",
    "print('ebar:',ebar)"
   ]
  },
  {
   "cell_type": "markdown",
   "metadata": {},
   "source": [
    "## Case 2"
   ]
  },
  {
   "cell_type": "code",
   "execution_count": 7,
   "metadata": {},
   "outputs": [],
   "source": [
    "c=1./m"
   ]
  },
  {
   "cell_type": "code",
   "execution_count": 8,
   "metadata": {},
   "outputs": [
    {
     "name": "stdout",
     "output_type": "stream",
     "text": [
      "cbar: 4.9999999999999996e-06\n"
     ]
    }
   ],
   "source": [
    "cbar=0.\n",
    "for i in range(ngr):\n",
    "    cbar=cbar+c*weights[i]\n",
    "print('cbar:',cbar)"
   ]
  },
  {
   "cell_type": "code",
   "execution_count": 9,
   "metadata": {},
   "outputs": [
    {
     "name": "stdout",
     "output_type": "stream",
     "text": [
      "ebar: 4.9999999999999996e-05\n"
     ]
    }
   ],
   "source": [
    "print('ebar:',cbar*sbar)"
   ]
  },
  {
   "cell_type": "markdown",
   "metadata": {},
   "source": [
    "## Case 3"
   ]
  },
  {
   "cell_type": "code",
   "execution_count": 35,
   "metadata": {},
   "outputs": [],
   "source": [
    "sbar=np.zeros(2)\n",
    "sbar[0]=10*0.001\n",
    "sbar[1]=15.*0.001\n",
    "c=np.zeros((2,2,ngr))\n",
    "c[0,0,:]=200; c[1,1,:]=100."
   ]
  },
  {
   "cell_type": "markdown",
   "metadata": {},
   "source": [
    "### case 3-1 \n",
    "$\\bar{C}^{el}=\\langle C^{el}\\rangle$"
   ]
  },
  {
   "cell_type": "code",
   "execution_count": 36,
   "metadata": {},
   "outputs": [],
   "source": [
    "cbar=np.zeros((2,2))\n",
    "for i in range(2):\n",
    "    for j in range(2):\n",
    "        for g in range(ngr):            \n",
    "            cbar[i,j]=cbar[i,j]+c[i,j,g]*weights[g]    "
   ]
  },
  {
   "cell_type": "markdown",
   "metadata": {},
   "source": [
    "- now, from $\\bar{M}^{el}=(\\bar{C}^{el})^{-1}$"
   ]
  },
  {
   "cell_type": "code",
   "execution_count": 37,
   "metadata": {},
   "outputs": [
    {
     "name": "stdout",
     "output_type": "stream",
     "text": [
      "cbar: [[200.   0.]\n",
      " [  0. 100.]]\n",
      "mbar: [[0.005 0.   ]\n",
      " [0.    0.01 ]]\n"
     ]
    }
   ],
   "source": [
    "print('cbar:',cbar)\n",
    "print('mbar:',inv(cbar))"
   ]
  },
  {
   "cell_type": "markdown",
   "metadata": {},
   "source": [
    "- now, obtain the elastic strain $\\bar{\\varepsilon}^{el}$"
   ]
  },
  {
   "cell_type": "code",
   "execution_count": 42,
   "metadata": {},
   "outputs": [
    {
     "name": "stdout",
     "output_type": "stream",
     "text": [
      "sbar: [5.0e-05 1.5e-04]\n"
     ]
    }
   ],
   "source": [
    "print('sbar:',np.dot(mbar,sbar))"
   ]
  },
  {
   "cell_type": "markdown",
   "metadata": {},
   "source": [
    "### case 3-2\n",
    "$\\bar{M}^{el}=\\langle M^{el}\\rangle$"
   ]
  },
  {
   "cell_type": "code",
   "execution_count": 43,
   "metadata": {},
   "outputs": [],
   "source": [
    "m=np.zeros(c.shape)\n",
    "for g in range(ngr):\n",
    "    m[:,:,g]=inv(c[:,:,g]) ## getting the inverse "
   ]
  },
  {
   "cell_type": "code",
   "execution_count": 44,
   "metadata": {},
   "outputs": [
    {
     "name": "stdout",
     "output_type": "stream",
     "text": [
      "mbar: [[0.005 0.   ]\n",
      " [0.    0.01 ]]\n"
     ]
    }
   ],
   "source": [
    "mbar=np.zeros((2,2))\n",
    "for i in range(2):\n",
    "    for j in range(2):\n",
    "        for g in range(ngr):\n",
    "            mbar[i,j]=mbar[i,j]+m[i,j,g]*weights[g]\n",
    "print('mbar:',mbar)"
   ]
  },
  {
   "cell_type": "code",
   "execution_count": 45,
   "metadata": {},
   "outputs": [
    {
     "name": "stdout",
     "output_type": "stream",
     "text": [
      "sbar: [5.0e-05 1.5e-04]\n"
     ]
    }
   ],
   "source": [
    "print('sbar:',np.dot(mbar,sbar))"
   ]
  }
 ],
 "metadata": {
  "kernelspec": {
   "display_name": "Python 2",
   "language": "python",
   "name": "python2"
  },
  "language_info": {
   "codemirror_mode": {
    "name": "ipython",
    "version": 2
   },
   "file_extension": ".py",
   "mimetype": "text/x-python",
   "name": "python",
   "nbconvert_exporter": "python",
   "pygments_lexer": "ipython2",
   "version": "2.7.15"
  }
 },
 "nbformat": 4,
 "nbformat_minor": 2
}
