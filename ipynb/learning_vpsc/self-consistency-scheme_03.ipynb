{
 "cells": [
  {
   "cell_type": "code",
   "execution_count": 1,
   "metadata": {},
   "outputs": [
    {
     "name": "stdout",
     "output_type": "stream",
     "text": [
      "Populating the interactive namespace from numpy and matplotlib\n"
     ]
    }
   ],
   "source": [
    "%pylab inline"
   ]
  },
  {
   "cell_type": "markdown",
   "metadata": {},
   "source": [
    "Suppose that we have a local constitutive law such that\n",
    "$$\n",
    "\\varepsilon^{el}=M^{el}:\\sigma\n",
    "$$\n",
    "for each individual grains."
   ]
  },
  {
   "cell_type": "code",
   "execution_count": 2,
   "metadata": {},
   "outputs": [],
   "source": [
    "inv=np.linalg.inv"
   ]
  },
  {
   "cell_type": "markdown",
   "metadata": {},
   "source": [
    "-- Transformation rules for (2x1) matrix and (2x2) matrix."
   ]
  },
  {
   "cell_type": "code",
   "execution_count": 3,
   "metadata": {},
   "outputs": [],
   "source": [
    "def trans_2d_vec(a,r):\n",
    "    b=np.zeros(2)\n",
    "    for i in range(2):\n",
    "        for j in range(2):\n",
    "            b[i]=b[i]+r[i,j]*a[j]\n",
    "    return b\n",
    "def trans_2d_ten(a,r):\n",
    "    b=np.zeros((2,2))\n",
    "    for i in range(2):\n",
    "        for j in range(2):\n",
    "            for k in range(2):\n",
    "                for l in range(2):\n",
    "                    b[i,j]=b[i,j]+r[i,k]*r[j,l]*a[k,l]\n",
    "    return b"
   ]
  },
  {
   "cell_type": "code",
   "execution_count": 4,
   "metadata": {},
   "outputs": [],
   "source": [
    "ngr=3\n",
    "weights=np.zeros(ngr)\n",
    "weights[::]=1./ngr"
   ]
  },
  {
   "cell_type": "code",
   "execution_count": 5,
   "metadata": {},
   "outputs": [],
   "source": [
    "thetas=[0,45,90]\n",
    "thetas=np.array(thetas)*np.pi/180. ## to radian\n",
    "R=np.zeros((2,2,len(thetas)))\n",
    "\n",
    "for i in range(len(thetas)):\n",
    "    r=np.zeros((2,2))\n",
    "    r[0,0]=cos(thetas[i])\n",
    "    r[0,1]=-sin(thetas[i])\n",
    "    r[1,0]=sin(thetas[i])\n",
    "    r[1,1]=cos(thetas[i])\n",
    "    R[:,:,i]=r[:,:]"
   ]
  },
  {
   "cell_type": "markdown",
   "metadata": {},
   "source": [
    "- Local elastic modulus"
   ]
  },
  {
   "cell_type": "code",
   "execution_count": 6,
   "metadata": {},
   "outputs": [],
   "source": [
    "c=np.zeros((2,2))\n",
    "c[0,0]=200000\n",
    "c[1,1]=100000"
   ]
  },
  {
   "cell_type": "code",
   "execution_count": 7,
   "metadata": {},
   "outputs": [
    {
     "name": "stdout",
     "output_type": "stream",
     "text": [
      "('c:', array([[200000.,      0.],\n",
      "       [     0., 100000.]]))\n"
     ]
    }
   ],
   "source": [
    "print ('c:',c)"
   ]
  },
  {
   "cell_type": "markdown",
   "metadata": {},
   "source": [
    "## let's calculate the moduli in the lab axes coordinates"
   ]
  },
  {
   "cell_type": "code",
   "execution_count": 8,
   "metadata": {},
   "outputs": [],
   "source": [
    "cgr=np.zeros((2,2,ngr))"
   ]
  },
  {
   "cell_type": "code",
   "execution_count": 9,
   "metadata": {},
   "outputs": [
    {
     "name": "stdout",
     "output_type": "stream",
     "text": [
      "('dum:', array([[200000.,      0.],\n",
      "       [     0., 100000.]]))\n",
      "('dum:', array([[150000.,  50000.],\n",
      "       [ 50000., 150000.]]))\n",
      "('dum:', array([[1.000000e+05, 6.123234e-12],\n",
      "       [6.123234e-12, 2.000000e+05]]))\n"
     ]
    }
   ],
   "source": [
    "for igr in range(ngr):\n",
    "    r=R[:,:,igr]\n",
    "    dum=trans_2d_ten(c,r)\n",
    "    print('dum:',dum)\n",
    "    cgr[:,:,igr]=dum"
   ]
  },
  {
   "cell_type": "code",
   "execution_count": 10,
   "metadata": {},
   "outputs": [
    {
     "name": "stdout",
     "output_type": "stream",
     "text": [
      "('cgr:', array([[[2.000000e+05, 0.000000e+00],\n",
      "        [0.000000e+00, 1.000000e+05]],\n",
      "\n",
      "       [[1.500000e+05, 5.000000e+04],\n",
      "        [5.000000e+04, 1.500000e+05]],\n",
      "\n",
      "       [[1.000000e+05, 6.123234e-12],\n",
      "        [6.123234e-12, 2.000000e+05]]]))\n"
     ]
    }
   ],
   "source": [
    "print('cgr:',cgr.T)"
   ]
  },
  {
   "cell_type": "markdown",
   "metadata": {},
   "source": [
    "- weighted average of elastic stiffness"
   ]
  },
  {
   "cell_type": "code",
   "execution_count": 11,
   "metadata": {},
   "outputs": [],
   "source": [
    "cav=np.zeros((2,2))\n",
    "for igr in range(ngr):\n",
    "    cav[:,:]=cav[:,:]+cgr[:,:,igr]*weights[igr]"
   ]
  },
  {
   "cell_type": "code",
   "execution_count": 12,
   "metadata": {},
   "outputs": [
    {
     "name": "stdout",
     "output_type": "stream",
     "text": [
      "[[150.          16.66666667]\n",
      " [ 16.66666667 150.        ]]\n"
     ]
    }
   ],
   "source": [
    "print(cav/1000)"
   ]
  },
  {
   "cell_type": "code",
   "execution_count": 15,
   "metadata": {},
   "outputs": [
    {
     "data": {
      "text/plain": [
       "array([[ 6.75e-06, -7.50e-07],\n",
       "       [-7.50e-07,  6.75e-06]])"
      ]
     },
     "execution_count": 15,
     "metadata": {},
     "output_type": "execute_result"
    }
   ],
   "source": [
    "inv(cav)"
   ]
  },
  {
   "cell_type": "markdown",
   "metadata": {},
   "source": [
    "* Extreme case 2."
   ]
  },
  {
   "cell_type": "code",
   "execution_count": 21,
   "metadata": {},
   "outputs": [],
   "source": [
    "sgr=cgr.copy()\n",
    "for igr in range(ngr):\n",
    "    dum=cgr[:,:,igr]\n",
    "    sgr[:,:,igr]=inv(dum)"
   ]
  },
  {
   "cell_type": "code",
   "execution_count": 32,
   "metadata": {},
   "outputs": [],
   "source": [
    "sav=np.zeros((2,2))\n",
    "for igr in range(ngr):\n",
    "    sav[:,:]=sav[:,:]+sgr[:,:,igr]*weights[igr]"
   ]
  },
  {
   "cell_type": "code",
   "execution_count": 34,
   "metadata": {},
   "outputs": [
    {
     "name": "stdout",
     "output_type": "stream",
     "text": [
      "[[ 0.009 -0.001]\n",
      " [-0.001  0.009]]\n"
     ]
    }
   ],
   "source": [
    "print sav*100*12"
   ]
  }
 ],
 "metadata": {
  "kernelspec": {
   "display_name": "Python 2",
   "language": "python",
   "name": "python2"
  },
  "language_info": {
   "codemirror_mode": {
    "name": "ipython",
    "version": 2
   },
   "file_extension": ".py",
   "mimetype": "text/x-python",
   "name": "python",
   "nbconvert_exporter": "python",
   "pygments_lexer": "ipython2",
   "version": "2.7.15"
  }
 },
 "nbformat": 4,
 "nbformat_minor": 2
}
