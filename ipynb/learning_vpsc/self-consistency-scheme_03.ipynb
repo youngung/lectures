{
 "cells": [
  {
   "cell_type": "code",
   "execution_count": 1,
   "metadata": {},
   "outputs": [
    {
     "name": "stdout",
     "output_type": "stream",
     "text": [
      "Populating the interactive namespace from numpy and matplotlib\n"
     ]
    }
   ],
   "source": [
    "%pylab inline"
   ]
  },
  {
   "cell_type": "markdown",
   "metadata": {},
   "source": [
    "Suppose that we have a local constitutive law such that\n",
    "$$\n",
    "\\varepsilon^{el}=M^{el}:\\sigma\n",
    "$$\n",
    "for each individual grains."
   ]
  },
  {
   "cell_type": "code",
   "execution_count": 2,
   "metadata": {},
   "outputs": [],
   "source": [
    "inv=np.linalg.inv"
   ]
  },
  {
   "cell_type": "markdown",
   "metadata": {},
   "source": [
    "-- Transformation rules for (2x1) matrix and (2x2) matrix."
   ]
  },
  {
   "cell_type": "code",
   "execution_count": 3,
   "metadata": {},
   "outputs": [],
   "source": [
    "def trans_2d_vec(a,r):\n",
    "    b=np.zeros(2)\n",
    "    for i in range(2):\n",
    "        for j in range(2):\n",
    "            b[i]=b[i]+r[i,j]*a[j]\n",
    "    return b\n",
    "def trans_2d_ten(a,r):\n",
    "    b=np.zeros((2,2))\n",
    "    for i in range(2):\n",
    "        for j in range(2):\n",
    "            for k in range(2):\n",
    "                for l in range(2):\n",
    "                    b[i,j]=b[i,j]+r[i,k]*r[j,l]*a[k,l]\n",
    "    return b"
   ]
  },
  {
   "cell_type": "code",
   "execution_count": 4,
   "metadata": {},
   "outputs": [],
   "source": [
    "ngr=3\n",
    "weights=np.zeros(ngr)\n",
    "weights[::]=1./ngr"
   ]
  },
  {
   "cell_type": "code",
   "execution_count": 5,
   "metadata": {},
   "outputs": [],
   "source": [
    "thetas=[0,45,90]\n",
    "thetas=np.array(thetas)*np.pi/180. ## to radian\n",
    "R=np.zeros((2,2,len(thetas)))\n",
    "\n",
    "for i in range(len(thetas)):\n",
    "    r=np.zeros((2,2))\n",
    "    r[0,0]=cos(thetas[i])\n",
    "    r[0,1]=-sin(thetas[i])\n",
    "    r[1,0]=sin(thetas[i])\n",
    "    r[1,1]=cos(thetas[i])\n",
    "    R[:,:,i]=r[:,:]"
   ]
  },
  {
   "cell_type": "markdown",
   "metadata": {},
   "source": [
    "- Local elastic modulus"
   ]
  },
  {
   "cell_type": "code",
   "execution_count": 6,
   "metadata": {},
   "outputs": [],
   "source": [
    "c=np.zeros((2,2))\n",
    "c[0,0]=200000\n",
    "c[1,1]=100000"
   ]
  },
  {
   "cell_type": "code",
   "execution_count": 7,
   "metadata": {},
   "outputs": [
    {
     "name": "stdout",
     "output_type": "stream",
     "text": [
      "('c:', array([[200000.,      0.],\n",
      "       [     0., 100000.]]))\n"
     ]
    }
   ],
   "source": [
    "print ('c:',c)"
   ]
  },
  {
   "cell_type": "markdown",
   "metadata": {},
   "source": [
    "## let's calculate the moduli in the lab axes coordinates"
   ]
  },
  {
   "cell_type": "code",
   "execution_count": 8,
   "metadata": {},
   "outputs": [],
   "source": [
    "cgr=np.zeros((2,2,ngr))"
   ]
  },
  {
   "cell_type": "code",
   "execution_count": 9,
   "metadata": {},
   "outputs": [
    {
     "name": "stdout",
     "output_type": "stream",
     "text": [
      "('dum:', array([[200000.,      0.],\n",
      "       [     0., 100000.]]))\n",
      "('dum:', array([[150000.,  50000.],\n",
      "       [ 50000., 150000.]]))\n",
      "('dum:', array([[1.000000e+05, 6.123234e-12],\n",
      "       [6.123234e-12, 2.000000e+05]]))\n"
     ]
    }
   ],
   "source": [
    "for igr in range(ngr):\n",
    "    r=R[:,:,igr]\n",
    "    dum=trans_2d_ten(c,r)\n",
    "    print('dum:',dum)\n",
    "    cgr[:,:,igr]=dum"
   ]
  },
  {
   "cell_type": "code",
   "execution_count": 10,
   "metadata": {},
   "outputs": [
    {
     "name": "stdout",
     "output_type": "stream",
     "text": [
      "('cgr:', array([[[2.000000e+05, 0.000000e+00],\n",
      "        [0.000000e+00, 1.000000e+05]],\n",
      "\n",
      "       [[1.500000e+05, 5.000000e+04],\n",
      "        [5.000000e+04, 1.500000e+05]],\n",
      "\n",
      "       [[1.000000e+05, 6.123234e-12],\n",
      "        [6.123234e-12, 2.000000e+05]]]))\n"
     ]
    }
   ],
   "source": [
    "print('cgr:',cgr.T)"
   ]
  },
  {
   "cell_type": "markdown",
   "metadata": {},
   "source": [
    "- weighted average of elastic stiffness"
   ]
  },
  {
   "cell_type": "code",
   "execution_count": 11,
   "metadata": {},
   "outputs": [],
   "source": [
    "cav=np.zeros((2,2))\n",
    "for igr in range(ngr):\n",
    "    cav[:,:]=cav[:,:]+cgr[:,:,igr]*weights[igr]"
   ]
  },
  {
   "cell_type": "code",
   "execution_count": 12,
   "metadata": {},
   "outputs": [
    {
     "name": "stdout",
     "output_type": "stream",
     "text": [
      "[[150.          16.66666667]\n",
      " [ 16.66666667 150.        ]]\n"
     ]
    }
   ],
   "source": [
    "print(cav/1000)"
   ]
  },
  {
   "cell_type": "code",
   "execution_count": 13,
   "metadata": {},
   "outputs": [
    {
     "name": "stdout",
     "output_type": "stream",
     "text": [
      "[[ 6.75e-06 -7.50e-07]\n",
      " [-7.50e-07  6.75e-06]]\n"
     ]
    }
   ],
   "source": [
    "sav1=inv(cav)\n",
    "print sav1"
   ]
  },
  {
   "cell_type": "markdown",
   "metadata": {},
   "source": [
    "* Extreme case 2."
   ]
  },
  {
   "cell_type": "code",
   "execution_count": 14,
   "metadata": {},
   "outputs": [],
   "source": [
    "sgr=cgr.copy()\n",
    "for igr in range(ngr):\n",
    "    dum=cgr[:,:,igr]\n",
    "    sgr[:,:,igr]=inv(dum)"
   ]
  },
  {
   "cell_type": "code",
   "execution_count": 15,
   "metadata": {},
   "outputs": [],
   "source": [
    "sav=np.zeros((2,2))\n",
    "for igr in range(ngr):\n",
    "    sav[:,:]=sav[:,:]+sgr[:,:,igr]*weights[igr]"
   ]
  },
  {
   "cell_type": "code",
   "execution_count": 16,
   "metadata": {},
   "outputs": [
    {
     "name": "stdout",
     "output_type": "stream",
     "text": [
      "[[ 0.009 -0.001]\n",
      " [-0.001  0.009]]\n"
     ]
    }
   ],
   "source": [
    "print sav*100*12"
   ]
  },
  {
   "cell_type": "code",
   "execution_count": 17,
   "metadata": {},
   "outputs": [
    {
     "name": "stdout",
     "output_type": "stream",
     "text": [
      "[[ 7.50000000e-06 -8.33333333e-07]\n",
      " [-8.33333333e-07  7.50000000e-06]]\n"
     ]
    }
   ],
   "source": [
    "sav2=sav[::]\n",
    "print sav2"
   ]
  },
  {
   "cell_type": "markdown",
   "metadata": {},
   "source": [
    "** Let's load our polycrystal"
   ]
  },
  {
   "cell_type": "code",
   "execution_count": 18,
   "metadata": {},
   "outputs": [],
   "source": [
    "sig=[100,200]"
   ]
  },
  {
   "cell_type": "markdown",
   "metadata": {},
   "source": [
    "- Case 1"
   ]
  },
  {
   "cell_type": "code",
   "execution_count": 19,
   "metadata": {},
   "outputs": [
    {
     "name": "stdout",
     "output_type": "stream",
     "text": [
      "[0.000525 0.001275]\n"
     ]
    }
   ],
   "source": [
    "eps1=np.dot(sav1,sig)\n",
    "print eps1"
   ]
  },
  {
   "cell_type": "code",
   "execution_count": 20,
   "metadata": {},
   "outputs": [
    {
     "name": "stdout",
     "output_type": "stream",
     "text": [
      "0.0005249999999999999\n",
      "0.0012749999999999999\n"
     ]
    }
   ],
   "source": [
    "for i in range(2):\n",
    "    dum=0\n",
    "    for j in range(2):\n",
    "        dum=dum+sav1[i,j]*sig[j]\n",
    "    print dum"
   ]
  },
  {
   "cell_type": "markdown",
   "metadata": {},
   "source": [
    "- Case 2"
   ]
  },
  {
   "cell_type": "code",
   "execution_count": 21,
   "metadata": {},
   "outputs": [
    {
     "name": "stdout",
     "output_type": "stream",
     "text": [
      "[0.00058333 0.00141667]\n"
     ]
    }
   ],
   "source": [
    "eps2=np.dot(sav2,sig)\n",
    "print eps2"
   ]
  },
  {
   "cell_type": "markdown",
   "metadata": {},
   "source": [
    "- Static condition - same stress for all grains as macroscopically given"
   ]
  },
  {
   "cell_type": "code",
   "execution_count": 22,
   "metadata": {},
   "outputs": [],
   "source": [
    "sg=np.zeros((2,ngr))"
   ]
  },
  {
   "cell_type": "code",
   "execution_count": 23,
   "metadata": {},
   "outputs": [],
   "source": [
    "for igr in range(ngr):\n",
    "    sg[:,igr]=sig[::]"
   ]
  },
  {
   "cell_type": "markdown",
   "metadata": {},
   "source": [
    "- Calculate epsilon el for each grain"
   ]
  },
  {
   "cell_type": "code",
   "execution_count": 24,
   "metadata": {},
   "outputs": [
    {
     "data": {
      "text/plain": [
       "array([[ 1.000000e-05, -3.061617e-22],\n",
       "       [-3.061617e-22,  5.000000e-06]])"
      ]
     },
     "execution_count": 24,
     "metadata": {},
     "output_type": "execute_result"
    }
   ],
   "source": [
    "sgr[:,:,igr]"
   ]
  },
  {
   "cell_type": "code",
   "execution_count": 25,
   "metadata": {},
   "outputs": [
    {
     "name": "stdout",
     "output_type": "stream",
     "text": [
      "[0.1 0.2]\n",
      "[[5.e-06 0.e+00]\n",
      " [0.e+00 1.e-05]]\n",
      "----\n",
      "[0.1 0.2]\n",
      "[[ 7.5e-06 -2.5e-06]\n",
      " [-2.5e-06  7.5e-06]]\n",
      "----\n",
      "[0.1 0.2]\n",
      "[[ 1.000000e-05 -3.061617e-22]\n",
      " [-3.061617e-22  5.000000e-06]]\n",
      "----\n"
     ]
    }
   ],
   "source": [
    "eel=np.zeros((2,ngr))\n",
    "for igr in range(ngr):\n",
    "    sx=sg[:,igr]/1000. # convert MPa GPa\n",
    "    compliance=sgr[:,:,igr]\n",
    "    print sx\n",
    "    print compliance\n",
    "    print '----'\n",
    "    eel[:,igr]=np.dot(compliance,sx)"
   ]
  },
  {
   "cell_type": "markdown",
   "metadata": {},
   "source": [
    "## calculate weighted average of elastic strains"
   ]
  },
  {
   "cell_type": "code",
   "execution_count": 26,
   "metadata": {},
   "outputs": [],
   "source": [
    "eav=np.zeros(2)\n",
    "for igr in range(ngr):\n",
    "    eav=eav+eel[:,igr]*weights[igr]"
   ]
  },
  {
   "cell_type": "code",
   "execution_count": 27,
   "metadata": {},
   "outputs": [
    {
     "name": "stdout",
     "output_type": "stream",
     "text": [
      "The weighted average of elastic strain: [5.83333333e-07 1.41666667e-06]\n"
     ]
    }
   ],
   "source": [
    "print 'The weighted average of elastic strain:',eav"
   ]
  }
 ],
 "metadata": {
  "kernelspec": {
   "display_name": "Python 2",
   "language": "python",
   "name": "python2"
  },
  "language_info": {
   "codemirror_mode": {
    "name": "ipython",
    "version": 2
   },
   "file_extension": ".py",
   "mimetype": "text/x-python",
   "name": "python",
   "nbconvert_exporter": "python",
   "pygments_lexer": "ipython2",
   "version": "2.7.16"
  }
 },
 "nbformat": 4,
 "nbformat_minor": 2
}
